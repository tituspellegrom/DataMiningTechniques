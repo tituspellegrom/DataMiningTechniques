{
 "cells": [
  {
   "cell_type": "code",
   "execution_count": null,
   "metadata": {},
   "outputs": [],
   "source": [
    "from tqdm import tqdm\n",
    "from statsmodels.tsa.stattools import adfuller\n",
    "from statsmodels.graphics.tsaplots import plot_acf, plot_pacf\n",
    "from pmdarima.arima.utils import ndiffs"
   ]
  },
  {
   "cell_type": "code",
   "execution_count": null,
   "metadata": {},
   "outputs": [],
   "source": [
    "df_daily = pd.read_pickle(\"data_clean_daily.pkl\")"
   ]
  },
  {
   "cell_type": "code",
   "execution_count": null,
   "metadata": {},
   "outputs": [],
   "source": [
    "def ADF_test(df):    \n",
    "    df.set_index('date')\n",
    "\n",
    "    # Augmented Dickey Fuller test: \n",
    "    # p-value < 0.05? --> time-series is stationary\n",
    "    # p-value > 0.05? --> time-series is non-stationary\n",
    "    result = adfuller(df['mood_score'])\n",
    "    print('Augmented Dickey Fuller test for ', user)\n",
    "    print('ADF Statistic: %f' % result[0])\n",
    "    print('p-value: %f' % result[1])\n",
    "    print()"
   ]
  },
  {
   "cell_type": "code",
   "execution_count": null,
   "metadata": {},
   "outputs": [],
   "source": [
    "df_arima = pd.DataFrame()\n",
    "df_arima['id'] = df_daily['id'].copy()\n",
    "df_arima['date'] = df_daily['time'].copy()\n",
    "df_arima['mood_score'] = list(df_daily['mood']['mean'].copy())\n",
    "len(df_arima)"
   ]
  },
  {
   "cell_type": "code",
   "execution_count": null,
   "metadata": {},
   "outputs": [],
   "source": [
    "df_arima"
   ]
  },
  {
   "cell_type": "code",
   "execution_count": null,
   "metadata": {},
   "outputs": [],
   "source": [
    "df_user1 = df_arima[df_arima['id']=='AS14.01']"
   ]
  },
  {
   "cell_type": "code",
   "execution_count": null,
   "metadata": {},
   "outputs": [],
   "source": [
    "def plot_user(df, title='Mood'):\n",
    "    plt.figure(figsize=(16,6), dpi=100)\n",
    "    plt.plot(df['date'], df['mood_score'], color='tab:red')\n",
    "    plt.gca().set(title=title, xlabel='Date', ylabel='Mood score')\n",
    "    plt.show()"
   ]
  },
  {
   "cell_type": "code",
   "execution_count": null,
   "metadata": {},
   "outputs": [],
   "source": [
    "plot_user(df_user1, 'Mood for user 1')"
   ]
  },
  {
   "cell_type": "code",
   "execution_count": null,
   "metadata": {},
   "outputs": [],
   "source": [
    "df_arima = df_arima[~df_arima['mood_score'].isna()]"
   ]
  },
  {
   "cell_type": "code",
   "execution_count": null,
   "metadata": {},
   "outputs": [],
   "source": [
    "ADF_test(df_user1)"
   ]
  },
  {
   "cell_type": "code",
   "execution_count": null,
   "metadata": {},
   "outputs": [],
   "source": [
    "def plot_diff(df):\n",
    "    plt.rcParams.update({'figure.figsize':(9,7), 'figure.dpi':120})\n",
    "    \n",
    "    # Original Series\n",
    "    fig, axes = plt.subplots(3, 2, sharex=True)\n",
    "    axes[0, 0].plot(df['mood_score']); axes[0, 0].set_title('Original Series')\n",
    "    plot_acf(df['mood_score'], ax=axes[0, 1], lags = len(df['mood_score'])-1)\n",
    "                \n",
    "    # 1st Differencing\n",
    "    axes[1, 0].plot(df['mood_score'].diff()); axes[1, 0].set_title('1st Order Differencing')\n",
    "    plot_acf(df['mood_score'].diff().dropna(), ax = axes[1, 1], lags= len(df['mood_score'])-2)\n",
    "                \n",
    "    # 2nd Differencing\n",
    "    axes[2, 0].plot(df['mood_score'].diff().diff()); axes[2, 0].set_title('2nd Order Differencing')\n",
    "    plot_acf(df['mood_score'].diff().diff().dropna(), ax=axes[2, 1], lags= len(df['mood_score'])-3)\n",
    "\n",
    "    plt.show()"
   ]
  },
  {
   "cell_type": "code",
   "execution_count": null,
   "metadata": {},
   "outputs": [],
   "source": [
    "plot_diff(df_user1)"
   ]
  },
  {
   "cell_type": "code",
   "execution_count": null,
   "metadata": {},
   "outputs": [],
   "source": [
    "def stat_tests(df):\n",
    "    ## Adf Test\n",
    "    print(\"ADF: \" +str(ndiffs(df['mood_score'], test='adf')) )\n",
    "    # KPSS test\n",
    "    print(\"KPSS: \" + str( ndiffs(df['mood_score'], test='kpss')) )\n",
    "    # PP test:\n",
    "    print(\"PP: \" + str( ndiffs(df['mood_score'], test='pp')) )"
   ]
  },
  {
   "cell_type": "code",
   "execution_count": null,
   "metadata": {},
   "outputs": [],
   "source": [
    "stat_tests(df_user1)"
   ]
  },
  {
   "cell_type": "code",
   "execution_count": null,
   "metadata": {},
   "outputs": [],
   "source": [
    "# PACF plot of 1st differenced series\n",
    "plt.rcParams.update({'figure.figsize':(9,3), 'figure.dpi':120})\n",
    "\n",
    "fig, axes = plt.subplots(1, 2, sharex=True)\n",
    "axes[0].plot(df_user1['mood_score'].diff()); axes[0].set_title('1st Differencing')\n",
    "axes[1].set(ylim=(0,5))\n",
    "plot_pacf(df_user1['mood_score'].diff().dropna(), ax=axes[1], lags=(len(df_user1['mood_score'])/2)-1)\n",
    "\n",
    "plt.show()"
   ]
  }
 ],
 "metadata": {
  "kernelspec": {
   "display_name": "DMT",
   "language": "python",
   "name": "dmt"
  },
  "language_info": {
   "codemirror_mode": {
    "name": "ipython",
    "version": 3
   },
   "file_extension": ".py",
   "mimetype": "text/x-python",
   "name": "python",
   "nbconvert_exporter": "python",
   "pygments_lexer": "ipython3",
   "version": "3.7.10"
  }
 },
 "nbformat": 4,
 "nbformat_minor": 4
}
