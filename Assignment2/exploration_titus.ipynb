{
 "cells": [
  {
   "cell_type": "markdown",
   "metadata": {
    "pycharm": {
     "name": "#%% md\n"
    }
   },
   "source": [
    "# Data Exploration"
   ]
  },
  {
   "cell_type": "markdown",
   "metadata": {
    "pycharm": {
     "name": "#%% md\n"
    }
   },
   "source": [
    "### Imports\n"
   ]
  },
  {
   "cell_type": "code",
   "execution_count": 25,
   "metadata": {
    "pycharm": {
     "name": "#%%\n"
    }
   },
   "outputs": [],
   "source": [
    "import pandas as pd\n",
    "import numpy as np\n",
    "from tqdm import tqdm\n"
   ]
  },
  {
   "cell_type": "markdown",
   "metadata": {
    "pycharm": {
     "name": "#%% md\n"
    }
   },
   "source": [
    "<div class=\"alert alert-block alert-warning\">\n",
    "<b>Dask:</b> Multiprocessing package that can be used for (almost all) Pandas & Scikit-learn functionality.\n",
    " Ships with Anaconda, but not with MiniConda.\n",
    "</div>"
   ]
  },
  {
   "cell_type": "code",
   "execution_count": 26,
   "metadata": {
    "pycharm": {
     "name": "#%%\n"
    }
   },
   "outputs": [],
   "source": [
    "# from sklearn.grid_search import GridSearchCV\n",
    "#from dklearn.grid_search import GridSearchCV   # voorbeeld van dklearn => dit gaan we zeker nodig hebben bij hyperopt etc.\n",
    "# from dask.distributed import Client\n",
    "# client = Client() # often http://localhost:8787/status"
   ]
  },
  {
   "cell_type": "markdown",
   "metadata": {},
   "source": [
    "### Load Data In"
   ]
  },
  {
   "cell_type": "code",
   "metadata": {
    "pycharm": {
     "name": "#%%\n"
    }
   },
   "source": [],
   "execution_count": 26,
   "outputs": []
  },
  {
   "cell_type": "code",
   "execution_count": 27,
   "outputs": [
    {
     "data": {
      "text/plain": "         srch_id           date_time  site_id  visitor_location_country_id  \\\n0              1 2013-04-04 08:32:15       12                          187   \n1              1 2013-04-04 08:32:15       12                          187   \n2              1 2013-04-04 08:32:15       12                          187   \n3              1 2013-04-04 08:32:15       12                          187   \n4              1 2013-04-04 08:32:15       12                          187   \n...          ...                 ...      ...                          ...   \n4958342   332785 2013-06-30 19:55:18        5                          219   \n4958343   332785 2013-06-30 19:55:18        5                          219   \n4958344   332785 2013-06-30 19:55:18        5                          219   \n4958345   332785 2013-06-30 19:55:18        5                          219   \n4958346   332785 2013-06-30 19:55:18        5                          219   \n\n         visitor_hist_starrating  visitor_hist_adr_usd  prop_country_id  \\\n0                            NaN                   NaN              219   \n1                            NaN                   NaN              219   \n2                            NaN                   NaN              219   \n3                            NaN                   NaN              219   \n4                            NaN                   NaN              219   \n...                          ...                   ...              ...   \n4958342                      NaN                   NaN              219   \n4958343                      NaN                   NaN              219   \n4958344                      NaN                   NaN              219   \n4958345                      NaN                   NaN              219   \n4958346                      NaN                   NaN              219   \n\n         prop_id  prop_starrating  prop_review_score  ...  \\\n0            893                3                3.5  ...   \n1          10404                4                4.0  ...   \n2          21315                3                4.5  ...   \n3          27348                2                4.0  ...   \n4          29604                4                3.5  ...   \n...          ...              ...                ...  ...   \n4958342    77700                3                4.0  ...   \n4958343    88083                3                4.0  ...   \n4958344    94508                3                3.5  ...   \n4958345   128360                3                5.0  ...   \n4958346   134949                3                2.5  ...   \n\n         comp6_rate_percent_diff  comp7_rate  comp7_inv  \\\n0                            NaN         NaN        NaN   \n1                            NaN         NaN        NaN   \n2                            NaN         NaN        NaN   \n3                            NaN         NaN        NaN   \n4                            NaN         NaN        NaN   \n...                          ...         ...        ...   \n4958342                      NaN         NaN        NaN   \n4958343                      NaN         NaN        NaN   \n4958344                      NaN         NaN        NaN   \n4958345                      NaN         NaN        NaN   \n4958346                      NaN         NaN        NaN   \n\n         comp7_rate_percent_diff  comp8_rate  comp8_inv  \\\n0                            NaN         0.0        0.0   \n1                            NaN         0.0        0.0   \n2                            NaN         0.0        0.0   \n3                            NaN        -1.0        0.0   \n4                            NaN         0.0        0.0   \n...                          ...         ...        ...   \n4958342                      NaN         NaN        NaN   \n4958343                      NaN         NaN        NaN   \n4958344                      NaN         NaN        NaN   \n4958345                      NaN         NaN        NaN   \n4958346                      NaN         NaN        NaN   \n\n         comp8_rate_percent_diff  click_bool  gross_bookings_usd  booking_bool  \n0                            NaN           0                 NaN             0  \n1                            NaN           0                 NaN             0  \n2                            NaN           0                 NaN             0  \n3                            5.0           0                 NaN             0  \n4                            NaN           0                 NaN             0  \n...                          ...         ...                 ...           ...  \n4958342                      NaN           0                 NaN             0  \n4958343                      NaN           0                 NaN             0  \n4958344                      NaN           0                 NaN             0  \n4958345                      NaN           1              157.84             1  \n4958346                      NaN           0                 NaN             0  \n\n[4958347 rows x 54 columns]",
      "text/html": "<div>\n<style scoped>\n    .dataframe tbody tr th:only-of-type {\n        vertical-align: middle;\n    }\n\n    .dataframe tbody tr th {\n        vertical-align: top;\n    }\n\n    .dataframe thead th {\n        text-align: right;\n    }\n</style>\n<table border=\"1\" class=\"dataframe\">\n  <thead>\n    <tr style=\"text-align: right;\">\n      <th></th>\n      <th>srch_id</th>\n      <th>date_time</th>\n      <th>site_id</th>\n      <th>visitor_location_country_id</th>\n      <th>visitor_hist_starrating</th>\n      <th>visitor_hist_adr_usd</th>\n      <th>prop_country_id</th>\n      <th>prop_id</th>\n      <th>prop_starrating</th>\n      <th>prop_review_score</th>\n      <th>...</th>\n      <th>comp6_rate_percent_diff</th>\n      <th>comp7_rate</th>\n      <th>comp7_inv</th>\n      <th>comp7_rate_percent_diff</th>\n      <th>comp8_rate</th>\n      <th>comp8_inv</th>\n      <th>comp8_rate_percent_diff</th>\n      <th>click_bool</th>\n      <th>gross_bookings_usd</th>\n      <th>booking_bool</th>\n    </tr>\n  </thead>\n  <tbody>\n    <tr>\n      <th>0</th>\n      <td>1</td>\n      <td>2013-04-04 08:32:15</td>\n      <td>12</td>\n      <td>187</td>\n      <td>NaN</td>\n      <td>NaN</td>\n      <td>219</td>\n      <td>893</td>\n      <td>3</td>\n      <td>3.5</td>\n      <td>...</td>\n      <td>NaN</td>\n      <td>NaN</td>\n      <td>NaN</td>\n      <td>NaN</td>\n      <td>0.0</td>\n      <td>0.0</td>\n      <td>NaN</td>\n      <td>0</td>\n      <td>NaN</td>\n      <td>0</td>\n    </tr>\n    <tr>\n      <th>1</th>\n      <td>1</td>\n      <td>2013-04-04 08:32:15</td>\n      <td>12</td>\n      <td>187</td>\n      <td>NaN</td>\n      <td>NaN</td>\n      <td>219</td>\n      <td>10404</td>\n      <td>4</td>\n      <td>4.0</td>\n      <td>...</td>\n      <td>NaN</td>\n      <td>NaN</td>\n      <td>NaN</td>\n      <td>NaN</td>\n      <td>0.0</td>\n      <td>0.0</td>\n      <td>NaN</td>\n      <td>0</td>\n      <td>NaN</td>\n      <td>0</td>\n    </tr>\n    <tr>\n      <th>2</th>\n      <td>1</td>\n      <td>2013-04-04 08:32:15</td>\n      <td>12</td>\n      <td>187</td>\n      <td>NaN</td>\n      <td>NaN</td>\n      <td>219</td>\n      <td>21315</td>\n      <td>3</td>\n      <td>4.5</td>\n      <td>...</td>\n      <td>NaN</td>\n      <td>NaN</td>\n      <td>NaN</td>\n      <td>NaN</td>\n      <td>0.0</td>\n      <td>0.0</td>\n      <td>NaN</td>\n      <td>0</td>\n      <td>NaN</td>\n      <td>0</td>\n    </tr>\n    <tr>\n      <th>3</th>\n      <td>1</td>\n      <td>2013-04-04 08:32:15</td>\n      <td>12</td>\n      <td>187</td>\n      <td>NaN</td>\n      <td>NaN</td>\n      <td>219</td>\n      <td>27348</td>\n      <td>2</td>\n      <td>4.0</td>\n      <td>...</td>\n      <td>NaN</td>\n      <td>NaN</td>\n      <td>NaN</td>\n      <td>NaN</td>\n      <td>-1.0</td>\n      <td>0.0</td>\n      <td>5.0</td>\n      <td>0</td>\n      <td>NaN</td>\n      <td>0</td>\n    </tr>\n    <tr>\n      <th>4</th>\n      <td>1</td>\n      <td>2013-04-04 08:32:15</td>\n      <td>12</td>\n      <td>187</td>\n      <td>NaN</td>\n      <td>NaN</td>\n      <td>219</td>\n      <td>29604</td>\n      <td>4</td>\n      <td>3.5</td>\n      <td>...</td>\n      <td>NaN</td>\n      <td>NaN</td>\n      <td>NaN</td>\n      <td>NaN</td>\n      <td>0.0</td>\n      <td>0.0</td>\n      <td>NaN</td>\n      <td>0</td>\n      <td>NaN</td>\n      <td>0</td>\n    </tr>\n    <tr>\n      <th>...</th>\n      <td>...</td>\n      <td>...</td>\n      <td>...</td>\n      <td>...</td>\n      <td>...</td>\n      <td>...</td>\n      <td>...</td>\n      <td>...</td>\n      <td>...</td>\n      <td>...</td>\n      <td>...</td>\n      <td>...</td>\n      <td>...</td>\n      <td>...</td>\n      <td>...</td>\n      <td>...</td>\n      <td>...</td>\n      <td>...</td>\n      <td>...</td>\n      <td>...</td>\n      <td>...</td>\n    </tr>\n    <tr>\n      <th>4958342</th>\n      <td>332785</td>\n      <td>2013-06-30 19:55:18</td>\n      <td>5</td>\n      <td>219</td>\n      <td>NaN</td>\n      <td>NaN</td>\n      <td>219</td>\n      <td>77700</td>\n      <td>3</td>\n      <td>4.0</td>\n      <td>...</td>\n      <td>NaN</td>\n      <td>NaN</td>\n      <td>NaN</td>\n      <td>NaN</td>\n      <td>NaN</td>\n      <td>NaN</td>\n      <td>NaN</td>\n      <td>0</td>\n      <td>NaN</td>\n      <td>0</td>\n    </tr>\n    <tr>\n      <th>4958343</th>\n      <td>332785</td>\n      <td>2013-06-30 19:55:18</td>\n      <td>5</td>\n      <td>219</td>\n      <td>NaN</td>\n      <td>NaN</td>\n      <td>219</td>\n      <td>88083</td>\n      <td>3</td>\n      <td>4.0</td>\n      <td>...</td>\n      <td>NaN</td>\n      <td>NaN</td>\n      <td>NaN</td>\n      <td>NaN</td>\n      <td>NaN</td>\n      <td>NaN</td>\n      <td>NaN</td>\n      <td>0</td>\n      <td>NaN</td>\n      <td>0</td>\n    </tr>\n    <tr>\n      <th>4958344</th>\n      <td>332785</td>\n      <td>2013-06-30 19:55:18</td>\n      <td>5</td>\n      <td>219</td>\n      <td>NaN</td>\n      <td>NaN</td>\n      <td>219</td>\n      <td>94508</td>\n      <td>3</td>\n      <td>3.5</td>\n      <td>...</td>\n      <td>NaN</td>\n      <td>NaN</td>\n      <td>NaN</td>\n      <td>NaN</td>\n      <td>NaN</td>\n      <td>NaN</td>\n      <td>NaN</td>\n      <td>0</td>\n      <td>NaN</td>\n      <td>0</td>\n    </tr>\n    <tr>\n      <th>4958345</th>\n      <td>332785</td>\n      <td>2013-06-30 19:55:18</td>\n      <td>5</td>\n      <td>219</td>\n      <td>NaN</td>\n      <td>NaN</td>\n      <td>219</td>\n      <td>128360</td>\n      <td>3</td>\n      <td>5.0</td>\n      <td>...</td>\n      <td>NaN</td>\n      <td>NaN</td>\n      <td>NaN</td>\n      <td>NaN</td>\n      <td>NaN</td>\n      <td>NaN</td>\n      <td>NaN</td>\n      <td>1</td>\n      <td>157.84</td>\n      <td>1</td>\n    </tr>\n    <tr>\n      <th>4958346</th>\n      <td>332785</td>\n      <td>2013-06-30 19:55:18</td>\n      <td>5</td>\n      <td>219</td>\n      <td>NaN</td>\n      <td>NaN</td>\n      <td>219</td>\n      <td>134949</td>\n      <td>3</td>\n      <td>2.5</td>\n      <td>...</td>\n      <td>NaN</td>\n      <td>NaN</td>\n      <td>NaN</td>\n      <td>NaN</td>\n      <td>NaN</td>\n      <td>NaN</td>\n      <td>NaN</td>\n      <td>0</td>\n      <td>NaN</td>\n      <td>0</td>\n    </tr>\n  </tbody>\n</table>\n<p>4958347 rows × 54 columns</p>\n</div>"
     },
     "metadata": {},
     "output_type": "display_data"
    }
   ],
   "source": [
    "df = pd.read_csv('2nd-assignment-dmt-2021/training_set_VU_DM.csv', parse_dates=['date_time'])\n",
    "display(df)"
   ],
   "metadata": {
    "collapsed": false,
    "pycharm": {
     "name": "#%%timeit -n 1 -r 1\n"
    }
   }
  },
  {
   "cell_type": "code",
   "execution_count": 28,
   "metadata": {},
   "outputs": [
    {
     "name": "stdout",
     "output_type": "stream",
     "text": [
      "Size in Memory: 2043 MB\n"
     ]
    }
   ],
   "source": [
    "mem_size = df.memory_usage(index=True).sum() / 1_024**2\n",
    "\n",
    "print(f\"Size in Memory: {mem_size:.0f} MB\")"
   ]
  },
  {
   "cell_type": "code",
   "execution_count": 29,
   "metadata": {},
   "outputs": [
    {
     "data": {
      "text/plain": "srch_id                                 int64\ndate_time                      datetime64[ns]\nsite_id                                 int64\nvisitor_location_country_id             int64\nvisitor_hist_starrating               float64\nvisitor_hist_adr_usd                  float64\nprop_country_id                         int64\nprop_id                                 int64\nprop_starrating                         int64\nprop_review_score                     float64\nprop_brand_bool                         int64\nprop_location_score1                  float64\nprop_location_score2                  float64\nprop_log_historical_price             float64\nposition                                int64\nprice_usd                             float64\npromotion_flag                          int64\nsrch_destination_id                     int64\nsrch_length_of_stay                     int64\nsrch_booking_window                     int64\nsrch_adults_count                       int64\nsrch_children_count                     int64\nsrch_room_count                         int64\nsrch_saturday_night_bool                int64\nsrch_query_affinity_score             float64\norig_destination_distance             float64\nrandom_bool                             int64\ncomp1_rate                            float64\ncomp1_inv                             float64\ncomp1_rate_percent_diff               float64\ncomp2_rate                            float64\ncomp2_inv                             float64\ncomp2_rate_percent_diff               float64\ncomp3_rate                            float64\ncomp3_inv                             float64\ncomp3_rate_percent_diff               float64\ncomp4_rate                            float64\ncomp4_inv                             float64\ncomp4_rate_percent_diff               float64\ncomp5_rate                            float64\ncomp5_inv                             float64\ncomp5_rate_percent_diff               float64\ncomp6_rate                            float64\ncomp6_inv                             float64\ncomp6_rate_percent_diff               float64\ncomp7_rate                            float64\ncomp7_inv                             float64\ncomp7_rate_percent_diff               float64\ncomp8_rate                            float64\ncomp8_inv                             float64\ncomp8_rate_percent_diff               float64\nclick_bool                              int64\ngross_bookings_usd                    float64\nbooking_bool                            int64\ndtype: object"
     },
     "metadata": {},
     "output_type": "display_data"
    },
    {
     "data": {
      "text/plain": "            srch_id       site_id  visitor_location_country_id  \\\ncount  4.958347e+06  4.958347e+06                 4.958347e+06   \nmean   1.663666e+05  9.953133e+00                 1.753405e+02   \nstd    9.611223e+04  7.646890e+00                 6.591625e+01   \nmin    1.000000e+00  1.000000e+00                 1.000000e+00   \n25%    8.293600e+04  5.000000e+00                 1.000000e+02   \n50%    1.665070e+05  5.000000e+00                 2.190000e+02   \n75%    2.497240e+05  1.400000e+01                 2.190000e+02   \nmax    3.327850e+05  3.400000e+01                 2.310000e+02   \n\n       visitor_hist_starrating  visitor_hist_adr_usd  prop_country_id  \\\ncount            251866.000000         252988.000000     4.958347e+06   \nmean                  3.374334            176.022659     1.739739e+02   \nstd                   0.692519            107.254493     6.834525e+01   \nmin                   1.410000              0.000000     1.000000e+00   \n25%                   2.920000            109.810000     1.000000e+02   \n50%                   3.450000            152.240000     2.190000e+02   \n75%                   3.930000            213.490000     2.190000e+02   \nmax                   5.000000           1958.700000     2.300000e+02   \n\n            prop_id  prop_starrating  prop_review_score  prop_brand_bool  ...  \\\ncount  4.958347e+06     4.958347e+06       4.950983e+06     4.958347e+06  ...   \nmean   7.007918e+04     3.180525e+00       3.777777e+00     6.346994e-01  ...   \nstd    4.060992e+04     1.051024e+00       1.050329e+00     4.815144e-01  ...   \nmin    1.000000e+00     0.000000e+00       0.000000e+00     0.000000e+00  ...   \n25%    3.501000e+04     3.000000e+00       3.500000e+00     0.000000e+00  ...   \n50%    6.963800e+04     3.000000e+00       4.000000e+00     1.000000e+00  ...   \n75%    1.051680e+05     4.000000e+00       4.500000e+00     1.000000e+00  ...   \nmax    1.408210e+05     5.000000e+00       5.000000e+00     1.000000e+00  ...   \n\n       comp6_rate_percent_diff     comp7_rate      comp7_inv  \\\ncount             96174.000000  315348.000000  356422.000000   \nmean                 17.250473       0.145969       0.083202   \nstd                  31.160313       0.578202       0.316722   \nmin                   2.000000      -1.000000      -1.000000   \n25%                   6.000000       0.000000       0.000000   \n50%                  11.000000       0.000000       0.000000   \n75%                  18.000000       1.000000       0.000000   \nmax                1620.000000       1.000000       1.000000   \n\n       comp7_rate_percent_diff    comp8_rate     comp8_inv  \\\ncount            138515.000000  1.916654e+06  1.987503e+06   \nmean                 19.433267 -6.089936e-02  9.962752e-03   \nstd                  54.370221  4.691723e-01  2.029142e-01   \nmin                   2.000000 -1.000000e+00 -1.000000e+00   \n25%                   7.000000  0.000000e+00  0.000000e+00   \n50%                  12.000000  0.000000e+00  0.000000e+00   \n75%                  20.000000  0.000000e+00  0.000000e+00   \nmax                9900.000000  1.000000e+00  1.000000e+00   \n\n       comp8_rate_percent_diff    click_bool  gross_bookings_usd  booking_bool  \ncount            614730.000000  4.958347e+06       138390.000000  4.958347e+06  \nmean                 22.430384  4.474858e-02          386.283316  2.791051e-02  \nstd                 895.965854  2.067514e-01          821.190577  1.647165e-01  \nmin                   2.000000  0.000000e+00            0.000000  0.000000e+00  \n25%                   7.000000  0.000000e+00          124.000000  0.000000e+00  \n50%                  11.000000  0.000000e+00          218.400000  0.000000e+00  \n75%                  17.000000  0.000000e+00          429.790000  0.000000e+00  \nmax              149400.000000  1.000000e+00       159292.380000  1.000000e+00  \n\n[8 rows x 53 columns]",
      "text/html": "<div>\n<style scoped>\n    .dataframe tbody tr th:only-of-type {\n        vertical-align: middle;\n    }\n\n    .dataframe tbody tr th {\n        vertical-align: top;\n    }\n\n    .dataframe thead th {\n        text-align: right;\n    }\n</style>\n<table border=\"1\" class=\"dataframe\">\n  <thead>\n    <tr style=\"text-align: right;\">\n      <th></th>\n      <th>srch_id</th>\n      <th>site_id</th>\n      <th>visitor_location_country_id</th>\n      <th>visitor_hist_starrating</th>\n      <th>visitor_hist_adr_usd</th>\n      <th>prop_country_id</th>\n      <th>prop_id</th>\n      <th>prop_starrating</th>\n      <th>prop_review_score</th>\n      <th>prop_brand_bool</th>\n      <th>...</th>\n      <th>comp6_rate_percent_diff</th>\n      <th>comp7_rate</th>\n      <th>comp7_inv</th>\n      <th>comp7_rate_percent_diff</th>\n      <th>comp8_rate</th>\n      <th>comp8_inv</th>\n      <th>comp8_rate_percent_diff</th>\n      <th>click_bool</th>\n      <th>gross_bookings_usd</th>\n      <th>booking_bool</th>\n    </tr>\n  </thead>\n  <tbody>\n    <tr>\n      <th>count</th>\n      <td>4.958347e+06</td>\n      <td>4.958347e+06</td>\n      <td>4.958347e+06</td>\n      <td>251866.000000</td>\n      <td>252988.000000</td>\n      <td>4.958347e+06</td>\n      <td>4.958347e+06</td>\n      <td>4.958347e+06</td>\n      <td>4.950983e+06</td>\n      <td>4.958347e+06</td>\n      <td>...</td>\n      <td>96174.000000</td>\n      <td>315348.000000</td>\n      <td>356422.000000</td>\n      <td>138515.000000</td>\n      <td>1.916654e+06</td>\n      <td>1.987503e+06</td>\n      <td>614730.000000</td>\n      <td>4.958347e+06</td>\n      <td>138390.000000</td>\n      <td>4.958347e+06</td>\n    </tr>\n    <tr>\n      <th>mean</th>\n      <td>1.663666e+05</td>\n      <td>9.953133e+00</td>\n      <td>1.753405e+02</td>\n      <td>3.374334</td>\n      <td>176.022659</td>\n      <td>1.739739e+02</td>\n      <td>7.007918e+04</td>\n      <td>3.180525e+00</td>\n      <td>3.777777e+00</td>\n      <td>6.346994e-01</td>\n      <td>...</td>\n      <td>17.250473</td>\n      <td>0.145969</td>\n      <td>0.083202</td>\n      <td>19.433267</td>\n      <td>-6.089936e-02</td>\n      <td>9.962752e-03</td>\n      <td>22.430384</td>\n      <td>4.474858e-02</td>\n      <td>386.283316</td>\n      <td>2.791051e-02</td>\n    </tr>\n    <tr>\n      <th>std</th>\n      <td>9.611223e+04</td>\n      <td>7.646890e+00</td>\n      <td>6.591625e+01</td>\n      <td>0.692519</td>\n      <td>107.254493</td>\n      <td>6.834525e+01</td>\n      <td>4.060992e+04</td>\n      <td>1.051024e+00</td>\n      <td>1.050329e+00</td>\n      <td>4.815144e-01</td>\n      <td>...</td>\n      <td>31.160313</td>\n      <td>0.578202</td>\n      <td>0.316722</td>\n      <td>54.370221</td>\n      <td>4.691723e-01</td>\n      <td>2.029142e-01</td>\n      <td>895.965854</td>\n      <td>2.067514e-01</td>\n      <td>821.190577</td>\n      <td>1.647165e-01</td>\n    </tr>\n    <tr>\n      <th>min</th>\n      <td>1.000000e+00</td>\n      <td>1.000000e+00</td>\n      <td>1.000000e+00</td>\n      <td>1.410000</td>\n      <td>0.000000</td>\n      <td>1.000000e+00</td>\n      <td>1.000000e+00</td>\n      <td>0.000000e+00</td>\n      <td>0.000000e+00</td>\n      <td>0.000000e+00</td>\n      <td>...</td>\n      <td>2.000000</td>\n      <td>-1.000000</td>\n      <td>-1.000000</td>\n      <td>2.000000</td>\n      <td>-1.000000e+00</td>\n      <td>-1.000000e+00</td>\n      <td>2.000000</td>\n      <td>0.000000e+00</td>\n      <td>0.000000</td>\n      <td>0.000000e+00</td>\n    </tr>\n    <tr>\n      <th>25%</th>\n      <td>8.293600e+04</td>\n      <td>5.000000e+00</td>\n      <td>1.000000e+02</td>\n      <td>2.920000</td>\n      <td>109.810000</td>\n      <td>1.000000e+02</td>\n      <td>3.501000e+04</td>\n      <td>3.000000e+00</td>\n      <td>3.500000e+00</td>\n      <td>0.000000e+00</td>\n      <td>...</td>\n      <td>6.000000</td>\n      <td>0.000000</td>\n      <td>0.000000</td>\n      <td>7.000000</td>\n      <td>0.000000e+00</td>\n      <td>0.000000e+00</td>\n      <td>7.000000</td>\n      <td>0.000000e+00</td>\n      <td>124.000000</td>\n      <td>0.000000e+00</td>\n    </tr>\n    <tr>\n      <th>50%</th>\n      <td>1.665070e+05</td>\n      <td>5.000000e+00</td>\n      <td>2.190000e+02</td>\n      <td>3.450000</td>\n      <td>152.240000</td>\n      <td>2.190000e+02</td>\n      <td>6.963800e+04</td>\n      <td>3.000000e+00</td>\n      <td>4.000000e+00</td>\n      <td>1.000000e+00</td>\n      <td>...</td>\n      <td>11.000000</td>\n      <td>0.000000</td>\n      <td>0.000000</td>\n      <td>12.000000</td>\n      <td>0.000000e+00</td>\n      <td>0.000000e+00</td>\n      <td>11.000000</td>\n      <td>0.000000e+00</td>\n      <td>218.400000</td>\n      <td>0.000000e+00</td>\n    </tr>\n    <tr>\n      <th>75%</th>\n      <td>2.497240e+05</td>\n      <td>1.400000e+01</td>\n      <td>2.190000e+02</td>\n      <td>3.930000</td>\n      <td>213.490000</td>\n      <td>2.190000e+02</td>\n      <td>1.051680e+05</td>\n      <td>4.000000e+00</td>\n      <td>4.500000e+00</td>\n      <td>1.000000e+00</td>\n      <td>...</td>\n      <td>18.000000</td>\n      <td>1.000000</td>\n      <td>0.000000</td>\n      <td>20.000000</td>\n      <td>0.000000e+00</td>\n      <td>0.000000e+00</td>\n      <td>17.000000</td>\n      <td>0.000000e+00</td>\n      <td>429.790000</td>\n      <td>0.000000e+00</td>\n    </tr>\n    <tr>\n      <th>max</th>\n      <td>3.327850e+05</td>\n      <td>3.400000e+01</td>\n      <td>2.310000e+02</td>\n      <td>5.000000</td>\n      <td>1958.700000</td>\n      <td>2.300000e+02</td>\n      <td>1.408210e+05</td>\n      <td>5.000000e+00</td>\n      <td>5.000000e+00</td>\n      <td>1.000000e+00</td>\n      <td>...</td>\n      <td>1620.000000</td>\n      <td>1.000000</td>\n      <td>1.000000</td>\n      <td>9900.000000</td>\n      <td>1.000000e+00</td>\n      <td>1.000000e+00</td>\n      <td>149400.000000</td>\n      <td>1.000000e+00</td>\n      <td>159292.380000</td>\n      <td>1.000000e+00</td>\n    </tr>\n  </tbody>\n</table>\n<p>8 rows × 53 columns</p>\n</div>"
     },
     "metadata": {},
     "output_type": "display_data"
    }
   ],
   "source": [
    "# Inspect inferred types\n",
    "display(df.dtypes)\n",
    "\n",
    "# Inspect numerical ranges\n",
    "display(df.describe())\n",
    "# print('Min. Values')\n",
    "# print(df.min())\n",
    "#\n",
    "# print('Max. Values')\n",
    "# print(df.max())"
   ]
  },
  {
   "cell_type": "code",
   "execution_count": 30,
   "outputs": [],
   "source": [
    "# data types\n",
    "\n",
    "# # memory + speed improvements\n",
    "# optimal_dtypes = {'srch_id': np.uint32,\n",
    "#                   'site_id': np.uint32,\n",
    "#                   'visitor_location_country_id': np.uint8,\n",
    "#                   'prop_country_id': np.uint8,\n",
    "#                   'prop_id': np.uint32,\n",
    "#                   'prop_starrating': np.uint8,\n",
    "#                   'prop_brand_bool': np.uint8,\n",
    "#                   'promotion_flag': (np.uint8,\n",
    "#                   'srch_destination_id': np.uint16,\n",
    "#                   'srch_length_of_stay': np.uint16,\n",
    "#                   'srch_booking_window': np.uint16,\n",
    "#                   'srch_adults_count': np.uint8,\n",
    "#                   'srch_children_count': np.uint8,  # 255 kids max should suffice\n",
    "#                   'srch_room_count': np.uint8,\n",
    "#                   'srch_saturday_night_bool': np.uint8,\n",
    "#                   'random_bool': np.uint8,\n",
    "#                   'position': np.uint8,\n",
    "#                   'click_bool': np.uint8,\n",
    "#                   'booking_bool': np.uint8}\n",
    "#\n",
    "# for i in range(1, 9):\n",
    "#     optimal_dtypes[f'comp{i}_rate'] = np.int8,\n",
    "#     optimal_dtypes[f'comp{i}_inv'] = np.int8,     # assignment does not specify -1 but is exists??\n",
    "#     # competitor_dtypes[f'comp{i}_rate_percent_diff'] = np.uint\n",
    "\n",
    "\n",
    "# dfn = df.dtypes(optimal_dtypes)\n",
    "# print(dfn.dtypes)\n"
   ],
   "metadata": {
    "collapsed": false,
    "pycharm": {
     "name": "#%%\n"
    }
   }
  },
  {
   "cell_type": "markdown",
   "source": [
    "## Exploration"
   ],
   "metadata": {
    "collapsed": false,
    "pycharm": {
     "name": "#%% md\n"
    }
   }
  },
  {
   "cell_type": "markdown",
   "source": [
    "### Count of unique values per column:"
   ],
   "metadata": {
    "collapsed": false,
    "pycharm": {
     "name": "#%% md\n"
    }
   }
  },
  {
   "cell_type": "code",
   "execution_count": 31,
   "outputs": [
    {
     "data": {
      "text/plain": "srch_id                        199795\ndate_time                      198615\nsite_id                            34\nvisitor_location_country_id       210\nvisitor_hist_starrating           312\nvisitor_hist_adr_usd             7799\nprop_country_id                   172\nprop_id                        129113\nprop_starrating                     6\nprop_review_score                  10\nprop_brand_bool                     2\nprop_location_score1              337\nprop_location_score2             9342\nprop_log_historical_price         392\nposition                           40\nprice_usd                       76465\npromotion_flag                      2\nsrch_destination_id             18127\nsrch_length_of_stay                36\nsrch_booking_window               429\nsrch_adults_count                   9\nsrch_children_count                10\nsrch_room_count                     8\nsrch_saturday_night_bool            2\nsrch_query_affinity_score      199387\norig_destination_distance      530595\nrandom_bool                         2\ncomp1_rate                          3\ncomp1_inv                           3\ncomp1_rate_percent_diff          1830\ncomp2_rate                          3\ncomp2_inv                           3\ncomp2_rate_percent_diff           596\ncomp3_rate                          3\ncomp3_inv                           3\ncomp3_rate_percent_diff           534\ncomp4_rate                          3\ncomp4_inv                           3\ncomp4_rate_percent_diff           482\ncomp5_rate                          3\ncomp5_inv                           3\ncomp5_rate_percent_diff           645\ncomp6_rate                          3\ncomp6_inv                           3\ncomp6_rate_percent_diff           380\ncomp7_rate                          3\ncomp7_inv                           3\ncomp7_rate_percent_diff           585\ncomp8_rate                          3\ncomp8_inv                           3\ncomp8_rate_percent_diff           491\nclick_bool                          2\ngross_bookings_usd              60687\nbooking_bool                        2\ndtype: int64"
     },
     "metadata": {},
     "output_type": "display_data"
    }
   ],
   "source": [
    "uniques = df.nunique()\n",
    "display(uniques)"
   ],
   "metadata": {
    "collapsed": false,
    "pycharm": {
     "name": "#%%\n"
    }
   }
  },
  {
   "cell_type": "markdown",
   "source": [
    "### % missing values per column"
   ],
   "metadata": {
    "collapsed": false,
    "pycharm": {
     "name": "#%% md\n"
    }
   }
  },
  {
   "cell_type": "code",
   "source": [
    "missing_percent = 100 * df.isnull().sum() / df.shape[0]\n",
    "display(missing_percent)\n",
    "\n",
    "filled_columns = missing_percent[missing_percent == 0].index.tolist()\n",
    "print(\"Non-missing columns:\")\n",
    "display(filled_columns)"
   ],
   "metadata": {
    "collapsed": false,
    "pycharm": {
     "name": "#%%\n"
    }
   },
   "execution_count": 32,
   "outputs": [
    {
     "data": {
      "text/plain": "srch_id                         0.000000\ndate_time                       0.000000\nsite_id                         0.000000\nvisitor_location_country_id     0.000000\nvisitor_hist_starrating        94.920364\nvisitor_hist_adr_usd           94.897735\nprop_country_id                 0.000000\nprop_id                         0.000000\nprop_starrating                 0.000000\nprop_review_score               0.148517\nprop_brand_bool                 0.000000\nprop_location_score1            0.000000\nprop_location_score2           21.990151\nprop_log_historical_price       0.000000\nposition                        0.000000\nprice_usd                       0.000000\npromotion_flag                  0.000000\nsrch_destination_id             0.000000\nsrch_length_of_stay             0.000000\nsrch_booking_window             0.000000\nsrch_adults_count               0.000000\nsrch_children_count             0.000000\nsrch_room_count                 0.000000\nsrch_saturday_night_bool        0.000000\nsrch_query_affinity_score      93.598552\norig_destination_distance      32.425766\nrandom_bool                     0.000000\ncomp1_rate                     97.581250\ncomp1_inv                      97.387053\ncomp1_rate_percent_diff        98.095353\ncomp2_rate                     59.166392\ncomp2_inv                      57.036710\ncomp2_rate_percent_diff        88.781786\ncomp3_rate                     69.056462\ncomp3_inv                      66.702814\ncomp3_rate_percent_diff        90.464625\ncomp4_rate                     93.800797\ncomp4_inv                      93.069001\ncomp4_rate_percent_diff        97.356256\ncomp5_rate                     55.179155\ncomp5_inv                      52.403089\ncomp5_rate_percent_diff        83.036706\ncomp6_rate                     95.156511\ncomp6_inv                      94.736633\ncomp6_rate_percent_diff        98.060362\ncomp7_rate                     93.640058\ncomp7_inv                      92.811677\ncomp7_rate_percent_diff        97.206428\ncomp8_rate                     61.344900\ncomp8_inv                      59.916016\ncomp8_rate_percent_diff        87.602118\nclick_bool                      0.000000\ngross_bookings_usd             97.208949\nbooking_bool                    0.000000\ndtype: float64"
     },
     "metadata": {},
     "output_type": "display_data"
    },
    {
     "name": "stdout",
     "output_type": "stream",
     "text": [
      "Non-missing columns:\n"
     ]
    },
    {
     "data": {
      "text/plain": "['srch_id',\n 'date_time',\n 'site_id',\n 'visitor_location_country_id',\n 'prop_country_id',\n 'prop_id',\n 'prop_starrating',\n 'prop_brand_bool',\n 'prop_location_score1',\n 'prop_log_historical_price',\n 'position',\n 'price_usd',\n 'promotion_flag',\n 'srch_destination_id',\n 'srch_length_of_stay',\n 'srch_booking_window',\n 'srch_adults_count',\n 'srch_children_count',\n 'srch_room_count',\n 'srch_saturday_night_bool',\n 'random_bool',\n 'click_bool',\n 'booking_bool']"
     },
     "metadata": {},
     "output_type": "display_data"
    }
   ]
  },
  {
   "cell_type": "markdown",
   "source": [
    "### Searches per website"
   ],
   "metadata": {
    "collapsed": false,
    "pycharm": {
     "name": "#%% md\n"
    }
   }
  },
  {
   "cell_type": "code",
   "execution_count": 33,
   "outputs": [
    {
     "data": {
      "text/plain": "site_id\n5     0.609845\n14    0.096849\n15    0.063645\n24    0.050502\n32    0.035406\n18    0.027198\n16    0.019370\n12    0.015841\n19    0.010070\n22    0.009194\n9     0.009054\n11    0.007092\n7     0.006572\n29    0.006256\n31    0.005656\n26    0.003348\n4     0.002768\n25    0.002658\n23    0.002528\n1     0.002518\n34    0.002087\n10    0.001962\n13    0.001782\n17    0.001296\n2     0.001216\n27    0.001146\n28    0.000936\n30    0.000861\n21    0.000756\n3     0.000746\n6     0.000636\n33    0.000165\n20    0.000035\n8     0.000005\nName: srch_id, dtype: float64"
     },
     "metadata": {},
     "output_type": "display_data"
    }
   ],
   "source": [
    "groupby_website = df.groupby('site_id')['srch_id'].nunique() / df['srch_id'].nunique()\n",
    "\n",
    "site_searches =  groupby_website.sort_values(ascending=False)\n",
    "display(site_searches)\n",
    "# site 5 == 'expedia.com'??"
   ],
   "metadata": {
    "collapsed": false,
    "pycharm": {
     "name": "#%%\n"
    }
   }
  },
  {
   "cell_type": "markdown",
   "source": [
    "### Clicks/Books per position, grouped by random_bool"
   ],
   "metadata": {
    "collapsed": false,
    "pycharm": {
     "name": "#%% md\n"
    }
   }
  },
  {
   "cell_type": "code",
   "execution_count": 34,
   "outputs": [
    {
     "data": {
      "text/plain": "                      click_bool  booking_bool\nrandom_bool position                          \n0           1              29908         27014\n            2              20271         17976\n            3              15381         13385\n            4              12267         10593\n            5                149            98\n...                          ...           ...\n1           36               308            25\n            37               157            12\n            38                32             4\n            39                 7             2\n            40                 0             0\n\n[80 rows x 2 columns]",
      "text/html": "<div>\n<style scoped>\n    .dataframe tbody tr th:only-of-type {\n        vertical-align: middle;\n    }\n\n    .dataframe tbody tr th {\n        vertical-align: top;\n    }\n\n    .dataframe thead th {\n        text-align: right;\n    }\n</style>\n<table border=\"1\" class=\"dataframe\">\n  <thead>\n    <tr style=\"text-align: right;\">\n      <th></th>\n      <th></th>\n      <th>click_bool</th>\n      <th>booking_bool</th>\n    </tr>\n    <tr>\n      <th>random_bool</th>\n      <th>position</th>\n      <th></th>\n      <th></th>\n    </tr>\n  </thead>\n  <tbody>\n    <tr>\n      <th rowspan=\"5\" valign=\"top\">0</th>\n      <th>1</th>\n      <td>29908</td>\n      <td>27014</td>\n    </tr>\n    <tr>\n      <th>2</th>\n      <td>20271</td>\n      <td>17976</td>\n    </tr>\n    <tr>\n      <th>3</th>\n      <td>15381</td>\n      <td>13385</td>\n    </tr>\n    <tr>\n      <th>4</th>\n      <td>12267</td>\n      <td>10593</td>\n    </tr>\n    <tr>\n      <th>5</th>\n      <td>149</td>\n      <td>98</td>\n    </tr>\n    <tr>\n      <th>...</th>\n      <th>...</th>\n      <td>...</td>\n      <td>...</td>\n    </tr>\n    <tr>\n      <th rowspan=\"5\" valign=\"top\">1</th>\n      <th>36</th>\n      <td>308</td>\n      <td>25</td>\n    </tr>\n    <tr>\n      <th>37</th>\n      <td>157</td>\n      <td>12</td>\n    </tr>\n    <tr>\n      <th>38</th>\n      <td>32</td>\n      <td>4</td>\n    </tr>\n    <tr>\n      <th>39</th>\n      <td>7</td>\n      <td>2</td>\n    </tr>\n    <tr>\n      <th>40</th>\n      <td>0</td>\n      <td>0</td>\n    </tr>\n  </tbody>\n</table>\n<p>80 rows × 2 columns</p>\n</div>"
     },
     "metadata": {},
     "output_type": "display_data"
    },
    {
     "data": {
      "text/plain": "             click_bool  booking_bool\nrandom_bool                          \n0                153502        130578\n1                 68377          7812",
      "text/html": "<div>\n<style scoped>\n    .dataframe tbody tr th:only-of-type {\n        vertical-align: middle;\n    }\n\n    .dataframe tbody tr th {\n        vertical-align: top;\n    }\n\n    .dataframe thead th {\n        text-align: right;\n    }\n</style>\n<table border=\"1\" class=\"dataframe\">\n  <thead>\n    <tr style=\"text-align: right;\">\n      <th></th>\n      <th>click_bool</th>\n      <th>booking_bool</th>\n    </tr>\n    <tr>\n      <th>random_bool</th>\n      <th></th>\n      <th></th>\n    </tr>\n  </thead>\n  <tbody>\n    <tr>\n      <th>0</th>\n      <td>153502</td>\n      <td>130578</td>\n    </tr>\n    <tr>\n      <th>1</th>\n      <td>68377</td>\n      <td>7812</td>\n    </tr>\n  </tbody>\n</table>\n</div>"
     },
     "metadata": {},
     "output_type": "display_data"
    },
    {
     "data": {
      "text/plain": "                      click_bool  booking_bool\nrandom_bool position                          \n0           1           0.194838      0.206880\n            2           0.132057      0.137665\n            3           0.100201      0.102506\n            4           0.079914      0.081124\n            5           0.000971      0.000751\n...                          ...           ...\n1           36          0.004504      0.003200\n            37          0.002296      0.001536\n            38          0.000468      0.000512\n            39          0.000102      0.000256\n            40          0.000000      0.000000\n\n[80 rows x 2 columns]",
      "text/html": "<div>\n<style scoped>\n    .dataframe tbody tr th:only-of-type {\n        vertical-align: middle;\n    }\n\n    .dataframe tbody tr th {\n        vertical-align: top;\n    }\n\n    .dataframe thead th {\n        text-align: right;\n    }\n</style>\n<table border=\"1\" class=\"dataframe\">\n  <thead>\n    <tr style=\"text-align: right;\">\n      <th></th>\n      <th></th>\n      <th>click_bool</th>\n      <th>booking_bool</th>\n    </tr>\n    <tr>\n      <th>random_bool</th>\n      <th>position</th>\n      <th></th>\n      <th></th>\n    </tr>\n  </thead>\n  <tbody>\n    <tr>\n      <th rowspan=\"5\" valign=\"top\">0</th>\n      <th>1</th>\n      <td>0.194838</td>\n      <td>0.206880</td>\n    </tr>\n    <tr>\n      <th>2</th>\n      <td>0.132057</td>\n      <td>0.137665</td>\n    </tr>\n    <tr>\n      <th>3</th>\n      <td>0.100201</td>\n      <td>0.102506</td>\n    </tr>\n    <tr>\n      <th>4</th>\n      <td>0.079914</td>\n      <td>0.081124</td>\n    </tr>\n    <tr>\n      <th>5</th>\n      <td>0.000971</td>\n      <td>0.000751</td>\n    </tr>\n    <tr>\n      <th>...</th>\n      <th>...</th>\n      <td>...</td>\n      <td>...</td>\n    </tr>\n    <tr>\n      <th rowspan=\"5\" valign=\"top\">1</th>\n      <th>36</th>\n      <td>0.004504</td>\n      <td>0.003200</td>\n    </tr>\n    <tr>\n      <th>37</th>\n      <td>0.002296</td>\n      <td>0.001536</td>\n    </tr>\n    <tr>\n      <th>38</th>\n      <td>0.000468</td>\n      <td>0.000512</td>\n    </tr>\n    <tr>\n      <th>39</th>\n      <td>0.000102</td>\n      <td>0.000256</td>\n    </tr>\n    <tr>\n      <th>40</th>\n      <td>0.000000</td>\n      <td>0.000000</td>\n    </tr>\n  </tbody>\n</table>\n<p>80 rows × 2 columns</p>\n</div>"
     },
     "metadata": {},
     "output_type": "display_data"
    }
   ],
   "source": [
    "# groupby_random_bool = df.groupby('random_bool')[['click_bool', 'booking_bool']].count()\n",
    "groupby_position = df.groupby(['random_bool', 'position'])[['click_bool', 'booking_bool']].sum()\n",
    "groupby_random_bool = groupby_position.groupby('random_bool').sum()\n",
    "click_book_ratio = groupby_position / groupby_random_bool\n",
    "display(groupby_position)\n",
    "display(groupby_random_bool)\n",
    "display(click_book_ratio)"
   ],
   "metadata": {
    "collapsed": false,
    "pycharm": {
     "name": "#%%\n"
    }
   }
  },
  {
   "cell_type": "markdown",
   "source": [
    "### Location distributions"
   ],
   "metadata": {
    "collapsed": false,
    "pycharm": {
     "name": "#%% md\n"
    }
   }
  },
  {
   "cell_type": "code",
   "execution_count": 35,
   "outputs": [
    {
     "data": {
      "text/plain": "visitor_location_country_id\n219    57.151580\n100     9.974724\n55      5.956606\n216     4.602217\n220     3.479066\n         ...    \n67      0.000501\n83      0.000501\n94      0.000501\n101     0.000501\n58      0.000501\nName: srch_id, Length: 210, dtype: float64"
     },
     "metadata": {},
     "output_type": "display_data"
    },
    {
     "data": {
      "text/plain": "prop_country_id\n219    59.694687\n100     6.304963\n55      3.899997\n31      3.142221\n99      2.876949\n         ...    \n7       0.001001\n165     0.001001\n204     0.000501\n135     0.000501\n126     0.000501\nName: srch_id, Length: 172, dtype: float64"
     },
     "metadata": {},
     "output_type": "display_data"
    },
    {
     "data": {
      "text/plain": "srch_destination_id\n8192     1.233264\n4562     1.020046\n9402     0.689707\n10979    0.620136\n8347     0.596612\n           ...   \n19543    0.000501\n19542    0.000501\n19540    0.000501\n9199     0.000501\n14212    0.000501\nName: srch_id, Length: 18127, dtype: float64"
     },
     "metadata": {},
     "output_type": "display_data"
    }
   ],
   "source": [
    "groupby_home_country = df.groupby('visitor_location_country_id')['srch_id'].nunique()\n",
    "distribution_home_country = 100 * (groupby_home_country / df['srch_id'].nunique()).sort_values(ascending=False)\n",
    "display(distribution_home_country)\n",
    "# Country 219 == USA??\n",
    "# Country 100 == UK?? => Ursu (2015) suggests South-korea\n",
    "\n",
    "groupby_prop_country = df.groupby('prop_country_id')['srch_id'].nunique()\n",
    "distribution_prop_country = 100 * (groupby_prop_country / df['srch_id'].nunique()).sort_values(ascending=False)\n",
    "display(distribution_prop_country)\n",
    "\n",
    "groupby_destination_id = df.groupby('srch_destination_id')['srch_id'].nunique()\n",
    "distribution_destination_id = 100 * (groupby_destination_id / df['srch_id'].nunique()).sort_values(ascending=False)\n",
    "display(distribution_destination_id)\n",
    "\n",
    "# 8192 == NYC??\n",
    "# 4562 == LA?? Miami??"
   ],
   "metadata": {
    "collapsed": false,
    "pycharm": {
     "name": "#%%\n"
    }
   }
  },
  {
   "cell_type": "markdown",
   "source": [
    "### Drop Columns"
   ],
   "metadata": {
    "collapsed": false
   }
  },
  {
   "cell_type": "code",
   "execution_count": 36,
   "outputs": [],
   "source": [
    "competitor_cols = []\n",
    "for i in range(1, 9):\n",
    "    competitor_cols += [f'comp{i}_rate', f'comp{i}_inv', f'comp{i}_rate_percent_diff']\n",
    "drop_cols = competitor_cols + ['gross_bookings_usd', 'position']\n",
    "\n",
    "df_stage1 = df.drop(columns=drop_cols)"
   ],
   "metadata": {
    "collapsed": false,
    "pycharm": {
     "name": "#%%\n"
    }
   }
  },
  {
   "cell_type": "markdown",
   "source": [
    "### More Drops:"
   ],
   "metadata": {
    "collapsed": false,
    "pycharm": {
     "name": "#%% md\n"
    }
   }
  },
  {
   "cell_type": "code",
   "execution_count": 37,
   "outputs": [
    {
     "name": "stdout",
     "output_type": "stream",
     "text": [
      "Left-over columns for drop/imputation\n"
     ]
    },
    {
     "data": {
      "text/plain": "visitor_hist_starrating      94.920364\nvisitor_hist_adr_usd         94.897735\nprop_review_score             0.148517\nprop_location_score2         21.990151\nsrch_query_affinity_score    93.598552\norig_destination_distance    32.425766\ndtype: float64"
     },
     "metadata": {},
     "output_type": "display_data"
    }
   ],
   "source": [
    "# left-over with missings\n",
    "left_overs = [col\n",
    "              for col in df_stage1.columns\n",
    "              if not col in filled_columns]\n",
    "print(\"Left-over columns for drop/imputation\")\n",
    "display(missing_percent[left_overs])\n",
    "drop_cols_extra = ['visitor_hist_starrating', 'visitor_hist_adr_usd', 'srch_query_affinity_score']  # voor nu even droppen\n",
    "df_stage1.drop(columns=drop_cols_extra, inplace=True)\n"
   ],
   "metadata": {
    "collapsed": false,
    "pycharm": {
     "name": "#%%\n"
    }
   }
  },
  {
   "cell_type": "markdown",
   "source": [
    "## Fill Na\n",
    "### TODO: prop_review_score per DMT 2020 group 95\n",
    "#### prop_review_score & prop_location_score2 imputed per country, lower quantile as baseline => cited by VU boys and Liu et al"
   ],
   "metadata": {
    "collapsed": false,
    "pycharm": {
     "name": "#%% md\n"
    }
   }
  },
  {
   "cell_type": "code",
   "execution_count": 38,
   "outputs": [
    {
     "data": {
      "text/plain": "Int64Index([     1,      5,      6,     13,     14,     19,     21,     28,\n                34,     44,\n            ...\n            140783, 140784, 140789, 140793, 140794, 140796, 140802, 140806,\n            140818, 140820],\n           dtype='int64', name='prop_id', length=29919)"
     },
     "metadata": {},
     "output_type": "display_data"
    },
    {
     "name": "stdout",
     "output_type": "stream",
     "text": [
      "% properties with no reviews 23.17272466753929\n"
     ]
    }
   ],
   "source": [
    "prop_score = df_stage1.groupby('prop_id')['prop_review_score'].max()\n",
    "no_reviews = prop_score[prop_score == 0].index\n",
    "display(no_reviews)\n",
    "print(f\"% properties with no reviews {100 * len(no_reviews) / len(prop_score)}\")\n",
    "\n",
    "# lots of properties with no reviews ever\n",
    "# option 1: keep imputing like papers do\n",
    "# option 2: use backfill if reviews show up later and then impute like papers do\n",
    "# temporarily drop prop_review_score until decision made\n",
    "df_stage1.drop(columns=['prop_review_score'], inplace=True)"
   ],
   "metadata": {
    "collapsed": false,
    "pycharm": {
     "name": "#%%\n"
    }
   }
  },
  {
   "cell_type": "code",
   "execution_count": 39,
   "outputs": [
    {
     "name": "stdout",
     "output_type": "stream",
     "text": [
      "Still 2 unsolved NaN's\n",
      "Still 0 unsolved NaN's\n"
     ]
    },
    {
     "data": {
      "text/plain": "0          False\n1          False\n2          False\n3          False\n4          False\n           ...  \n4958342    False\n4958343    False\n4958344    False\n4958345    False\n4958346     True\nName: prop_location_score2, Length: 4958347, dtype: bool"
     },
     "metadata": {},
     "output_type": "display_data"
    }
   ],
   "source": [
    "# grouped by 'srch_destination_id' (city) would be more precise, but still has some NaN's\n",
    "country_score2 = df_stage1.groupby('prop_country_id')['prop_location_score2'].quantile(0.25)\n",
    "\n",
    "score2_country_join = pd.merge(df_stage1, country_score2, on='prop_country_id', how='left')['prop_location_score2_y']\n",
    "print(f\"Still {score2_country_join.isnull().sum()} unsolved NaN's\")\n",
    "\n",
    "# Fill 2 left-overs\n",
    "score2_country_join[score2_country_join.isnull()] = country_score2.mean()\n",
    "print(f\"Still {score2_country_join.isnull().sum()} unsolved NaN's\")\n",
    "\n",
    "df_stage2 = df_stage1.copy()\n",
    "nan_mask = df_stage2['prop_location_score2'].isnull()\n",
    "display(nan_mask)\n",
    "df_stage2.loc[nan_mask, 'prop_location_score2'] = score2_country_join[nan_mask]"
   ],
   "metadata": {
    "collapsed": false,
    "pycharm": {
     "name": "#%%\n"
    }
   }
  },
  {
   "cell_type": "code",
   "execution_count": 40,
   "outputs": [],
   "source": [
    "# TODO: Impute distance matrix using shortest path\n",
    "# drop for now\n",
    "df_stage2.drop(columns=['orig_destination_distance'], inplace=True)\n"
   ],
   "metadata": {
    "collapsed": false,
    "pycharm": {
     "name": "#%%\n"
    }
   }
  },
  {
   "cell_type": "code",
   "execution_count": 41,
   "outputs": [
    {
     "data": {
      "text/plain": "0          104.77\n1          170.74\n2          179.80\n3          599.00\n4          143.58\n            ...  \n4958342    118.00\n4958343     89.00\n4958344     99.00\n4958345    139.00\n4958346     61.00\nName: price_usd, Length: 4958347, dtype: float64"
     },
     "metadata": {},
     "output_type": "display_data"
    },
    {
     "data": {
      "text/plain": "3          602.77\n32         600.00\n126         29.00\n130         29.00\n137         32.00\n            ...  \n4958162     23.92\n4958164     26.79\n4958168     33.49\n4958300     24.15\n4958305     30.31\nName: price_usd, Length: 98760, dtype: float64"
     },
     "metadata": {},
     "output_type": "display_data"
    }
   ],
   "source": [
    "# Group 95 does not give an alpha => this needs reasoning\n",
    "alpha = 0.01\n",
    "price_usd = df_stage2['price_usd']\n",
    "price_usd_winsorized = price_usd.clip(lower=price_usd.quantile(alpha), upper=price_usd.quantile(1-alpha))\n",
    "\n",
    "display(price_usd_winsorized)\n",
    "outliers = price_usd[price_usd != price_usd_winsorized]\n",
    "display(outliers)\n",
    "\n",
    "df_stage3 = df_stage2.copy()\n",
    "df_stage3['price_usd'] = price_usd_winsorized"
   ],
   "metadata": {
    "collapsed": false,
    "pycharm": {
     "name": "#%%\n"
    }
   }
  },
  {
   "cell_type": "markdown",
   "source": [
    "## Temporary output"
   ],
   "metadata": {
    "collapsed": false,
    "pycharm": {
     "name": "#%% md\n"
    }
   }
  },
  {
   "cell_type": "code",
   "execution_count": 42,
   "outputs": [
    {
     "name": "stdout",
     "output_type": "stream",
     "text": [
      "% missing:\n"
     ]
    },
    {
     "data": {
      "text/plain": "srch_id                        0.0\ndate_time                      0.0\nsite_id                        0.0\nvisitor_location_country_id    0.0\nprop_country_id                0.0\nprop_id                        0.0\nprop_starrating                0.0\nprop_brand_bool                0.0\nprop_location_score1           0.0\nprop_location_score2           0.0\nprop_log_historical_price      0.0\nprice_usd                      0.0\npromotion_flag                 0.0\nsrch_destination_id            0.0\nsrch_length_of_stay            0.0\nsrch_booking_window            0.0\nsrch_adults_count              0.0\nsrch_children_count            0.0\nsrch_room_count                0.0\nsrch_saturday_night_bool       0.0\nrandom_bool                    0.0\nclick_bool                     0.0\nbooking_bool                   0.0\ndtype: float64"
     },
     "metadata": {},
     "output_type": "display_data"
    }
   ],
   "source": [
    "missing_percent = 100 * df_stage3.isnull().sum() / df_stage3.shape[0]\n",
    "print(\"% missing:\")\n",
    "display(missing_percent)\n",
    "\n",
    "df_stage3.to_pickle('df_temporary.pkl')"
   ],
   "metadata": {
    "collapsed": false,
    "pycharm": {
     "name": "#%%\n"
    }
   }
  },
  {
   "cell_type": "markdown",
   "source": [
    "# Feature engineering:"
   ],
   "metadata": {
    "collapsed": false,
    "pycharm": {
     "name": "#%% md\n"
    }
   }
  },
  {
   "cell_type": "markdown",
   "source": [
    "### Bookings seasonality"
   ],
   "metadata": {
    "collapsed": false
   }
  },
  {
   "cell_type": "code",
   "execution_count": 69,
   "outputs": [
    {
     "data": {
      "text/plain": "                  date_time        checkin_date\n0       2013-04-04 08:32:15 2013-04-04 08:32:15\n1       2013-04-04 08:32:15 2013-04-04 08:32:15\n2       2013-04-04 08:32:15 2013-04-04 08:32:15\n3       2013-04-04 08:32:15 2013-04-04 08:32:15\n4       2013-04-04 08:32:15 2013-04-04 08:32:15\n...                     ...                 ...\n4958342 2013-06-30 19:55:18 2013-07-21 19:55:18\n4958343 2013-06-30 19:55:18 2013-07-21 19:55:18\n4958344 2013-06-30 19:55:18 2013-07-21 19:55:18\n4958345 2013-06-30 19:55:18 2013-07-21 19:55:18\n4958346 2013-06-30 19:55:18 2013-07-21 19:55:18\n\n[4958347 rows x 2 columns]",
      "text/html": "<div>\n<style scoped>\n    .dataframe tbody tr th:only-of-type {\n        vertical-align: middle;\n    }\n\n    .dataframe tbody tr th {\n        vertical-align: top;\n    }\n\n    .dataframe thead th {\n        text-align: right;\n    }\n</style>\n<table border=\"1\" class=\"dataframe\">\n  <thead>\n    <tr style=\"text-align: right;\">\n      <th></th>\n      <th>date_time</th>\n      <th>checkin_date</th>\n    </tr>\n  </thead>\n  <tbody>\n    <tr>\n      <th>0</th>\n      <td>2013-04-04 08:32:15</td>\n      <td>2013-04-04 08:32:15</td>\n    </tr>\n    <tr>\n      <th>1</th>\n      <td>2013-04-04 08:32:15</td>\n      <td>2013-04-04 08:32:15</td>\n    </tr>\n    <tr>\n      <th>2</th>\n      <td>2013-04-04 08:32:15</td>\n      <td>2013-04-04 08:32:15</td>\n    </tr>\n    <tr>\n      <th>3</th>\n      <td>2013-04-04 08:32:15</td>\n      <td>2013-04-04 08:32:15</td>\n    </tr>\n    <tr>\n      <th>4</th>\n      <td>2013-04-04 08:32:15</td>\n      <td>2013-04-04 08:32:15</td>\n    </tr>\n    <tr>\n      <th>...</th>\n      <td>...</td>\n      <td>...</td>\n    </tr>\n    <tr>\n      <th>4958342</th>\n      <td>2013-06-30 19:55:18</td>\n      <td>2013-07-21 19:55:18</td>\n    </tr>\n    <tr>\n      <th>4958343</th>\n      <td>2013-06-30 19:55:18</td>\n      <td>2013-07-21 19:55:18</td>\n    </tr>\n    <tr>\n      <th>4958344</th>\n      <td>2013-06-30 19:55:18</td>\n      <td>2013-07-21 19:55:18</td>\n    </tr>\n    <tr>\n      <th>4958345</th>\n      <td>2013-06-30 19:55:18</td>\n      <td>2013-07-21 19:55:18</td>\n    </tr>\n    <tr>\n      <th>4958346</th>\n      <td>2013-06-30 19:55:18</td>\n      <td>2013-07-21 19:55:18</td>\n    </tr>\n  </tbody>\n</table>\n<p>4958347 rows × 2 columns</p>\n</div>"
     },
     "metadata": {},
     "output_type": "display_data"
    },
    {
     "data": {
      "text/plain": "checkin_weeknr\n1     4631\n2     3102\n3     3834\n4     3441\n5     3424\n6     4005\n7     5306\n8     4560\n9     4368\n10    4905\n11    5531\n12    5880\n13    6694\n14    5662\n15    4951\n16    4988\n17    5367\n18    5344\n19    5253\n20    6201\n21    7153\n22    5608\n23    6194\n24    6528\n25    7358\n26    7579\n27    6340\n28    4334\n29    3667\n30    3145\n31    2705\n32    2516\n33    2168\n34    1586\n35    1386\n36    1037\n37    1087\n38    1015\n39     718\n40     683\n41     610\n42     478\n43     357\n44     859\n45    2195\n46    2676\n47    3297\n48    2907\n49    3084\n50    3207\n51    3994\n52    5877\nName: srch_id, dtype: int64"
     },
     "metadata": {},
     "output_type": "display_data"
    },
    {
     "data": {
      "text/plain": "<Figure size 432x288 with 1 Axes>",
      "image/png": "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\n"
     },
     "metadata": {
      "needs_background": "light"
     },
     "output_type": "display_data"
    }
   ],
   "source": [
    "# TODO: rewrite on last df_stage\n",
    "\n",
    "df_stage3['checkin_date'] = df_stage3['date_time'] + pd.to_timedelta(df_stage3['srch_booking_window'], unit='D')  # speedup with vectorize?\n",
    "display(df_stage3[['date_time', 'checkin_date']])\n",
    "df_stage3['checkin_weeknr'] = df_stage3['checkin_date'].dt.isocalendar().week\n",
    "\n",
    "groupby_weeknr = df_stage3.groupby('checkin_weeknr')['srch_id'].nunique()\n",
    "distr_weeknr = groupby_weeknr / df_stage3['srch_id'].nunique()\n",
    "display(groupby_weeknr)\n",
    "\n",
    "import matplotlib.pyplot as plt\n",
    "fig = plt.figure()\n",
    "ax = fig.add_axes([0,0,1,1])\n",
    "x = distr_weeknr.index.tolist()\n",
    "y = distr_weeknr.values\n",
    "\n",
    "ax.bar(x, y, 0.1, color='r')\n",
    "ax.set_ylabel('Booking Ratio')\n",
    "ax.set_xlabel('Week Nr.')\n",
    "ax.set_title('Bookings Seasonality')\n",
    "ax.set_title('Bookings Seasonality')\n",
    "plt.show()"
   ],
   "metadata": {
    "collapsed": false,
    "pycharm": {
     "name": "#%%\n"
    }
   }
  },
  {
   "cell_type": "markdown",
   "source": [
    "### Date features"
   ],
   "metadata": {
    "collapsed": false,
    "pycharm": {
     "name": "#%% md\n"
    }
   }
  },
  {
   "cell_type": "code",
   "execution_count": 54,
   "outputs": [],
   "source": [
    "def mine_date_features(dt_series, prefix=''):\n",
    "    df = pd.DataFrame()\n",
    "    df['weekday'] = dt_series.dt.weekday\n",
    "    df['monthday'] = dt_series.dt.day\n",
    "    df['month'] = dt_series.dt.month\n",
    "    df['week'] = dt_series.dt.week\n",
    "    df['year'] = dt_series.dt.year\n",
    "\n",
    "    df.columns = list(map(lambda s: prefix + s, df.columns.tolist()))\n",
    "    return df\n"
   ],
   "metadata": {
    "collapsed": false,
    "pycharm": {
     "name": "#%%\n"
    }
   }
  },
  {
   "cell_type": "code",
   "execution_count": 70,
   "outputs": [
    {
     "name": "stderr",
     "output_type": "stream",
     "text": [
      "C:\\Users\\Titus\\Anaconda3\\envs\\DMT\\lib\\site-packages\\ipykernel_launcher.py:6: FutureWarning: Series.dt.weekofyear and Series.dt.week have been deprecated.  Please use Series.dt.isocalendar().week instead.\n",
      "  \n"
     ]
    },
    {
     "data": {
      "text/plain": "         srchdate_weekday  srchdate_monthday  srchdate_month  srchdate_week  \\\n0                       3                  4               4             14   \n1                       3                  4               4             14   \n2                       3                  4               4             14   \n3                       3                  4               4             14   \n4                       3                  4               4             14   \n...                   ...                ...             ...            ...   \n4958342                 6                 30               6             26   \n4958343                 6                 30               6             26   \n4958344                 6                 30               6             26   \n4958345                 6                 30               6             26   \n4958346                 6                 30               6             26   \n\n         srchdate_year  srchdate_hour  \n0                 2013              8  \n1                 2013              8  \n2                 2013              8  \n3                 2013              8  \n4                 2013              8  \n...                ...            ...  \n4958342           2013             19  \n4958343           2013             19  \n4958344           2013             19  \n4958345           2013             19  \n4958346           2013             19  \n\n[4958347 rows x 6 columns]",
      "text/html": "<div>\n<style scoped>\n    .dataframe tbody tr th:only-of-type {\n        vertical-align: middle;\n    }\n\n    .dataframe tbody tr th {\n        vertical-align: top;\n    }\n\n    .dataframe thead th {\n        text-align: right;\n    }\n</style>\n<table border=\"1\" class=\"dataframe\">\n  <thead>\n    <tr style=\"text-align: right;\">\n      <th></th>\n      <th>srchdate_weekday</th>\n      <th>srchdate_monthday</th>\n      <th>srchdate_month</th>\n      <th>srchdate_week</th>\n      <th>srchdate_year</th>\n      <th>srchdate_hour</th>\n    </tr>\n  </thead>\n  <tbody>\n    <tr>\n      <th>0</th>\n      <td>3</td>\n      <td>4</td>\n      <td>4</td>\n      <td>14</td>\n      <td>2013</td>\n      <td>8</td>\n    </tr>\n    <tr>\n      <th>1</th>\n      <td>3</td>\n      <td>4</td>\n      <td>4</td>\n      <td>14</td>\n      <td>2013</td>\n      <td>8</td>\n    </tr>\n    <tr>\n      <th>2</th>\n      <td>3</td>\n      <td>4</td>\n      <td>4</td>\n      <td>14</td>\n      <td>2013</td>\n      <td>8</td>\n    </tr>\n    <tr>\n      <th>3</th>\n      <td>3</td>\n      <td>4</td>\n      <td>4</td>\n      <td>14</td>\n      <td>2013</td>\n      <td>8</td>\n    </tr>\n    <tr>\n      <th>4</th>\n      <td>3</td>\n      <td>4</td>\n      <td>4</td>\n      <td>14</td>\n      <td>2013</td>\n      <td>8</td>\n    </tr>\n    <tr>\n      <th>...</th>\n      <td>...</td>\n      <td>...</td>\n      <td>...</td>\n      <td>...</td>\n      <td>...</td>\n      <td>...</td>\n    </tr>\n    <tr>\n      <th>4958342</th>\n      <td>6</td>\n      <td>30</td>\n      <td>6</td>\n      <td>26</td>\n      <td>2013</td>\n      <td>19</td>\n    </tr>\n    <tr>\n      <th>4958343</th>\n      <td>6</td>\n      <td>30</td>\n      <td>6</td>\n      <td>26</td>\n      <td>2013</td>\n      <td>19</td>\n    </tr>\n    <tr>\n      <th>4958344</th>\n      <td>6</td>\n      <td>30</td>\n      <td>6</td>\n      <td>26</td>\n      <td>2013</td>\n      <td>19</td>\n    </tr>\n    <tr>\n      <th>4958345</th>\n      <td>6</td>\n      <td>30</td>\n      <td>6</td>\n      <td>26</td>\n      <td>2013</td>\n      <td>19</td>\n    </tr>\n    <tr>\n      <th>4958346</th>\n      <td>6</td>\n      <td>30</td>\n      <td>6</td>\n      <td>26</td>\n      <td>2013</td>\n      <td>19</td>\n    </tr>\n  </tbody>\n</table>\n<p>4958347 rows × 6 columns</p>\n</div>"
     },
     "metadata": {},
     "output_type": "display_data"
    },
    {
     "data": {
      "text/plain": "         checkin_weekday  checkin_monthday  checkin_month  checkin_week  \\\n0                      3                 4              4            14   \n1                      3                 4              4            14   \n2                      3                 4              4            14   \n3                      3                 4              4            14   \n4                      3                 4              4            14   \n...                  ...               ...            ...           ...   \n4958342                6                21              7            29   \n4958343                6                21              7            29   \n4958344                6                21              7            29   \n4958345                6                21              7            29   \n4958346                6                21              7            29   \n\n         checkin_year  \n0                2013  \n1                2013  \n2                2013  \n3                2013  \n4                2013  \n...               ...  \n4958342          2013  \n4958343          2013  \n4958344          2013  \n4958345          2013  \n4958346          2013  \n\n[4958347 rows x 5 columns]",
      "text/html": "<div>\n<style scoped>\n    .dataframe tbody tr th:only-of-type {\n        vertical-align: middle;\n    }\n\n    .dataframe tbody tr th {\n        vertical-align: top;\n    }\n\n    .dataframe thead th {\n        text-align: right;\n    }\n</style>\n<table border=\"1\" class=\"dataframe\">\n  <thead>\n    <tr style=\"text-align: right;\">\n      <th></th>\n      <th>checkin_weekday</th>\n      <th>checkin_monthday</th>\n      <th>checkin_month</th>\n      <th>checkin_week</th>\n      <th>checkin_year</th>\n    </tr>\n  </thead>\n  <tbody>\n    <tr>\n      <th>0</th>\n      <td>3</td>\n      <td>4</td>\n      <td>4</td>\n      <td>14</td>\n      <td>2013</td>\n    </tr>\n    <tr>\n      <th>1</th>\n      <td>3</td>\n      <td>4</td>\n      <td>4</td>\n      <td>14</td>\n      <td>2013</td>\n    </tr>\n    <tr>\n      <th>2</th>\n      <td>3</td>\n      <td>4</td>\n      <td>4</td>\n      <td>14</td>\n      <td>2013</td>\n    </tr>\n    <tr>\n      <th>3</th>\n      <td>3</td>\n      <td>4</td>\n      <td>4</td>\n      <td>14</td>\n      <td>2013</td>\n    </tr>\n    <tr>\n      <th>4</th>\n      <td>3</td>\n      <td>4</td>\n      <td>4</td>\n      <td>14</td>\n      <td>2013</td>\n    </tr>\n    <tr>\n      <th>...</th>\n      <td>...</td>\n      <td>...</td>\n      <td>...</td>\n      <td>...</td>\n      <td>...</td>\n    </tr>\n    <tr>\n      <th>4958342</th>\n      <td>6</td>\n      <td>21</td>\n      <td>7</td>\n      <td>29</td>\n      <td>2013</td>\n    </tr>\n    <tr>\n      <th>4958343</th>\n      <td>6</td>\n      <td>21</td>\n      <td>7</td>\n      <td>29</td>\n      <td>2013</td>\n    </tr>\n    <tr>\n      <th>4958344</th>\n      <td>6</td>\n      <td>21</td>\n      <td>7</td>\n      <td>29</td>\n      <td>2013</td>\n    </tr>\n    <tr>\n      <th>4958345</th>\n      <td>6</td>\n      <td>21</td>\n      <td>7</td>\n      <td>29</td>\n      <td>2013</td>\n    </tr>\n    <tr>\n      <th>4958346</th>\n      <td>6</td>\n      <td>21</td>\n      <td>7</td>\n      <td>29</td>\n      <td>2013</td>\n    </tr>\n  </tbody>\n</table>\n<p>4958347 rows × 5 columns</p>\n</div>"
     },
     "metadata": {},
     "output_type": "display_data"
    },
    {
     "data": {
      "text/plain": "         checkout_weekday  checkout_monthday  checkout_month  checkout_week  \\\n0                       4                  5               4             14   \n1                       4                  5               4             14   \n2                       4                  5               4             14   \n3                       4                  5               4             14   \n4                       4                  5               4             14   \n...                   ...                ...             ...            ...   \n4958342                 0                 22               7             30   \n4958343                 0                 22               7             30   \n4958344                 0                 22               7             30   \n4958345                 0                 22               7             30   \n4958346                 0                 22               7             30   \n\n         checkout_year  \n0                 2013  \n1                 2013  \n2                 2013  \n3                 2013  \n4                 2013  \n...                ...  \n4958342           2013  \n4958343           2013  \n4958344           2013  \n4958345           2013  \n4958346           2013  \n\n[4958347 rows x 5 columns]",
      "text/html": "<div>\n<style scoped>\n    .dataframe tbody tr th:only-of-type {\n        vertical-align: middle;\n    }\n\n    .dataframe tbody tr th {\n        vertical-align: top;\n    }\n\n    .dataframe thead th {\n        text-align: right;\n    }\n</style>\n<table border=\"1\" class=\"dataframe\">\n  <thead>\n    <tr style=\"text-align: right;\">\n      <th></th>\n      <th>checkout_weekday</th>\n      <th>checkout_monthday</th>\n      <th>checkout_month</th>\n      <th>checkout_week</th>\n      <th>checkout_year</th>\n    </tr>\n  </thead>\n  <tbody>\n    <tr>\n      <th>0</th>\n      <td>4</td>\n      <td>5</td>\n      <td>4</td>\n      <td>14</td>\n      <td>2013</td>\n    </tr>\n    <tr>\n      <th>1</th>\n      <td>4</td>\n      <td>5</td>\n      <td>4</td>\n      <td>14</td>\n      <td>2013</td>\n    </tr>\n    <tr>\n      <th>2</th>\n      <td>4</td>\n      <td>5</td>\n      <td>4</td>\n      <td>14</td>\n      <td>2013</td>\n    </tr>\n    <tr>\n      <th>3</th>\n      <td>4</td>\n      <td>5</td>\n      <td>4</td>\n      <td>14</td>\n      <td>2013</td>\n    </tr>\n    <tr>\n      <th>4</th>\n      <td>4</td>\n      <td>5</td>\n      <td>4</td>\n      <td>14</td>\n      <td>2013</td>\n    </tr>\n    <tr>\n      <th>...</th>\n      <td>...</td>\n      <td>...</td>\n      <td>...</td>\n      <td>...</td>\n      <td>...</td>\n    </tr>\n    <tr>\n      <th>4958342</th>\n      <td>0</td>\n      <td>22</td>\n      <td>7</td>\n      <td>30</td>\n      <td>2013</td>\n    </tr>\n    <tr>\n      <th>4958343</th>\n      <td>0</td>\n      <td>22</td>\n      <td>7</td>\n      <td>30</td>\n      <td>2013</td>\n    </tr>\n    <tr>\n      <th>4958344</th>\n      <td>0</td>\n      <td>22</td>\n      <td>7</td>\n      <td>30</td>\n      <td>2013</td>\n    </tr>\n    <tr>\n      <th>4958345</th>\n      <td>0</td>\n      <td>22</td>\n      <td>7</td>\n      <td>30</td>\n      <td>2013</td>\n    </tr>\n    <tr>\n      <th>4958346</th>\n      <td>0</td>\n      <td>22</td>\n      <td>7</td>\n      <td>30</td>\n      <td>2013</td>\n    </tr>\n  </tbody>\n</table>\n<p>4958347 rows × 5 columns</p>\n</div>"
     },
     "metadata": {},
     "output_type": "display_data"
    }
   ],
   "source": [
    "df_stage3['checkout_date'] = df_stage3['checkin_date'] + pd.to_timedelta(df_stage3['srch_length_of_stay'], unit='D')\n",
    "\n",
    "df_srchdate_features = mine_date_features(df_stage3['date_time'], prefix='srchdate_')\n",
    "df_srchdate_features['srchdate_hour'] = df_stage3['date_time'].dt.hour\n",
    "\n",
    "df_checkin_features = mine_date_features(df_stage3['checkin_date'], prefix='checkin_')\n",
    "df_checkout_features = mine_date_features(df_stage3['checkout_date'], prefix='checkout_')\n",
    "\n",
    "df_stage4 = pd.concat([df_stage3, df_srchdate_features, df_checkin_features, df_checkout_features], axis=1)\n",
    "display(df_srchdate_features)\n",
    "display(df_checkin_features)\n",
    "display(df_checkout_features)"
   ],
   "metadata": {
    "collapsed": false,
    "pycharm": {
     "name": "#%%\n"
    }
   }
  },
  {
   "cell_type": "markdown",
   "source": [
    "### Count # of weekdays contained in booking_window (i.e. Sun: 1, Sat: 1, mon: 1, tue: 0, wed: 0 ...)"
   ],
   "metadata": {
    "collapsed": false,
    "pycharm": {
     "name": "#%% md\n"
    }
   }
  },
  {
   "cell_type": "code",
   "execution_count": 80,
   "outputs": [
    {
     "data": {
      "text/plain": "               checkin_date       checkout_date\nsrch_id                                        \n1       2013-04-04 08:32:15 2013-04-05 08:32:15\n4       2013-02-15 08:59:22 2013-02-17 08:59:22\n6       2013-06-10 12:27:51 2013-06-11 12:27:51\n8       2013-03-20 17:50:44 2013-03-21 17:50:44\n11      2013-04-05 08:39:33 2013-04-06 08:39:33\n...                     ...                 ...\n332777  2013-06-02 10:40:02 2013-06-07 10:40:02\n332781  2013-03-08 15:12:59 2013-03-10 15:12:59\n332782  2012-11-10 18:24:21 2012-11-12 18:24:21\n332784  2013-06-24 14:35:24 2013-06-26 14:35:24\n332785  2013-07-21 19:55:18 2013-07-22 19:55:18\n\n[199795 rows x 2 columns]",
      "text/html": "<div>\n<style scoped>\n    .dataframe tbody tr th:only-of-type {\n        vertical-align: middle;\n    }\n\n    .dataframe tbody tr th {\n        vertical-align: top;\n    }\n\n    .dataframe thead th {\n        text-align: right;\n    }\n</style>\n<table border=\"1\" class=\"dataframe\">\n  <thead>\n    <tr style=\"text-align: right;\">\n      <th></th>\n      <th>checkin_date</th>\n      <th>checkout_date</th>\n    </tr>\n    <tr>\n      <th>srch_id</th>\n      <th></th>\n      <th></th>\n    </tr>\n  </thead>\n  <tbody>\n    <tr>\n      <th>1</th>\n      <td>2013-04-04 08:32:15</td>\n      <td>2013-04-05 08:32:15</td>\n    </tr>\n    <tr>\n      <th>4</th>\n      <td>2013-02-15 08:59:22</td>\n      <td>2013-02-17 08:59:22</td>\n    </tr>\n    <tr>\n      <th>6</th>\n      <td>2013-06-10 12:27:51</td>\n      <td>2013-06-11 12:27:51</td>\n    </tr>\n    <tr>\n      <th>8</th>\n      <td>2013-03-20 17:50:44</td>\n      <td>2013-03-21 17:50:44</td>\n    </tr>\n    <tr>\n      <th>11</th>\n      <td>2013-04-05 08:39:33</td>\n      <td>2013-04-06 08:39:33</td>\n    </tr>\n    <tr>\n      <th>...</th>\n      <td>...</td>\n      <td>...</td>\n    </tr>\n    <tr>\n      <th>332777</th>\n      <td>2013-06-02 10:40:02</td>\n      <td>2013-06-07 10:40:02</td>\n    </tr>\n    <tr>\n      <th>332781</th>\n      <td>2013-03-08 15:12:59</td>\n      <td>2013-03-10 15:12:59</td>\n    </tr>\n    <tr>\n      <th>332782</th>\n      <td>2012-11-10 18:24:21</td>\n      <td>2012-11-12 18:24:21</td>\n    </tr>\n    <tr>\n      <th>332784</th>\n      <td>2013-06-24 14:35:24</td>\n      <td>2013-06-26 14:35:24</td>\n    </tr>\n    <tr>\n      <th>332785</th>\n      <td>2013-07-21 19:55:18</td>\n      <td>2013-07-22 19:55:18</td>\n    </tr>\n  </tbody>\n</table>\n<p>199795 rows × 2 columns</p>\n</div>"
     },
     "metadata": {},
     "output_type": "display_data"
    }
   ],
   "source": [
    "def dayofweek_count(dt_start, dt_end):\n",
    "    print(dt_start)\n",
    "    print(dt_end)\n",
    "\n",
    "    dt_range = pd.date_range(dt_start, dt_end,freq='d')\n",
    "\n",
    "    print(dt_range)\n",
    "\n",
    "    return dt_range\n",
    "\n",
    "\n",
    "srch_grouped = df_stage4.groupby('srch_id').first()\n",
    "test = pd.DataFrame(srch_grouped[['checkin_date', 'checkout_date']])\n",
    "display(test)\n"
   ],
   "metadata": {
    "collapsed": false,
    "pycharm": {
     "name": "#%%\n"
    }
   }
  },
],
 "metadata": {
  "kernelspec": {
   "display_name": "Python 3",
   "language": "python",
   "name": "python3"
  },
  "language_info": {
   "codemirror_mode": {
    "name": "ipython",
    "version": 3
   },
   "file_extension": ".py",
   "mimetype": "text/x-python",
   "name": "python",
   "nbconvert_exporter": "python",
   "pygments_lexer": "ipython3",
   "version": "3.7.10"
  }
 },
 "nbformat": 4,
 "nbformat_minor": 1
}


  