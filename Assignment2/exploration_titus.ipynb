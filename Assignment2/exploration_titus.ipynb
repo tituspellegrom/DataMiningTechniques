{
 "cells": [
  {
   "cell_type": "markdown",
   "metadata": {
    "pycharm": {
     "name": "#%% md\n"
    }
   },
   "source": [
    "# Data Exploration"
   ]
  },
  {
   "cell_type": "markdown",
   "metadata": {
    "pycharm": {
     "name": "#%% md\n"
    }
   },
   "source": [
    "### Imports\n"
   ]
  },
  {
   "cell_type": "code",
   "execution_count": 30,
   "metadata": {
    "pycharm": {
     "name": "#%%\n"
    }
   },
   "outputs": [],
   "source": [
    "import pandas as pd\n",
    "import numpy as np\n",
    "from tqdm import tqdm\n"
   ]
  },
  {
   "cell_type": "markdown",
   "metadata": {
    "pycharm": {
     "name": "#%% md\n"
    }
   },
   "source": [
    "<div class=\"alert alert-block alert-warning\">\n",
    "<b>Dask:</b> Multiprocessing package that can be used for (almost all) Pandas & Scikit-learn functionality.\n",
    " Ships with Anaconda, but not with MiniConda.\n",
    "</div>"
   ]
  },
  {
   "cell_type": "code",
   "execution_count": 31,
   "metadata": {
    "pycharm": {
     "name": "#%%\n"
    }
   },
   "outputs": [
    {
     "name": "stderr",
     "output_type": "stream",
     "text": [
      "C:\\Users\\Titus\\Anaconda3\\envs\\DMT\\lib\\site-packages\\distributed\\node.py:155: UserWarning: Port 8787 is already in use.\n",
      "Perhaps you already have a cluster running?\n",
      "Hosting the HTTP server on port 55503 instead\n",
      "  http_address[\"port\"], self.http_server.port\n"
     ]
    }
   ],
   "source": [
    "import dask\n",
    "import dask.dataframe as dd   # denk dat we het wel redden met pandas sequential \n",
    "# from sklearn.grid_search import GridSearchCV\n",
    "#from dklearn.grid_search import GridSearchCV   # voorbeeld van dklearn => dit gaan we zeker nodig hebben bij hyperopt etc.\n",
    "import dask\n",
    "from dask.distributed import Client\n",
    "client = Client() # often http://localhost:8787/status"
   ]
  },
  {
   "cell_type": "markdown",
   "metadata": {},
   "source": [
    "### Load Data In"
   ]
  },
  {
   "cell_type": "code",
   "metadata": {
    "pycharm": {
     "name": "#%%\n"
    }
   },
   "source": [
    "%%timeit -n 1 -r 1\n",
    "\n",
    "df = pd.read_csv('2nd-assignment-dmt-2021/training_set_VU_DM.csv')\n",
    "display(df)"
   ],
   "execution_count": 32,
   "outputs": [
    {
     "data": {
      "text/plain": "         srch_id            date_time  site_id  visitor_location_country_id  \\\n0              1  2013-04-04 08:32:15       12                          187   \n1              1  2013-04-04 08:32:15       12                          187   \n2              1  2013-04-04 08:32:15       12                          187   \n3              1  2013-04-04 08:32:15       12                          187   \n4              1  2013-04-04 08:32:15       12                          187   \n...          ...                  ...      ...                          ...   \n4958342   332785  2013-06-30 19:55:18        5                          219   \n4958343   332785  2013-06-30 19:55:18        5                          219   \n4958344   332785  2013-06-30 19:55:18        5                          219   \n4958345   332785  2013-06-30 19:55:18        5                          219   \n4958346   332785  2013-06-30 19:55:18        5                          219   \n\n         visitor_hist_starrating  visitor_hist_adr_usd  prop_country_id  \\\n0                            NaN                   NaN              219   \n1                            NaN                   NaN              219   \n2                            NaN                   NaN              219   \n3                            NaN                   NaN              219   \n4                            NaN                   NaN              219   \n...                          ...                   ...              ...   \n4958342                      NaN                   NaN              219   \n4958343                      NaN                   NaN              219   \n4958344                      NaN                   NaN              219   \n4958345                      NaN                   NaN              219   \n4958346                      NaN                   NaN              219   \n\n         prop_id  prop_starrating  prop_review_score  ...  \\\n0            893                3                3.5  ...   \n1          10404                4                4.0  ...   \n2          21315                3                4.5  ...   \n3          27348                2                4.0  ...   \n4          29604                4                3.5  ...   \n...          ...              ...                ...  ...   \n4958342    77700                3                4.0  ...   \n4958343    88083                3                4.0  ...   \n4958344    94508                3                3.5  ...   \n4958345   128360                3                5.0  ...   \n4958346   134949                3                2.5  ...   \n\n         comp6_rate_percent_diff  comp7_rate  comp7_inv  \\\n0                            NaN         NaN        NaN   \n1                            NaN         NaN        NaN   \n2                            NaN         NaN        NaN   \n3                            NaN         NaN        NaN   \n4                            NaN         NaN        NaN   \n...                          ...         ...        ...   \n4958342                      NaN         NaN        NaN   \n4958343                      NaN         NaN        NaN   \n4958344                      NaN         NaN        NaN   \n4958345                      NaN         NaN        NaN   \n4958346                      NaN         NaN        NaN   \n\n         comp7_rate_percent_diff  comp8_rate  comp8_inv  \\\n0                            NaN         0.0        0.0   \n1                            NaN         0.0        0.0   \n2                            NaN         0.0        0.0   \n3                            NaN        -1.0        0.0   \n4                            NaN         0.0        0.0   \n...                          ...         ...        ...   \n4958342                      NaN         NaN        NaN   \n4958343                      NaN         NaN        NaN   \n4958344                      NaN         NaN        NaN   \n4958345                      NaN         NaN        NaN   \n4958346                      NaN         NaN        NaN   \n\n         comp8_rate_percent_diff  click_bool  gross_bookings_usd  booking_bool  \n0                            NaN           0                 NaN             0  \n1                            NaN           0                 NaN             0  \n2                            NaN           0                 NaN             0  \n3                            5.0           0                 NaN             0  \n4                            NaN           0                 NaN             0  \n...                          ...         ...                 ...           ...  \n4958342                      NaN           0                 NaN             0  \n4958343                      NaN           0                 NaN             0  \n4958344                      NaN           0                 NaN             0  \n4958345                      NaN           1              157.84             1  \n4958346                      NaN           0                 NaN             0  \n\n[4958347 rows x 54 columns]",
      "text/html": "<div>\n<style scoped>\n    .dataframe tbody tr th:only-of-type {\n        vertical-align: middle;\n    }\n\n    .dataframe tbody tr th {\n        vertical-align: top;\n    }\n\n    .dataframe thead th {\n        text-align: right;\n    }\n</style>\n<table border=\"1\" class=\"dataframe\">\n  <thead>\n    <tr style=\"text-align: right;\">\n      <th></th>\n      <th>srch_id</th>\n      <th>date_time</th>\n      <th>site_id</th>\n      <th>visitor_location_country_id</th>\n      <th>visitor_hist_starrating</th>\n      <th>visitor_hist_adr_usd</th>\n      <th>prop_country_id</th>\n      <th>prop_id</th>\n      <th>prop_starrating</th>\n      <th>prop_review_score</th>\n      <th>...</th>\n      <th>comp6_rate_percent_diff</th>\n      <th>comp7_rate</th>\n      <th>comp7_inv</th>\n      <th>comp7_rate_percent_diff</th>\n      <th>comp8_rate</th>\n      <th>comp8_inv</th>\n      <th>comp8_rate_percent_diff</th>\n      <th>click_bool</th>\n      <th>gross_bookings_usd</th>\n      <th>booking_bool</th>\n    </tr>\n  </thead>\n  <tbody>\n    <tr>\n      <th>0</th>\n      <td>1</td>\n      <td>2013-04-04 08:32:15</td>\n      <td>12</td>\n      <td>187</td>\n      <td>NaN</td>\n      <td>NaN</td>\n      <td>219</td>\n      <td>893</td>\n      <td>3</td>\n      <td>3.5</td>\n      <td>...</td>\n      <td>NaN</td>\n      <td>NaN</td>\n      <td>NaN</td>\n      <td>NaN</td>\n      <td>0.0</td>\n      <td>0.0</td>\n      <td>NaN</td>\n      <td>0</td>\n      <td>NaN</td>\n      <td>0</td>\n    </tr>\n    <tr>\n      <th>1</th>\n      <td>1</td>\n      <td>2013-04-04 08:32:15</td>\n      <td>12</td>\n      <td>187</td>\n      <td>NaN</td>\n      <td>NaN</td>\n      <td>219</td>\n      <td>10404</td>\n      <td>4</td>\n      <td>4.0</td>\n      <td>...</td>\n      <td>NaN</td>\n      <td>NaN</td>\n      <td>NaN</td>\n      <td>NaN</td>\n      <td>0.0</td>\n      <td>0.0</td>\n      <td>NaN</td>\n      <td>0</td>\n      <td>NaN</td>\n      <td>0</td>\n    </tr>\n    <tr>\n      <th>2</th>\n      <td>1</td>\n      <td>2013-04-04 08:32:15</td>\n      <td>12</td>\n      <td>187</td>\n      <td>NaN</td>\n      <td>NaN</td>\n      <td>219</td>\n      <td>21315</td>\n      <td>3</td>\n      <td>4.5</td>\n      <td>...</td>\n      <td>NaN</td>\n      <td>NaN</td>\n      <td>NaN</td>\n      <td>NaN</td>\n      <td>0.0</td>\n      <td>0.0</td>\n      <td>NaN</td>\n      <td>0</td>\n      <td>NaN</td>\n      <td>0</td>\n    </tr>\n    <tr>\n      <th>3</th>\n      <td>1</td>\n      <td>2013-04-04 08:32:15</td>\n      <td>12</td>\n      <td>187</td>\n      <td>NaN</td>\n      <td>NaN</td>\n      <td>219</td>\n      <td>27348</td>\n      <td>2</td>\n      <td>4.0</td>\n      <td>...</td>\n      <td>NaN</td>\n      <td>NaN</td>\n      <td>NaN</td>\n      <td>NaN</td>\n      <td>-1.0</td>\n      <td>0.0</td>\n      <td>5.0</td>\n      <td>0</td>\n      <td>NaN</td>\n      <td>0</td>\n    </tr>\n    <tr>\n      <th>4</th>\n      <td>1</td>\n      <td>2013-04-04 08:32:15</td>\n      <td>12</td>\n      <td>187</td>\n      <td>NaN</td>\n      <td>NaN</td>\n      <td>219</td>\n      <td>29604</td>\n      <td>4</td>\n      <td>3.5</td>\n      <td>...</td>\n      <td>NaN</td>\n      <td>NaN</td>\n      <td>NaN</td>\n      <td>NaN</td>\n      <td>0.0</td>\n      <td>0.0</td>\n      <td>NaN</td>\n      <td>0</td>\n      <td>NaN</td>\n      <td>0</td>\n    </tr>\n    <tr>\n      <th>...</th>\n      <td>...</td>\n      <td>...</td>\n      <td>...</td>\n      <td>...</td>\n      <td>...</td>\n      <td>...</td>\n      <td>...</td>\n      <td>...</td>\n      <td>...</td>\n      <td>...</td>\n      <td>...</td>\n      <td>...</td>\n      <td>...</td>\n      <td>...</td>\n      <td>...</td>\n      <td>...</td>\n      <td>...</td>\n      <td>...</td>\n      <td>...</td>\n      <td>...</td>\n      <td>...</td>\n    </tr>\n    <tr>\n      <th>4958342</th>\n      <td>332785</td>\n      <td>2013-06-30 19:55:18</td>\n      <td>5</td>\n      <td>219</td>\n      <td>NaN</td>\n      <td>NaN</td>\n      <td>219</td>\n      <td>77700</td>\n      <td>3</td>\n      <td>4.0</td>\n      <td>...</td>\n      <td>NaN</td>\n      <td>NaN</td>\n      <td>NaN</td>\n      <td>NaN</td>\n      <td>NaN</td>\n      <td>NaN</td>\n      <td>NaN</td>\n      <td>0</td>\n      <td>NaN</td>\n      <td>0</td>\n    </tr>\n    <tr>\n      <th>4958343</th>\n      <td>332785</td>\n      <td>2013-06-30 19:55:18</td>\n      <td>5</td>\n      <td>219</td>\n      <td>NaN</td>\n      <td>NaN</td>\n      <td>219</td>\n      <td>88083</td>\n      <td>3</td>\n      <td>4.0</td>\n      <td>...</td>\n      <td>NaN</td>\n      <td>NaN</td>\n      <td>NaN</td>\n      <td>NaN</td>\n      <td>NaN</td>\n      <td>NaN</td>\n      <td>NaN</td>\n      <td>0</td>\n      <td>NaN</td>\n      <td>0</td>\n    </tr>\n    <tr>\n      <th>4958344</th>\n      <td>332785</td>\n      <td>2013-06-30 19:55:18</td>\n      <td>5</td>\n      <td>219</td>\n      <td>NaN</td>\n      <td>NaN</td>\n      <td>219</td>\n      <td>94508</td>\n      <td>3</td>\n      <td>3.5</td>\n      <td>...</td>\n      <td>NaN</td>\n      <td>NaN</td>\n      <td>NaN</td>\n      <td>NaN</td>\n      <td>NaN</td>\n      <td>NaN</td>\n      <td>NaN</td>\n      <td>0</td>\n      <td>NaN</td>\n      <td>0</td>\n    </tr>\n    <tr>\n      <th>4958345</th>\n      <td>332785</td>\n      <td>2013-06-30 19:55:18</td>\n      <td>5</td>\n      <td>219</td>\n      <td>NaN</td>\n      <td>NaN</td>\n      <td>219</td>\n      <td>128360</td>\n      <td>3</td>\n      <td>5.0</td>\n      <td>...</td>\n      <td>NaN</td>\n      <td>NaN</td>\n      <td>NaN</td>\n      <td>NaN</td>\n      <td>NaN</td>\n      <td>NaN</td>\n      <td>NaN</td>\n      <td>1</td>\n      <td>157.84</td>\n      <td>1</td>\n    </tr>\n    <tr>\n      <th>4958346</th>\n      <td>332785</td>\n      <td>2013-06-30 19:55:18</td>\n      <td>5</td>\n      <td>219</td>\n      <td>NaN</td>\n      <td>NaN</td>\n      <td>219</td>\n      <td>134949</td>\n      <td>3</td>\n      <td>2.5</td>\n      <td>...</td>\n      <td>NaN</td>\n      <td>NaN</td>\n      <td>NaN</td>\n      <td>NaN</td>\n      <td>NaN</td>\n      <td>NaN</td>\n      <td>NaN</td>\n      <td>0</td>\n      <td>NaN</td>\n      <td>0</td>\n    </tr>\n  </tbody>\n</table>\n<p>4958347 rows × 54 columns</p>\n</div>"
     },
     "metadata": {},
     "output_type": "display_data"
    },
    {
     "name": "stdout",
     "output_type": "stream",
     "text": [
      "34.4 s ± 0 ns per loop (mean ± std. dev. of 1 run, 1 loop each)\n"
     ]
    }
   ]
  },
  {
   "cell_type": "code",
   "execution_count": 33,
   "metadata": {},
   "outputs": [
    {
     "name": "stdout",
     "output_type": "stream",
     "text": [
      "Size in Memory: 2043 MB\n"
     ]
    }
   ],
   "source": [
    "mem_size = df.memory_usage(index=True).sum() / 1_024**2\n",
    "\n",
    "print(f\"Size in Memory: {mem_size:.0f} MB\")"
   ]
  },
  {
   "cell_type": "code",
   "execution_count": 34,
   "metadata": {},
   "outputs": [
    {
     "data": {
      "text/plain": "srch_id                          int64\ndate_time                       object\nsite_id                          int64\nvisitor_location_country_id      int64\nvisitor_hist_starrating        float64\nvisitor_hist_adr_usd           float64\nprop_country_id                  int64\nprop_id                          int64\nprop_starrating                  int64\nprop_review_score              float64\nprop_brand_bool                  int64\nprop_location_score1           float64\nprop_location_score2           float64\nprop_log_historical_price      float64\nposition                         int64\nprice_usd                      float64\npromotion_flag                   int64\nsrch_destination_id              int64\nsrch_length_of_stay              int64\nsrch_booking_window              int64\nsrch_adults_count                int64\nsrch_children_count              int64\nsrch_room_count                  int64\nsrch_saturday_night_bool         int64\nsrch_query_affinity_score      float64\norig_destination_distance      float64\nrandom_bool                      int64\ncomp1_rate                     float64\ncomp1_inv                      float64\ncomp1_rate_percent_diff        float64\ncomp2_rate                     float64\ncomp2_inv                      float64\ncomp2_rate_percent_diff        float64\ncomp3_rate                     float64\ncomp3_inv                      float64\ncomp3_rate_percent_diff        float64\ncomp4_rate                     float64\ncomp4_inv                      float64\ncomp4_rate_percent_diff        float64\ncomp5_rate                     float64\ncomp5_inv                      float64\ncomp5_rate_percent_diff        float64\ncomp6_rate                     float64\ncomp6_inv                      float64\ncomp6_rate_percent_diff        float64\ncomp7_rate                     float64\ncomp7_inv                      float64\ncomp7_rate_percent_diff        float64\ncomp8_rate                     float64\ncomp8_inv                      float64\ncomp8_rate_percent_diff        float64\nclick_bool                       int64\ngross_bookings_usd             float64\nbooking_bool                     int64\ndtype: object"
     },
     "metadata": {},
     "output_type": "display_data"
    },
    {
     "name": "stdout",
     "output_type": "stream",
     "text": [
      "Min. Values\n",
      "srch_id                                          1\n",
      "date_time                      2012-11-01 00:08:29\n",
      "site_id                                          1\n",
      "visitor_location_country_id                      1\n",
      "visitor_hist_starrating                       1.41\n",
      "visitor_hist_adr_usd                           0.0\n",
      "prop_country_id                                  1\n",
      "prop_id                                          1\n",
      "prop_starrating                                  0\n",
      "prop_review_score                              0.0\n",
      "prop_brand_bool                                  0\n",
      "prop_location_score1                           0.0\n",
      "prop_location_score2                           0.0\n",
      "prop_log_historical_price                      0.0\n",
      "position                                         1\n",
      "price_usd                                      0.0\n",
      "promotion_flag                                   0\n",
      "srch_destination_id                              2\n",
      "srch_length_of_stay                              1\n",
      "srch_booking_window                              0\n",
      "srch_adults_count                                1\n",
      "srch_children_count                              0\n",
      "srch_room_count                                  1\n",
      "srch_saturday_night_bool                         0\n",
      "srch_query_affinity_score                -326.5675\n",
      "orig_destination_distance                     0.01\n",
      "random_bool                                      0\n",
      "comp1_rate                                    -1.0\n",
      "comp1_inv                                     -1.0\n",
      "comp1_rate_percent_diff                        2.0\n",
      "comp2_rate                                    -1.0\n",
      "comp2_inv                                     -1.0\n",
      "comp2_rate_percent_diff                        2.0\n",
      "comp3_rate                                    -1.0\n",
      "comp3_inv                                     -1.0\n",
      "comp3_rate_percent_diff                        2.0\n",
      "comp4_rate                                    -1.0\n",
      "comp4_inv                                     -1.0\n",
      "comp4_rate_percent_diff                        2.0\n",
      "comp5_rate                                    -1.0\n",
      "comp5_inv                                     -1.0\n",
      "comp5_rate_percent_diff                        2.0\n",
      "comp6_rate                                    -1.0\n",
      "comp6_inv                                     -1.0\n",
      "comp6_rate_percent_diff                        2.0\n",
      "comp7_rate                                    -1.0\n",
      "comp7_inv                                     -1.0\n",
      "comp7_rate_percent_diff                        2.0\n",
      "comp8_rate                                    -1.0\n",
      "comp8_inv                                     -1.0\n",
      "comp8_rate_percent_diff                        2.0\n",
      "click_bool                                       0\n",
      "gross_bookings_usd                             0.0\n",
      "booking_bool                                     0\n",
      "dtype: object\n",
      "Max. Values\n",
      "srch_id                                     332785\n",
      "date_time                      2013-06-30 23:58:24\n",
      "site_id                                         34\n",
      "visitor_location_country_id                    231\n",
      "visitor_hist_starrating                        5.0\n",
      "visitor_hist_adr_usd                        1958.7\n",
      "prop_country_id                                230\n",
      "prop_id                                     140821\n",
      "prop_starrating                                  5\n",
      "prop_review_score                              5.0\n",
      "prop_brand_bool                                  1\n",
      "prop_location_score1                          6.98\n",
      "prop_location_score2                           1.0\n",
      "prop_log_historical_price                     6.21\n",
      "position                                        40\n",
      "price_usd                               19726328.0\n",
      "promotion_flag                                   1\n",
      "srch_destination_id                          28416\n",
      "srch_length_of_stay                             57\n",
      "srch_booking_window                            492\n",
      "srch_adults_count                                9\n",
      "srch_children_count                              9\n",
      "srch_room_count                                  8\n",
      "srch_saturday_night_bool                         1\n",
      "srch_query_affinity_score                  -2.4941\n",
      "orig_destination_distance                 11666.64\n",
      "random_bool                                      1\n",
      "comp1_rate                                     1.0\n",
      "comp1_inv                                      1.0\n",
      "comp1_rate_percent_diff                    30389.0\n",
      "comp2_rate                                     1.0\n",
      "comp2_inv                                      1.0\n",
      "comp2_rate_percent_diff                   168893.0\n",
      "comp3_rate                                     1.0\n",
      "comp3_inv                                      1.0\n",
      "comp3_rate_percent_diff                   199266.0\n",
      "comp4_rate                                     1.0\n",
      "comp4_inv                                      1.0\n",
      "comp4_rate_percent_diff                  1001584.0\n",
      "comp5_rate                                     1.0\n",
      "comp5_inv                                      1.0\n",
      "comp5_rate_percent_diff                   607561.0\n",
      "comp6_rate                                     1.0\n",
      "comp6_inv                                      1.0\n",
      "comp6_rate_percent_diff                     1620.0\n",
      "comp7_rate                                     1.0\n",
      "comp7_inv                                      1.0\n",
      "comp7_rate_percent_diff                     9900.0\n",
      "comp8_rate                                     1.0\n",
      "comp8_inv                                      1.0\n",
      "comp8_rate_percent_diff                   149400.0\n",
      "click_bool                                       1\n",
      "gross_bookings_usd                       159292.38\n",
      "booking_bool                                     1\n",
      "dtype: object\n"
     ]
    }
   ],
   "source": [
    "# Inspect inferred types\n",
    "display(df.dtypes)\n",
    "\n",
    "# Inspect numerical ranges\n",
    "print('Min. Values')\n",
    "print(df.min())\n",
    "\n",
    "print('Max. Values')\n",
    "print(df.max())"
   ]
  },
  {
   "cell_type": "code",
   "execution_count": 42,
   "outputs": [],
   "source": [
    "# # memory + speed improvements\n",
    "# optimal_dtypes = {'srch_id': (np.uint32, np.nan),\n",
    "#                   'site_id': (np.uint8, np.nan),\n",
    "#                   'visitor_location_country_id': (np.uint8, np.nan),\n",
    "#                   'prop_country_id': (np.uint8, np.nan),\n",
    "#                   'prop_id': \"uint32\"(np.uint32, np.nan),\n",
    "#                   'prop_starrating': (np.uint8, np.nan),\n",
    "#                   'prop_brand_bool': (np.uint8, np.nan),\n",
    "#                   'promotion_flag': (np.uint8, np.nan),\n",
    "#                   'srch_destination_id': (np.uint16, np.nan),\n",
    "#                   'srch_length_of_stay': (np.uint16, np.nan),\n",
    "#                   'srch_booking_window': (np.uint16, np.nan),\n",
    "#                   'srch_adults_count': (np.uint8, np.nan),\n",
    "#                   'srch_children_count': (np.uint8, np.nan),  # 255 kids max should suffice\n",
    "#                   'srch_room_count': (np.uint8, np.nan),\n",
    "#                   'srch_saturday_night_bool': (np.uint8, np.nan),\n",
    "#                   'random_bool': (np.uint8, np.nan),\n",
    "#                   'position': (np.uint8, np.nan),\n",
    "#                   'click_bool': (np.uint8, np.nan),\n",
    "#                   'booking_bool': (np.uint8, np.nan)}\n",
    "#\n",
    "# for i in range(1, 9):\n",
    "#     optimal_dtypes[f'comp{i}_rate'] = (np.int8, np.nan)\n",
    "#     optimal_dtypes[f'comp{i}_inv'] = (np.int8 , np.nan)    # assignment does not specify -1 but is exists??\n",
    "#     # competitor_dtypes[f'comp{i}_rate_percent_diff'] = np.uint\n",
    "\n",
    "# # memory + speed improvements\n",
    "# optimal_dtypes = {'srch_id': (np.uint32, np.nan),\n",
    "#                   'site_id': (np.uint8, np.nan),\n",
    "#                   'visitor_location_country_id': (np.uint8, np.nan),\n",
    "#                   'prop_country_id': (np.uint8, np.nan),\n",
    "#                   'prop_id': \"uint32\"(np.uint32, np.nan),\n",
    "#                   'prop_starrating': (np.uint8, np.nan),\n",
    "#                   'prop_brand_bool': (np.uint8, np.nan),\n",
    "#                   'promotion_flag': (np.uint8, np.nan),\n",
    "#                   'srch_destination_id': (np.uint16, np.nan),\n",
    "#                   'srch_length_of_stay': (np.uint16, np.nan),\n",
    "#                   'srch_booking_window': (np.uint16, np.nan),\n",
    "#                   'srch_adults_count': (np.uint8, np.nan),\n",
    "#                   'srch_children_count': (np.uint8, np.nan),  # 255 kids max should suffice\n",
    "#                   'srch_room_count': (np.uint8, np.nan),\n",
    "#                   'srch_saturday_night_bool': (np.uint8, np.nan),\n",
    "#                   'random_bool': (np.uint8, np.nan),\n",
    "#                   'position': (np.uint8, np.nan),\n",
    "#                   'click_bool': (np.uint8, np.nan),\n",
    "#                   'booking_bool': (np.uint8, np.nan)}\n",
    "#\n",
    "# for i in range(1, 9):\n",
    "#     optimal_dtypes[f'comp{i}_rate'] = (np.int8, np.nan)\n",
    "#     optimal_dtypes[f'comp{i}_inv'] = (np.int8 , np.nan)    # assignment does not specify -1 but is exists??\n",
    "#     # competitor_dtypes[f'comp{i}_rate_percent_diff'] = np.uint\n",
    "#\n",
    "# dfn = df.dtypes()\n",
    "# dfn = df.convert_dtypes(convert_integer=True)\n",
    "# print(dfn.dtypes)\n"
   ],
   "metadata": {
    "collapsed": false,
    "pycharm": {
     "name": "#%%\n"
    }
   }
  },
  {
   "cell_type": "code",
   "execution_count": null,
   "outputs": [],
   "source": [],
   "metadata": {
    "collapsed": false,
    "pycharm": {
     "name": "#%%\n"
    }
   }
  }
 ],
 "metadata": {
  "kernelspec": {
   "display_name": "DMT",
   "language": "python",
   "name": "dmt"
  },
  "language_info": {
   "codemirror_mode": {
    "name": "ipython",
    "version": 3
   },
   "file_extension": ".py",
   "mimetype": "text/x-python",
   "name": "python",
   "nbconvert_exporter": "python",
   "pygments_lexer": "ipython3",
   "version": "3.7.10"
  }
 },
 "nbformat": 4,
 "nbformat_minor": 1
}