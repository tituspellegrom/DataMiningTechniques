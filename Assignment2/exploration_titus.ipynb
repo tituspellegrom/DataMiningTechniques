{
 "cells": [
  {
   "cell_type": "markdown",
   "metadata": {
    "pycharm": {
     "name": "#%% md\n"
    }
   },
   "source": [
    "# Data Exploration"
   ]
  },
  {
   "cell_type": "markdown",
   "metadata": {
    "pycharm": {
     "name": "#%% md\n"
    }
   },
   "source": [
    "### Imports\n"
   ]
  },
  {
   "cell_type": "code",
   "execution_count": 109,
   "metadata": {
    "pycharm": {
     "name": "#%%\n"
    }
   },
   "outputs": [],
   "source": [
    "import pandas as pd\n",
    "import numpy as np\n",
    "from tqdm import tqdm\n"
   ]
  },
  {
   "cell_type": "markdown",
   "metadata": {
    "pycharm": {
     "name": "#%% md\n"
    }
   },
   "source": [
    "<div class=\"alert alert-block alert-warning\">\n",
    "<b>Dask:</b> Multiprocessing package that can be used for (almost all) Pandas & Scikit-learn functionality.\n",
    " Ships with Anaconda, but not with MiniConda.\n",
    "</div>"
   ]
  },
  {
   "cell_type": "code",
   "execution_count": 110,
   "metadata": {
    "pycharm": {
     "name": "#%%\n"
    }
   },
   "outputs": [
    {
     "name": "stderr",
     "output_type": "stream",
     "text": [
      "C:\\Users\\Titus\\Anaconda3\\envs\\DMT\\lib\\site-packages\\distributed\\node.py:155: UserWarning: Port 8787 is already in use.\n",
      "Perhaps you already have a cluster running?\n",
      "Hosting the HTTP server on port 52872 instead\n",
      "  http_address[\"port\"], self.http_server.port\n"
     ]
    }
   ],
   "source": [
    "import dask\n",
    "import dask.dataframe as dd   # denk dat we het wel redden met pandas sequential \n",
    "# from sklearn.grid_search import GridSearchCV\n",
    "#from dklearn.grid_search import GridSearchCV   # voorbeeld van dklearn => dit gaan we zeker nodig hebben bij hyperopt etc.\n",
    "import dask\n",
    "from dask.distributed import Client\n",
    "client = Client() # often http://localhost:8787/status"
   ]
  },
  {
   "cell_type": "markdown",
   "metadata": {},
   "source": [
    "### Load Data In"
   ]
  },
  {
   "cell_type": "code",
   "metadata": {
    "pycharm": {
     "name": "#%%\n"
    }
   },
   "source": [],
   "execution_count": 110,
   "outputs": []
  },
  {
   "cell_type": "code",
   "execution_count": 111,
   "outputs": [
    {
     "data": {
      "text/plain": "         srch_id           date_time  site_id  visitor_location_country_id  \\\n0              1 2013-04-04 08:32:15       12                          187   \n1              1 2013-04-04 08:32:15       12                          187   \n2              1 2013-04-04 08:32:15       12                          187   \n3              1 2013-04-04 08:32:15       12                          187   \n4              1 2013-04-04 08:32:15       12                          187   \n...          ...                 ...      ...                          ...   \n4958342   332785 2013-06-30 19:55:18        5                          219   \n4958343   332785 2013-06-30 19:55:18        5                          219   \n4958344   332785 2013-06-30 19:55:18        5                          219   \n4958345   332785 2013-06-30 19:55:18        5                          219   \n4958346   332785 2013-06-30 19:55:18        5                          219   \n\n         visitor_hist_starrating  visitor_hist_adr_usd  prop_country_id  \\\n0                            NaN                   NaN              219   \n1                            NaN                   NaN              219   \n2                            NaN                   NaN              219   \n3                            NaN                   NaN              219   \n4                            NaN                   NaN              219   \n...                          ...                   ...              ...   \n4958342                      NaN                   NaN              219   \n4958343                      NaN                   NaN              219   \n4958344                      NaN                   NaN              219   \n4958345                      NaN                   NaN              219   \n4958346                      NaN                   NaN              219   \n\n         prop_id  prop_starrating  prop_review_score  ...  \\\n0            893                3                3.5  ...   \n1          10404                4                4.0  ...   \n2          21315                3                4.5  ...   \n3          27348                2                4.0  ...   \n4          29604                4                3.5  ...   \n...          ...              ...                ...  ...   \n4958342    77700                3                4.0  ...   \n4958343    88083                3                4.0  ...   \n4958344    94508                3                3.5  ...   \n4958345   128360                3                5.0  ...   \n4958346   134949                3                2.5  ...   \n\n         comp6_rate_percent_diff  comp7_rate  comp7_inv  \\\n0                            NaN         NaN        NaN   \n1                            NaN         NaN        NaN   \n2                            NaN         NaN        NaN   \n3                            NaN         NaN        NaN   \n4                            NaN         NaN        NaN   \n...                          ...         ...        ...   \n4958342                      NaN         NaN        NaN   \n4958343                      NaN         NaN        NaN   \n4958344                      NaN         NaN        NaN   \n4958345                      NaN         NaN        NaN   \n4958346                      NaN         NaN        NaN   \n\n         comp7_rate_percent_diff  comp8_rate  comp8_inv  \\\n0                            NaN         0.0        0.0   \n1                            NaN         0.0        0.0   \n2                            NaN         0.0        0.0   \n3                            NaN        -1.0        0.0   \n4                            NaN         0.0        0.0   \n...                          ...         ...        ...   \n4958342                      NaN         NaN        NaN   \n4958343                      NaN         NaN        NaN   \n4958344                      NaN         NaN        NaN   \n4958345                      NaN         NaN        NaN   \n4958346                      NaN         NaN        NaN   \n\n         comp8_rate_percent_diff  click_bool  gross_bookings_usd  booking_bool  \n0                            NaN           0                 NaN             0  \n1                            NaN           0                 NaN             0  \n2                            NaN           0                 NaN             0  \n3                            5.0           0                 NaN             0  \n4                            NaN           0                 NaN             0  \n...                          ...         ...                 ...           ...  \n4958342                      NaN           0                 NaN             0  \n4958343                      NaN           0                 NaN             0  \n4958344                      NaN           0                 NaN             0  \n4958345                      NaN           1              157.84             1  \n4958346                      NaN           0                 NaN             0  \n\n[4958347 rows x 54 columns]",
      "text/html": "<div>\n<style scoped>\n    .dataframe tbody tr th:only-of-type {\n        vertical-align: middle;\n    }\n\n    .dataframe tbody tr th {\n        vertical-align: top;\n    }\n\n    .dataframe thead th {\n        text-align: right;\n    }\n</style>\n<table border=\"1\" class=\"dataframe\">\n  <thead>\n    <tr style=\"text-align: right;\">\n      <th></th>\n      <th>srch_id</th>\n      <th>date_time</th>\n      <th>site_id</th>\n      <th>visitor_location_country_id</th>\n      <th>visitor_hist_starrating</th>\n      <th>visitor_hist_adr_usd</th>\n      <th>prop_country_id</th>\n      <th>prop_id</th>\n      <th>prop_starrating</th>\n      <th>prop_review_score</th>\n      <th>...</th>\n      <th>comp6_rate_percent_diff</th>\n      <th>comp7_rate</th>\n      <th>comp7_inv</th>\n      <th>comp7_rate_percent_diff</th>\n      <th>comp8_rate</th>\n      <th>comp8_inv</th>\n      <th>comp8_rate_percent_diff</th>\n      <th>click_bool</th>\n      <th>gross_bookings_usd</th>\n      <th>booking_bool</th>\n    </tr>\n  </thead>\n  <tbody>\n    <tr>\n      <th>0</th>\n      <td>1</td>\n      <td>2013-04-04 08:32:15</td>\n      <td>12</td>\n      <td>187</td>\n      <td>NaN</td>\n      <td>NaN</td>\n      <td>219</td>\n      <td>893</td>\n      <td>3</td>\n      <td>3.5</td>\n      <td>...</td>\n      <td>NaN</td>\n      <td>NaN</td>\n      <td>NaN</td>\n      <td>NaN</td>\n      <td>0.0</td>\n      <td>0.0</td>\n      <td>NaN</td>\n      <td>0</td>\n      <td>NaN</td>\n      <td>0</td>\n    </tr>\n    <tr>\n      <th>1</th>\n      <td>1</td>\n      <td>2013-04-04 08:32:15</td>\n      <td>12</td>\n      <td>187</td>\n      <td>NaN</td>\n      <td>NaN</td>\n      <td>219</td>\n      <td>10404</td>\n      <td>4</td>\n      <td>4.0</td>\n      <td>...</td>\n      <td>NaN</td>\n      <td>NaN</td>\n      <td>NaN</td>\n      <td>NaN</td>\n      <td>0.0</td>\n      <td>0.0</td>\n      <td>NaN</td>\n      <td>0</td>\n      <td>NaN</td>\n      <td>0</td>\n    </tr>\n    <tr>\n      <th>2</th>\n      <td>1</td>\n      <td>2013-04-04 08:32:15</td>\n      <td>12</td>\n      <td>187</td>\n      <td>NaN</td>\n      <td>NaN</td>\n      <td>219</td>\n      <td>21315</td>\n      <td>3</td>\n      <td>4.5</td>\n      <td>...</td>\n      <td>NaN</td>\n      <td>NaN</td>\n      <td>NaN</td>\n      <td>NaN</td>\n      <td>0.0</td>\n      <td>0.0</td>\n      <td>NaN</td>\n      <td>0</td>\n      <td>NaN</td>\n      <td>0</td>\n    </tr>\n    <tr>\n      <th>3</th>\n      <td>1</td>\n      <td>2013-04-04 08:32:15</td>\n      <td>12</td>\n      <td>187</td>\n      <td>NaN</td>\n      <td>NaN</td>\n      <td>219</td>\n      <td>27348</td>\n      <td>2</td>\n      <td>4.0</td>\n      <td>...</td>\n      <td>NaN</td>\n      <td>NaN</td>\n      <td>NaN</td>\n      <td>NaN</td>\n      <td>-1.0</td>\n      <td>0.0</td>\n      <td>5.0</td>\n      <td>0</td>\n      <td>NaN</td>\n      <td>0</td>\n    </tr>\n    <tr>\n      <th>4</th>\n      <td>1</td>\n      <td>2013-04-04 08:32:15</td>\n      <td>12</td>\n      <td>187</td>\n      <td>NaN</td>\n      <td>NaN</td>\n      <td>219</td>\n      <td>29604</td>\n      <td>4</td>\n      <td>3.5</td>\n      <td>...</td>\n      <td>NaN</td>\n      <td>NaN</td>\n      <td>NaN</td>\n      <td>NaN</td>\n      <td>0.0</td>\n      <td>0.0</td>\n      <td>NaN</td>\n      <td>0</td>\n      <td>NaN</td>\n      <td>0</td>\n    </tr>\n    <tr>\n      <th>...</th>\n      <td>...</td>\n      <td>...</td>\n      <td>...</td>\n      <td>...</td>\n      <td>...</td>\n      <td>...</td>\n      <td>...</td>\n      <td>...</td>\n      <td>...</td>\n      <td>...</td>\n      <td>...</td>\n      <td>...</td>\n      <td>...</td>\n      <td>...</td>\n      <td>...</td>\n      <td>...</td>\n      <td>...</td>\n      <td>...</td>\n      <td>...</td>\n      <td>...</td>\n      <td>...</td>\n    </tr>\n    <tr>\n      <th>4958342</th>\n      <td>332785</td>\n      <td>2013-06-30 19:55:18</td>\n      <td>5</td>\n      <td>219</td>\n      <td>NaN</td>\n      <td>NaN</td>\n      <td>219</td>\n      <td>77700</td>\n      <td>3</td>\n      <td>4.0</td>\n      <td>...</td>\n      <td>NaN</td>\n      <td>NaN</td>\n      <td>NaN</td>\n      <td>NaN</td>\n      <td>NaN</td>\n      <td>NaN</td>\n      <td>NaN</td>\n      <td>0</td>\n      <td>NaN</td>\n      <td>0</td>\n    </tr>\n    <tr>\n      <th>4958343</th>\n      <td>332785</td>\n      <td>2013-06-30 19:55:18</td>\n      <td>5</td>\n      <td>219</td>\n      <td>NaN</td>\n      <td>NaN</td>\n      <td>219</td>\n      <td>88083</td>\n      <td>3</td>\n      <td>4.0</td>\n      <td>...</td>\n      <td>NaN</td>\n      <td>NaN</td>\n      <td>NaN</td>\n      <td>NaN</td>\n      <td>NaN</td>\n      <td>NaN</td>\n      <td>NaN</td>\n      <td>0</td>\n      <td>NaN</td>\n      <td>0</td>\n    </tr>\n    <tr>\n      <th>4958344</th>\n      <td>332785</td>\n      <td>2013-06-30 19:55:18</td>\n      <td>5</td>\n      <td>219</td>\n      <td>NaN</td>\n      <td>NaN</td>\n      <td>219</td>\n      <td>94508</td>\n      <td>3</td>\n      <td>3.5</td>\n      <td>...</td>\n      <td>NaN</td>\n      <td>NaN</td>\n      <td>NaN</td>\n      <td>NaN</td>\n      <td>NaN</td>\n      <td>NaN</td>\n      <td>NaN</td>\n      <td>0</td>\n      <td>NaN</td>\n      <td>0</td>\n    </tr>\n    <tr>\n      <th>4958345</th>\n      <td>332785</td>\n      <td>2013-06-30 19:55:18</td>\n      <td>5</td>\n      <td>219</td>\n      <td>NaN</td>\n      <td>NaN</td>\n      <td>219</td>\n      <td>128360</td>\n      <td>3</td>\n      <td>5.0</td>\n      <td>...</td>\n      <td>NaN</td>\n      <td>NaN</td>\n      <td>NaN</td>\n      <td>NaN</td>\n      <td>NaN</td>\n      <td>NaN</td>\n      <td>NaN</td>\n      <td>1</td>\n      <td>157.84</td>\n      <td>1</td>\n    </tr>\n    <tr>\n      <th>4958346</th>\n      <td>332785</td>\n      <td>2013-06-30 19:55:18</td>\n      <td>5</td>\n      <td>219</td>\n      <td>NaN</td>\n      <td>NaN</td>\n      <td>219</td>\n      <td>134949</td>\n      <td>3</td>\n      <td>2.5</td>\n      <td>...</td>\n      <td>NaN</td>\n      <td>NaN</td>\n      <td>NaN</td>\n      <td>NaN</td>\n      <td>NaN</td>\n      <td>NaN</td>\n      <td>NaN</td>\n      <td>0</td>\n      <td>NaN</td>\n      <td>0</td>\n    </tr>\n  </tbody>\n</table>\n<p>4958347 rows × 54 columns</p>\n</div>"
     },
     "metadata": {},
     "output_type": "display_data"
    }
   ],
   "source": [
    "df = pd.read_csv('2nd-assignment-dmt-2021/training_set_VU_DM.csv', parse_dates=['date_time'])\n",
    "display(df)"
   ],
   "metadata": {
    "collapsed": false,
    "pycharm": {
     "name": "#%%timeit -n 1 -r 1\n"
    }
   }
  },
  {
   "cell_type": "code",
   "execution_count": 112,
   "metadata": {},
   "outputs": [
    {
     "name": "stdout",
     "output_type": "stream",
     "text": [
      "Size in Memory: 2043 MB\n"
     ]
    }
   ],
   "source": [
    "mem_size = df.memory_usage(index=True).sum() / 1_024**2\n",
    "\n",
    "print(f\"Size in Memory: {mem_size:.0f} MB\")"
   ]
  },
  {
   "cell_type": "code",
   "execution_count": 113,
   "metadata": {},
   "outputs": [
    {
     "data": {
      "text/plain": "srch_id                                 int64\ndate_time                      datetime64[ns]\nsite_id                                 int64\nvisitor_location_country_id             int64\nvisitor_hist_starrating               float64\nvisitor_hist_adr_usd                  float64\nprop_country_id                         int64\nprop_id                                 int64\nprop_starrating                         int64\nprop_review_score                     float64\nprop_brand_bool                         int64\nprop_location_score1                  float64\nprop_location_score2                  float64\nprop_log_historical_price             float64\nposition                                int64\nprice_usd                             float64\npromotion_flag                          int64\nsrch_destination_id                     int64\nsrch_length_of_stay                     int64\nsrch_booking_window                     int64\nsrch_adults_count                       int64\nsrch_children_count                     int64\nsrch_room_count                         int64\nsrch_saturday_night_bool                int64\nsrch_query_affinity_score             float64\norig_destination_distance             float64\nrandom_bool                             int64\ncomp1_rate                            float64\ncomp1_inv                             float64\ncomp1_rate_percent_diff               float64\ncomp2_rate                            float64\ncomp2_inv                             float64\ncomp2_rate_percent_diff               float64\ncomp3_rate                            float64\ncomp3_inv                             float64\ncomp3_rate_percent_diff               float64\ncomp4_rate                            float64\ncomp4_inv                             float64\ncomp4_rate_percent_diff               float64\ncomp5_rate                            float64\ncomp5_inv                             float64\ncomp5_rate_percent_diff               float64\ncomp6_rate                            float64\ncomp6_inv                             float64\ncomp6_rate_percent_diff               float64\ncomp7_rate                            float64\ncomp7_inv                             float64\ncomp7_rate_percent_diff               float64\ncomp8_rate                            float64\ncomp8_inv                             float64\ncomp8_rate_percent_diff               float64\nclick_bool                              int64\ngross_bookings_usd                    float64\nbooking_bool                            int64\ndtype: object"
     },
     "metadata": {},
     "output_type": "display_data"
    },
    {
     "name": "stdout",
     "output_type": "stream",
     "text": [
      "Min. Values\n",
      "srch_id                                          1\n",
      "date_time                      2012-11-01 00:08:29\n",
      "site_id                                          1\n",
      "visitor_location_country_id                      1\n",
      "visitor_hist_starrating                       1.41\n",
      "visitor_hist_adr_usd                           0.0\n",
      "prop_country_id                                  1\n",
      "prop_id                                          1\n",
      "prop_starrating                                  0\n",
      "prop_review_score                              0.0\n",
      "prop_brand_bool                                  0\n",
      "prop_location_score1                           0.0\n",
      "prop_location_score2                           0.0\n",
      "prop_log_historical_price                      0.0\n",
      "position                                         1\n",
      "price_usd                                      0.0\n",
      "promotion_flag                                   0\n",
      "srch_destination_id                              2\n",
      "srch_length_of_stay                              1\n",
      "srch_booking_window                              0\n",
      "srch_adults_count                                1\n",
      "srch_children_count                              0\n",
      "srch_room_count                                  1\n",
      "srch_saturday_night_bool                         0\n",
      "srch_query_affinity_score                -326.5675\n",
      "orig_destination_distance                     0.01\n",
      "random_bool                                      0\n",
      "comp1_rate                                    -1.0\n",
      "comp1_inv                                     -1.0\n",
      "comp1_rate_percent_diff                        2.0\n",
      "comp2_rate                                    -1.0\n",
      "comp2_inv                                     -1.0\n",
      "comp2_rate_percent_diff                        2.0\n",
      "comp3_rate                                    -1.0\n",
      "comp3_inv                                     -1.0\n",
      "comp3_rate_percent_diff                        2.0\n",
      "comp4_rate                                    -1.0\n",
      "comp4_inv                                     -1.0\n",
      "comp4_rate_percent_diff                        2.0\n",
      "comp5_rate                                    -1.0\n",
      "comp5_inv                                     -1.0\n",
      "comp5_rate_percent_diff                        2.0\n",
      "comp6_rate                                    -1.0\n",
      "comp6_inv                                     -1.0\n",
      "comp6_rate_percent_diff                        2.0\n",
      "comp7_rate                                    -1.0\n",
      "comp7_inv                                     -1.0\n",
      "comp7_rate_percent_diff                        2.0\n",
      "comp8_rate                                    -1.0\n",
      "comp8_inv                                     -1.0\n",
      "comp8_rate_percent_diff                        2.0\n",
      "click_bool                                       0\n",
      "gross_bookings_usd                             0.0\n",
      "booking_bool                                     0\n",
      "dtype: object\n",
      "Max. Values\n",
      "srch_id                                     332785\n",
      "date_time                      2013-06-30 23:58:24\n",
      "site_id                                         34\n",
      "visitor_location_country_id                    231\n",
      "visitor_hist_starrating                        5.0\n",
      "visitor_hist_adr_usd                        1958.7\n",
      "prop_country_id                                230\n",
      "prop_id                                     140821\n",
      "prop_starrating                                  5\n",
      "prop_review_score                              5.0\n",
      "prop_brand_bool                                  1\n",
      "prop_location_score1                          6.98\n",
      "prop_location_score2                           1.0\n",
      "prop_log_historical_price                     6.21\n",
      "position                                        40\n",
      "price_usd                               19726328.0\n",
      "promotion_flag                                   1\n",
      "srch_destination_id                          28416\n",
      "srch_length_of_stay                             57\n",
      "srch_booking_window                            492\n",
      "srch_adults_count                                9\n",
      "srch_children_count                              9\n",
      "srch_room_count                                  8\n",
      "srch_saturday_night_bool                         1\n",
      "srch_query_affinity_score                  -2.4941\n",
      "orig_destination_distance                 11666.64\n",
      "random_bool                                      1\n",
      "comp1_rate                                     1.0\n",
      "comp1_inv                                      1.0\n",
      "comp1_rate_percent_diff                    30389.0\n",
      "comp2_rate                                     1.0\n",
      "comp2_inv                                      1.0\n",
      "comp2_rate_percent_diff                   168893.0\n",
      "comp3_rate                                     1.0\n",
      "comp3_inv                                      1.0\n",
      "comp3_rate_percent_diff                   199266.0\n",
      "comp4_rate                                     1.0\n",
      "comp4_inv                                      1.0\n",
      "comp4_rate_percent_diff                  1001584.0\n",
      "comp5_rate                                     1.0\n",
      "comp5_inv                                      1.0\n",
      "comp5_rate_percent_diff                   607561.0\n",
      "comp6_rate                                     1.0\n",
      "comp6_inv                                      1.0\n",
      "comp6_rate_percent_diff                     1620.0\n",
      "comp7_rate                                     1.0\n",
      "comp7_inv                                      1.0\n",
      "comp7_rate_percent_diff                     9900.0\n",
      "comp8_rate                                     1.0\n",
      "comp8_inv                                      1.0\n",
      "comp8_rate_percent_diff                   149400.0\n",
      "click_bool                                       1\n",
      "gross_bookings_usd                       159292.38\n",
      "booking_bool                                     1\n",
      "dtype: object\n"
     ]
    }
   ],
   "source": [
    "# Inspect inferred types\n",
    "display(df.dtypes)\n",
    "\n",
    "# Inspect numerical ranges\n",
    "print('Min. Values')\n",
    "print(df.min())\n",
    "\n",
    "print('Max. Values')\n",
    "print(df.max())"
   ]
  },
  {
   "cell_type": "code",
   "execution_count": 114,
   "outputs": [],
   "source": [
    "# data types\n",
    "\n",
    "# # memory + speed improvements\n",
    "# optimal_dtypes = {'srch_id': np.uint32,\n",
    "#                   'site_id': np.uint32,\n",
    "#                   'visitor_location_country_id': np.uint8,\n",
    "#                   'prop_country_id': np.uint8,\n",
    "#                   'prop_id': np.uint32,\n",
    "#                   'prop_starrating': np.uint8,\n",
    "#                   'prop_brand_bool': np.uint8,\n",
    "#                   'promotion_flag': (np.uint8,\n",
    "#                   'srch_destination_id': np.uint16,\n",
    "#                   'srch_length_of_stay': np.uint16,\n",
    "#                   'srch_booking_window': np.uint16,\n",
    "#                   'srch_adults_count': np.uint8,\n",
    "#                   'srch_children_count': np.uint8,  # 255 kids max should suffice\n",
    "#                   'srch_room_count': np.uint8,\n",
    "#                   'srch_saturday_night_bool': np.uint8,\n",
    "#                   'random_bool': np.uint8,\n",
    "#                   'position': np.uint8,\n",
    "#                   'click_bool': np.uint8,\n",
    "#                   'booking_bool': np.uint8}\n",
    "#\n",
    "# for i in range(1, 9):\n",
    "#     optimal_dtypes[f'comp{i}_rate'] = np.int8,\n",
    "#     optimal_dtypes[f'comp{i}_inv'] = np.int8,     # assignment does not specify -1 but is exists??\n",
    "#     # competitor_dtypes[f'comp{i}_rate_percent_diff'] = np.uint\n",
    "\n",
    "\n",
    "# dfn = df.dtypes(optimal_dtypes)\n",
    "# print(dfn.dtypes)\n"
   ],
   "metadata": {
    "collapsed": false,
    "pycharm": {
     "name": "#%%\n"
    }
   }
  },
  {
   "cell_type": "markdown",
   "source": [
    "## Exploration\n",
    "\n",
    "#### Note: df.shape[0] should be replaced everywhere, since we have varying amount of properties per srch_id"
   ],
   "metadata": {
    "collapsed": false,
    "pycharm": {
     "name": "#%% md\n"
    }
   }
  },
  {
   "cell_type": "markdown",
   "source": [
    "### Count of unique values per column:"
   ],
   "metadata": {
    "collapsed": false,
    "pycharm": {
     "name": "#%% md\n"
    }
   }
  },
  {
   "cell_type": "code",
   "execution_count": 115,
   "outputs": [
    {
     "data": {
      "text/plain": "srch_id                        199795\ndate_time                      198615\nsite_id                            34\nvisitor_location_country_id       210\nvisitor_hist_starrating           312\nvisitor_hist_adr_usd             7799\nprop_country_id                   172\nprop_id                        129113\nprop_starrating                     6\nprop_review_score                  10\nprop_brand_bool                     2\nprop_location_score1              337\nprop_location_score2             9342\nprop_log_historical_price         392\nposition                           40\nprice_usd                       76465\npromotion_flag                      2\nsrch_destination_id             18127\nsrch_length_of_stay                36\nsrch_booking_window               429\nsrch_adults_count                   9\nsrch_children_count                10\nsrch_room_count                     8\nsrch_saturday_night_bool            2\nsrch_query_affinity_score      199387\norig_destination_distance      530595\nrandom_bool                         2\ncomp1_rate                          3\ncomp1_inv                           3\ncomp1_rate_percent_diff          1830\ncomp2_rate                          3\ncomp2_inv                           3\ncomp2_rate_percent_diff           596\ncomp3_rate                          3\ncomp3_inv                           3\ncomp3_rate_percent_diff           534\ncomp4_rate                          3\ncomp4_inv                           3\ncomp4_rate_percent_diff           482\ncomp5_rate                          3\ncomp5_inv                           3\ncomp5_rate_percent_diff           645\ncomp6_rate                          3\ncomp6_inv                           3\ncomp6_rate_percent_diff           380\ncomp7_rate                          3\ncomp7_inv                           3\ncomp7_rate_percent_diff           585\ncomp8_rate                          3\ncomp8_inv                           3\ncomp8_rate_percent_diff           491\nclick_bool                          2\ngross_bookings_usd              60687\nbooking_bool                        2\ndtype: int64"
     },
     "metadata": {},
     "output_type": "display_data"
    }
   ],
   "source": [
    "uniques = df.nunique()\n",
    "display(uniques)"
   ],
   "metadata": {
    "collapsed": false,
    "pycharm": {
     "name": "#%%\n"
    }
   }
  },
  {
   "cell_type": "markdown",
   "source": [
    "### % missing values per column"
   ],
   "metadata": {
    "collapsed": false,
    "pycharm": {
     "name": "#%% md\n"
    }
   }
  },
  {
   "cell_type": "code",
   "source": [
    "missing_percent = 100 * df.isnull().sum() / df.shape[0]\n",
    "display(missing_percent)\n",
    "\n",
    "filled_columns = missing_percent[missing_percent == 0].index.tolist()\n",
    "print(\"Non-missing columns:\")\n",
    "display(filled_columns)"
   ],
   "metadata": {
    "collapsed": false,
    "pycharm": {
     "name": "#%%\n"
    }
   },
   "execution_count": 116,
   "outputs": [
    {
     "data": {
      "text/plain": "srch_id                         0.000000\ndate_time                       0.000000\nsite_id                         0.000000\nvisitor_location_country_id     0.000000\nvisitor_hist_starrating        94.920364\nvisitor_hist_adr_usd           94.897735\nprop_country_id                 0.000000\nprop_id                         0.000000\nprop_starrating                 0.000000\nprop_review_score               0.148517\nprop_brand_bool                 0.000000\nprop_location_score1            0.000000\nprop_location_score2           21.990151\nprop_log_historical_price       0.000000\nposition                        0.000000\nprice_usd                       0.000000\npromotion_flag                  0.000000\nsrch_destination_id             0.000000\nsrch_length_of_stay             0.000000\nsrch_booking_window             0.000000\nsrch_adults_count               0.000000\nsrch_children_count             0.000000\nsrch_room_count                 0.000000\nsrch_saturday_night_bool        0.000000\nsrch_query_affinity_score      93.598552\norig_destination_distance      32.425766\nrandom_bool                     0.000000\ncomp1_rate                     97.581250\ncomp1_inv                      97.387053\ncomp1_rate_percent_diff        98.095353\ncomp2_rate                     59.166392\ncomp2_inv                      57.036710\ncomp2_rate_percent_diff        88.781786\ncomp3_rate                     69.056462\ncomp3_inv                      66.702814\ncomp3_rate_percent_diff        90.464625\ncomp4_rate                     93.800797\ncomp4_inv                      93.069001\ncomp4_rate_percent_diff        97.356256\ncomp5_rate                     55.179155\ncomp5_inv                      52.403089\ncomp5_rate_percent_diff        83.036706\ncomp6_rate                     95.156511\ncomp6_inv                      94.736633\ncomp6_rate_percent_diff        98.060362\ncomp7_rate                     93.640058\ncomp7_inv                      92.811677\ncomp7_rate_percent_diff        97.206428\ncomp8_rate                     61.344900\ncomp8_inv                      59.916016\ncomp8_rate_percent_diff        87.602118\nclick_bool                      0.000000\ngross_bookings_usd             97.208949\nbooking_bool                    0.000000\ndtype: float64"
     },
     "metadata": {},
     "output_type": "display_data"
    },
    {
     "name": "stdout",
     "output_type": "stream",
     "text": [
      "Non-missing columns:\n"
     ]
    },
    {
     "data": {
      "text/plain": "['srch_id',\n 'date_time',\n 'site_id',\n 'visitor_location_country_id',\n 'prop_country_id',\n 'prop_id',\n 'prop_starrating',\n 'prop_brand_bool',\n 'prop_location_score1',\n 'prop_log_historical_price',\n 'position',\n 'price_usd',\n 'promotion_flag',\n 'srch_destination_id',\n 'srch_length_of_stay',\n 'srch_booking_window',\n 'srch_adults_count',\n 'srch_children_count',\n 'srch_room_count',\n 'srch_saturday_night_bool',\n 'random_bool',\n 'click_bool',\n 'booking_bool']"
     },
     "metadata": {},
     "output_type": "display_data"
    }
   ]
  },
  {
   "cell_type": "markdown",
   "source": [
    "### Searches per website"
   ],
   "metadata": {
    "collapsed": false,
    "pycharm": {
     "name": "#%% md\n"
    }
   }
  },
  {
   "cell_type": "code",
   "execution_count": 117,
   "outputs": [
    {
     "data": {
      "text/plain": "site_id\n5     0.622386\n14    0.097142\n15    0.062680\n24    0.047967\n32    0.035764\n18    0.025693\n16    0.018158\n12    0.014902\n19    0.008623\n9     0.008505\n22    0.008120\n11    0.006989\n7     0.006467\n29    0.005945\n31    0.004925\n26    0.003264\n4     0.002722\n25    0.002481\n23    0.002344\n1     0.002207\n34    0.002006\n10    0.001888\n13    0.001655\n17    0.001247\n2     0.001117\n27    0.001026\n28    0.000871\n30    0.000786\n21    0.000737\n3     0.000703\n6     0.000509\n33    0.000134\n20    0.000032\n8     0.000006\nName: srch_id, dtype: float64"
     },
     "metadata": {},
     "output_type": "display_data"
    }
   ],
   "source": [
    "groupby_website = df.groupby('site_id')['srch_id'].count() / df['srch_id'].count()\n",
    "\n",
    "site_searches =  groupby_website.sort_values(ascending=False)\n",
    "display(site_searches)\n",
    "# site 5 == 'expedia.com'??"
   ],
   "metadata": {
    "collapsed": false,
    "pycharm": {
     "name": "#%%\n"
    }
   }
  },
  {
   "cell_type": "markdown",
   "source": [
    "### Clicks/Books per position, grouped by random_bool"
   ],
   "metadata": {
    "collapsed": false,
    "pycharm": {
     "name": "#%% md\n"
    }
   }
  },
  {
   "cell_type": "code",
   "execution_count": 118,
   "outputs": [
    {
     "data": {
      "text/plain": "                      click_bool  booking_bool\nrandom_bool position                          \n0           1              29908         27014\n            2              20271         17976\n            3              15381         13385\n            4              12267         10593\n            5                149            98\n...                          ...           ...\n1           36               308            25\n            37               157            12\n            38                32             4\n            39                 7             2\n            40                 0             0\n\n[80 rows x 2 columns]",
      "text/html": "<div>\n<style scoped>\n    .dataframe tbody tr th:only-of-type {\n        vertical-align: middle;\n    }\n\n    .dataframe tbody tr th {\n        vertical-align: top;\n    }\n\n    .dataframe thead th {\n        text-align: right;\n    }\n</style>\n<table border=\"1\" class=\"dataframe\">\n  <thead>\n    <tr style=\"text-align: right;\">\n      <th></th>\n      <th></th>\n      <th>click_bool</th>\n      <th>booking_bool</th>\n    </tr>\n    <tr>\n      <th>random_bool</th>\n      <th>position</th>\n      <th></th>\n      <th></th>\n    </tr>\n  </thead>\n  <tbody>\n    <tr>\n      <th rowspan=\"5\" valign=\"top\">0</th>\n      <th>1</th>\n      <td>29908</td>\n      <td>27014</td>\n    </tr>\n    <tr>\n      <th>2</th>\n      <td>20271</td>\n      <td>17976</td>\n    </tr>\n    <tr>\n      <th>3</th>\n      <td>15381</td>\n      <td>13385</td>\n    </tr>\n    <tr>\n      <th>4</th>\n      <td>12267</td>\n      <td>10593</td>\n    </tr>\n    <tr>\n      <th>5</th>\n      <td>149</td>\n      <td>98</td>\n    </tr>\n    <tr>\n      <th>...</th>\n      <th>...</th>\n      <td>...</td>\n      <td>...</td>\n    </tr>\n    <tr>\n      <th rowspan=\"5\" valign=\"top\">1</th>\n      <th>36</th>\n      <td>308</td>\n      <td>25</td>\n    </tr>\n    <tr>\n      <th>37</th>\n      <td>157</td>\n      <td>12</td>\n    </tr>\n    <tr>\n      <th>38</th>\n      <td>32</td>\n      <td>4</td>\n    </tr>\n    <tr>\n      <th>39</th>\n      <td>7</td>\n      <td>2</td>\n    </tr>\n    <tr>\n      <th>40</th>\n      <td>0</td>\n      <td>0</td>\n    </tr>\n  </tbody>\n</table>\n<p>80 rows × 2 columns</p>\n</div>"
     },
     "metadata": {},
     "output_type": "display_data"
    },
    {
     "data": {
      "text/plain": "             click_bool  booking_bool\nrandom_bool                          \n0                153502        130578\n1                 68377          7812",
      "text/html": "<div>\n<style scoped>\n    .dataframe tbody tr th:only-of-type {\n        vertical-align: middle;\n    }\n\n    .dataframe tbody tr th {\n        vertical-align: top;\n    }\n\n    .dataframe thead th {\n        text-align: right;\n    }\n</style>\n<table border=\"1\" class=\"dataframe\">\n  <thead>\n    <tr style=\"text-align: right;\">\n      <th></th>\n      <th>click_bool</th>\n      <th>booking_bool</th>\n    </tr>\n    <tr>\n      <th>random_bool</th>\n      <th></th>\n      <th></th>\n    </tr>\n  </thead>\n  <tbody>\n    <tr>\n      <th>0</th>\n      <td>153502</td>\n      <td>130578</td>\n    </tr>\n    <tr>\n      <th>1</th>\n      <td>68377</td>\n      <td>7812</td>\n    </tr>\n  </tbody>\n</table>\n</div>"
     },
     "metadata": {},
     "output_type": "display_data"
    },
    {
     "data": {
      "text/plain": "                      click_bool  booking_bool\nrandom_bool position                          \n0           1           0.194838      0.206880\n            2           0.132057      0.137665\n            3           0.100201      0.102506\n            4           0.079914      0.081124\n            5           0.000971      0.000751\n...                          ...           ...\n1           36          0.004504      0.003200\n            37          0.002296      0.001536\n            38          0.000468      0.000512\n            39          0.000102      0.000256\n            40          0.000000      0.000000\n\n[80 rows x 2 columns]",
      "text/html": "<div>\n<style scoped>\n    .dataframe tbody tr th:only-of-type {\n        vertical-align: middle;\n    }\n\n    .dataframe tbody tr th {\n        vertical-align: top;\n    }\n\n    .dataframe thead th {\n        text-align: right;\n    }\n</style>\n<table border=\"1\" class=\"dataframe\">\n  <thead>\n    <tr style=\"text-align: right;\">\n      <th></th>\n      <th></th>\n      <th>click_bool</th>\n      <th>booking_bool</th>\n    </tr>\n    <tr>\n      <th>random_bool</th>\n      <th>position</th>\n      <th></th>\n      <th></th>\n    </tr>\n  </thead>\n  <tbody>\n    <tr>\n      <th rowspan=\"5\" valign=\"top\">0</th>\n      <th>1</th>\n      <td>0.194838</td>\n      <td>0.206880</td>\n    </tr>\n    <tr>\n      <th>2</th>\n      <td>0.132057</td>\n      <td>0.137665</td>\n    </tr>\n    <tr>\n      <th>3</th>\n      <td>0.100201</td>\n      <td>0.102506</td>\n    </tr>\n    <tr>\n      <th>4</th>\n      <td>0.079914</td>\n      <td>0.081124</td>\n    </tr>\n    <tr>\n      <th>5</th>\n      <td>0.000971</td>\n      <td>0.000751</td>\n    </tr>\n    <tr>\n      <th>...</th>\n      <th>...</th>\n      <td>...</td>\n      <td>...</td>\n    </tr>\n    <tr>\n      <th rowspan=\"5\" valign=\"top\">1</th>\n      <th>36</th>\n      <td>0.004504</td>\n      <td>0.003200</td>\n    </tr>\n    <tr>\n      <th>37</th>\n      <td>0.002296</td>\n      <td>0.001536</td>\n    </tr>\n    <tr>\n      <th>38</th>\n      <td>0.000468</td>\n      <td>0.000512</td>\n    </tr>\n    <tr>\n      <th>39</th>\n      <td>0.000102</td>\n      <td>0.000256</td>\n    </tr>\n    <tr>\n      <th>40</th>\n      <td>0.000000</td>\n      <td>0.000000</td>\n    </tr>\n  </tbody>\n</table>\n<p>80 rows × 2 columns</p>\n</div>"
     },
     "metadata": {},
     "output_type": "display_data"
    }
   ],
   "source": [
    "# groupby_random_bool = df.groupby('random_bool')[['click_bool', 'booking_bool']].count()\n",
    "groupby_position = df.groupby(['random_bool', 'position'])[['click_bool', 'booking_bool']].sum()\n",
    "groupby_random_bool = groupby_position.groupby('random_bool').sum()\n",
    "click_book_ratio = groupby_position / groupby_random_bool\n",
    "display(groupby_position)\n",
    "display(groupby_random_bool)\n",
    "display(click_book_ratio)"
   ],
   "metadata": {
    "collapsed": false,
    "pycharm": {
     "name": "#%%\n"
    }
   }
  },
  {
   "cell_type": "markdown",
   "source": [
    "### Location distributions"
   ],
   "metadata": {
    "collapsed": false,
    "pycharm": {
     "name": "#%% md\n"
    }
   }
  },
  {
   "cell_type": "code",
   "execution_count": 119,
   "outputs": [
    {
     "data": {
      "text/plain": "visitor_location_country_id\n219    58.335752\n100     9.992766\n55      5.858021\n216     4.384223\n220     3.515204\n         ...    \n226     0.000504\n190     0.000484\n146     0.000303\n83      0.000262\n150     0.000161\nName: srch_id, Length: 210, dtype: float64"
     },
     "metadata": {},
     "output_type": "display_data"
    },
    {
     "data": {
      "text/plain": "prop_country_id\n219    61.111596\n100     6.277959\n55      3.760628\n31      3.111662\n99      2.730507\n         ...    \n180     0.000242\n7       0.000202\n126     0.000141\n204     0.000101\n165     0.000040\nName: srch_id, Length: 172, dtype: float64"
     },
     "metadata": {},
     "output_type": "display_data"
    },
    {
     "data": {
      "text/plain": "srch_destination_id\n8192     1.408373\n4562     1.151392\n9402     0.819406\n8347     0.671070\n10979    0.670869\n           ...   \n23013    0.000101\n15285    0.000101\n19515    0.000101\n541      0.000101\n10492    0.000101\nName: srch_id, Length: 18127, dtype: float64"
     },
     "metadata": {},
     "output_type": "display_data"
    }
   ],
   "source": [
    "groupby_home_country = df.groupby('visitor_location_country_id')['srch_id'].count()\n",
    "distribution_home_country = 100 * (groupby_home_country / df.shape[0]).sort_values(ascending=False)\n",
    "display(distribution_home_country)\n",
    "# Country 219 == USA??\n",
    "# Country 100 == UK??\n",
    "\n",
    "groupby_prop_country = df.groupby('prop_country_id')['srch_id'].count()\n",
    "distribution_prop_country = 100 * (groupby_prop_country / df.shape[0]).sort_values(ascending=False)\n",
    "display(distribution_prop_country)\n",
    "\n",
    "groupby_destination_id = df.groupby('srch_destination_id')['srch_id'].count()\n",
    "distribution_destination_id = 100 * (groupby_destination_id / df.shape[0]).sort_values(ascending=False)\n",
    "display(distribution_destination_id)\n",
    "\n",
    "# 8192 == NYC??\n",
    "# 4562 == LA?? Miami??\n"
   ],
   "metadata": {
    "collapsed": false,
    "pycharm": {
     "name": "#%%\n"
    }
   }
  },
  {
   "cell_type": "markdown",
   "source": [
    "### Bookings seasonality"
   ],
   "metadata": {
    "collapsed": false,
    "pycharm": {
     "name": "#%% md\n"
    }
   }
  },
  {
   "cell_type": "code",
   "execution_count": 120,
   "outputs": [
    {
     "data": {
      "text/plain": "                  date_time       booking_start\n0       2013-04-04 08:32:15 2013-04-04 08:32:15\n1       2013-04-04 08:32:15 2013-04-04 08:32:15\n2       2013-04-04 08:32:15 2013-04-04 08:32:15\n3       2013-04-04 08:32:15 2013-04-04 08:32:15\n4       2013-04-04 08:32:15 2013-04-04 08:32:15\n...                     ...                 ...\n4958342 2013-06-30 19:55:18 2013-07-21 19:55:18\n4958343 2013-06-30 19:55:18 2013-07-21 19:55:18\n4958344 2013-06-30 19:55:18 2013-07-21 19:55:18\n4958345 2013-06-30 19:55:18 2013-07-21 19:55:18\n4958346 2013-06-30 19:55:18 2013-07-21 19:55:18\n\n[4958347 rows x 2 columns]",
      "text/html": "<div>\n<style scoped>\n    .dataframe tbody tr th:only-of-type {\n        vertical-align: middle;\n    }\n\n    .dataframe tbody tr th {\n        vertical-align: top;\n    }\n\n    .dataframe thead th {\n        text-align: right;\n    }\n</style>\n<table border=\"1\" class=\"dataframe\">\n  <thead>\n    <tr style=\"text-align: right;\">\n      <th></th>\n      <th>date_time</th>\n      <th>booking_start</th>\n    </tr>\n  </thead>\n  <tbody>\n    <tr>\n      <th>0</th>\n      <td>2013-04-04 08:32:15</td>\n      <td>2013-04-04 08:32:15</td>\n    </tr>\n    <tr>\n      <th>1</th>\n      <td>2013-04-04 08:32:15</td>\n      <td>2013-04-04 08:32:15</td>\n    </tr>\n    <tr>\n      <th>2</th>\n      <td>2013-04-04 08:32:15</td>\n      <td>2013-04-04 08:32:15</td>\n    </tr>\n    <tr>\n      <th>3</th>\n      <td>2013-04-04 08:32:15</td>\n      <td>2013-04-04 08:32:15</td>\n    </tr>\n    <tr>\n      <th>4</th>\n      <td>2013-04-04 08:32:15</td>\n      <td>2013-04-04 08:32:15</td>\n    </tr>\n    <tr>\n      <th>...</th>\n      <td>...</td>\n      <td>...</td>\n    </tr>\n    <tr>\n      <th>4958342</th>\n      <td>2013-06-30 19:55:18</td>\n      <td>2013-07-21 19:55:18</td>\n    </tr>\n    <tr>\n      <th>4958343</th>\n      <td>2013-06-30 19:55:18</td>\n      <td>2013-07-21 19:55:18</td>\n    </tr>\n    <tr>\n      <th>4958344</th>\n      <td>2013-06-30 19:55:18</td>\n      <td>2013-07-21 19:55:18</td>\n    </tr>\n    <tr>\n      <th>4958345</th>\n      <td>2013-06-30 19:55:18</td>\n      <td>2013-07-21 19:55:18</td>\n    </tr>\n    <tr>\n      <th>4958346</th>\n      <td>2013-06-30 19:55:18</td>\n      <td>2013-07-21 19:55:18</td>\n    </tr>\n  </tbody>\n</table>\n<p>4958347 rows × 2 columns</p>\n</div>"
     },
     "metadata": {},
     "output_type": "display_data"
    },
    {
     "data": {
      "text/plain": "<Figure size 432x288 with 1 Axes>",
      "image/png": "[encoded data removed]"
     },
     "metadata": {
      "needs_background": "light"
     },
     "output_type": "display_data"
    }
   ],
   "source": [
    "df['booking_start'] = df['date_time'] + pd.to_timedelta(df['srch_booking_window'], unit='D')  # speedup with vectorize?\n",
    "display(df[['date_time', 'booking_start']])\n",
    "df['booking_start_weeknr'] = df['booking_start'].dt.isocalendar().week\n",
    "\n",
    "groupby_weeknr = df.groupby('booking_start_weeknr')['srch_id'].count()\n",
    "distr_weeknr = groupby_weeknr / df.shape[0]\n",
    "\n",
    "import matplotlib.pyplot as plt\n",
    "fig = plt.figure()\n",
    "ax = fig.add_axes([0,0,1,1])\n",
    "x = distr_weeknr.index.tolist()\n",
    "y = distr_weeknr.values\n",
    "\n",
    "ax.bar(x, y, 0.1, color='r')\n",
    "ax.set_ylabel('Booking Ratio')\n",
    "ax.set_xlabel('Week Nr.')\n",
    "ax.set_title('Bookings Seasonality')\n",
    "ax.set_title('Bookings Seasonality')\n",
    "plt.show()"
   ],
   "metadata": {
    "collapsed": false,
    "pycharm": {
     "name": "#%%\n"
    }
   }
  },
  {
   "cell_type": "markdown",
   "source": [
    "## Fill Na\n"
   ],
   "metadata": {
    "collapsed": false,
    "pycharm": {
     "name": "#%% md\n"
    }
   }
  },
  {
   "cell_type": "code",
   "execution_count": 121,
   "outputs": [],
   "source": [
    "# TODO: prop_review_score by average of hotel?\n",
    "\n",
    "\n",
    "\n",
    "\n",
    "\n",
    "\n"
   ],
   "metadata": {
    "collapsed": false,
    "pycharm": {
     "name": "#%%\n"
    }
   }
  }
 ],
 "metadata": {
  "kernelspec": {
   "display_name": "DMT",
   "language": "python",
   "name": "dmt"
  },
  "language_info": {
   "codemirror_mode": {
    "name": "ipython",
    "version": 3
   },
   "file_extension": ".py",
   "mimetype": "text/x-python",
   "name": "python",
   "nbconvert_exporter": "python",
   "pygments_lexer": "ipython3",
   "version": "3.7.10"
  }
 },
 "nbformat": 4,
 "nbformat_minor": 1
}