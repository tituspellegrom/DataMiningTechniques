{
 "cells": [
  {
   "cell_type": "markdown",
   "metadata": {
    "pycharm": {
     "name": "#%% md\n"
    }
   },
   "source": [
    "# Data Exploration"
   ]
  },
  {
   "cell_type": "markdown",
   "metadata": {
    "pycharm": {
     "name": "#%% md\n"
    }
   },
   "source": [
    "### Imports\n"
   ]
  },
  {
   "cell_type": "code",
   "execution_count": 1,
   "metadata": {
    "pycharm": {
     "name": "#%%\n"
    }
   },
   "outputs": [],
   "source": [
    "import pandas as pd\n",
    "import numpy as np\n",
    "from tqdm import tqdm\n",
    "import matplotlib.pyplot as plt\n",
    "import seaborn as sns\n",
    "import platform\n"
   ]
  },
  {
   "cell_type": "markdown",
   "metadata": {
    "pycharm": {
     "name": "#%% md\n"
    }
   },
   "source": [
    "<div class=\"alert alert-block alert-warning\">\n",
    "<b>Dask:</b> Multiprocessing package that can be used for (almost all) Pandas & Scikit-learn functionality.\n",
    " Ships with Anaconda, but not with MiniConda.\n",
    "</div>"
   ]
  },
  {
   "cell_type": "code",
   "execution_count": 2,
   "metadata": {
    "pycharm": {
     "name": "#%%\n"
    }
   },
   "outputs": [],
   "source": [
    "# from sklearn.grid_search import GridSearchCV\n",
    "#from dklearn.grid_search import GridSearchCV   # voorbeeld van dklearn => dit gaan we zeker nodig hebben bij hyperopt etc.\n",
    "# from dask.distributed import Client\n",
    "# client = Client() # often http://localhost:8787/status"
   ]
  },
  {
   "cell_type": "markdown",
   "metadata": {},
   "source": [
    "### Load Data In"
   ]
  },
  {
   "cell_type": "code",
   "execution_count": 3,
   "metadata": {
    "pycharm": {
     "name": "#%%timeit -n 1 -r 1\n"
    }
   },
   "outputs": [
    {
     "data": {
      "text/html": [
       "<div>\n",
       "<style scoped>\n",
       "    .dataframe tbody tr th:only-of-type {\n",
       "        vertical-align: middle;\n",
       "    }\n",
       "\n",
       "    .dataframe tbody tr th {\n",
       "        vertical-align: top;\n",
       "    }\n",
       "\n",
       "    .dataframe thead th {\n",
       "        text-align: right;\n",
       "    }\n",
       "</style>\n",
       "<table border=\"1\" class=\"dataframe\">\n",
       "  <thead>\n",
       "    <tr style=\"text-align: right;\">\n",
       "      <th></th>\n",
       "      <th>srch_id</th>\n",
       "      <th>date_time</th>\n",
       "      <th>site_id</th>\n",
       "      <th>visitor_location_country_id</th>\n",
       "      <th>visitor_hist_starrating</th>\n",
       "      <th>visitor_hist_adr_usd</th>\n",
       "      <th>prop_country_id</th>\n",
       "      <th>prop_id</th>\n",
       "      <th>prop_starrating</th>\n",
       "      <th>prop_review_score</th>\n",
       "      <th>...</th>\n",
       "      <th>comp6_rate_percent_diff</th>\n",
       "      <th>comp7_rate</th>\n",
       "      <th>comp7_inv</th>\n",
       "      <th>comp7_rate_percent_diff</th>\n",
       "      <th>comp8_rate</th>\n",
       "      <th>comp8_inv</th>\n",
       "      <th>comp8_rate_percent_diff</th>\n",
       "      <th>click_bool</th>\n",
       "      <th>gross_bookings_usd</th>\n",
       "      <th>booking_bool</th>\n",
       "    </tr>\n",
       "  </thead>\n",
       "  <tbody>\n",
       "    <tr>\n",
       "      <th>0</th>\n",
       "      <td>1</td>\n",
       "      <td>2013-04-04 08:32:15</td>\n",
       "      <td>12</td>\n",
       "      <td>187</td>\n",
       "      <td>NaN</td>\n",
       "      <td>NaN</td>\n",
       "      <td>219</td>\n",
       "      <td>893</td>\n",
       "      <td>3</td>\n",
       "      <td>3.5</td>\n",
       "      <td>...</td>\n",
       "      <td>NaN</td>\n",
       "      <td>NaN</td>\n",
       "      <td>NaN</td>\n",
       "      <td>NaN</td>\n",
       "      <td>0.0</td>\n",
       "      <td>0.0</td>\n",
       "      <td>NaN</td>\n",
       "      <td>0</td>\n",
       "      <td>NaN</td>\n",
       "      <td>0</td>\n",
       "    </tr>\n",
       "    <tr>\n",
       "      <th>1</th>\n",
       "      <td>1</td>\n",
       "      <td>2013-04-04 08:32:15</td>\n",
       "      <td>12</td>\n",
       "      <td>187</td>\n",
       "      <td>NaN</td>\n",
       "      <td>NaN</td>\n",
       "      <td>219</td>\n",
       "      <td>10404</td>\n",
       "      <td>4</td>\n",
       "      <td>4.0</td>\n",
       "      <td>...</td>\n",
       "      <td>NaN</td>\n",
       "      <td>NaN</td>\n",
       "      <td>NaN</td>\n",
       "      <td>NaN</td>\n",
       "      <td>0.0</td>\n",
       "      <td>0.0</td>\n",
       "      <td>NaN</td>\n",
       "      <td>0</td>\n",
       "      <td>NaN</td>\n",
       "      <td>0</td>\n",
       "    </tr>\n",
       "    <tr>\n",
       "      <th>2</th>\n",
       "      <td>1</td>\n",
       "      <td>2013-04-04 08:32:15</td>\n",
       "      <td>12</td>\n",
       "      <td>187</td>\n",
       "      <td>NaN</td>\n",
       "      <td>NaN</td>\n",
       "      <td>219</td>\n",
       "      <td>21315</td>\n",
       "      <td>3</td>\n",
       "      <td>4.5</td>\n",
       "      <td>...</td>\n",
       "      <td>NaN</td>\n",
       "      <td>NaN</td>\n",
       "      <td>NaN</td>\n",
       "      <td>NaN</td>\n",
       "      <td>0.0</td>\n",
       "      <td>0.0</td>\n",
       "      <td>NaN</td>\n",
       "      <td>0</td>\n",
       "      <td>NaN</td>\n",
       "      <td>0</td>\n",
       "    </tr>\n",
       "    <tr>\n",
       "      <th>3</th>\n",
       "      <td>1</td>\n",
       "      <td>2013-04-04 08:32:15</td>\n",
       "      <td>12</td>\n",
       "      <td>187</td>\n",
       "      <td>NaN</td>\n",
       "      <td>NaN</td>\n",
       "      <td>219</td>\n",
       "      <td>27348</td>\n",
       "      <td>2</td>\n",
       "      <td>4.0</td>\n",
       "      <td>...</td>\n",
       "      <td>NaN</td>\n",
       "      <td>NaN</td>\n",
       "      <td>NaN</td>\n",
       "      <td>NaN</td>\n",
       "      <td>-1.0</td>\n",
       "      <td>0.0</td>\n",
       "      <td>5.0</td>\n",
       "      <td>0</td>\n",
       "      <td>NaN</td>\n",
       "      <td>0</td>\n",
       "    </tr>\n",
       "    <tr>\n",
       "      <th>4</th>\n",
       "      <td>1</td>\n",
       "      <td>2013-04-04 08:32:15</td>\n",
       "      <td>12</td>\n",
       "      <td>187</td>\n",
       "      <td>NaN</td>\n",
       "      <td>NaN</td>\n",
       "      <td>219</td>\n",
       "      <td>29604</td>\n",
       "      <td>4</td>\n",
       "      <td>3.5</td>\n",
       "      <td>...</td>\n",
       "      <td>NaN</td>\n",
       "      <td>NaN</td>\n",
       "      <td>NaN</td>\n",
       "      <td>NaN</td>\n",
       "      <td>0.0</td>\n",
       "      <td>0.0</td>\n",
       "      <td>NaN</td>\n",
       "      <td>0</td>\n",
       "      <td>NaN</td>\n",
       "      <td>0</td>\n",
       "    </tr>\n",
       "    <tr>\n",
       "      <th>...</th>\n",
       "      <td>...</td>\n",
       "      <td>...</td>\n",
       "      <td>...</td>\n",
       "      <td>...</td>\n",
       "      <td>...</td>\n",
       "      <td>...</td>\n",
       "      <td>...</td>\n",
       "      <td>...</td>\n",
       "      <td>...</td>\n",
       "      <td>...</td>\n",
       "      <td>...</td>\n",
       "      <td>...</td>\n",
       "      <td>...</td>\n",
       "      <td>...</td>\n",
       "      <td>...</td>\n",
       "      <td>...</td>\n",
       "      <td>...</td>\n",
       "      <td>...</td>\n",
       "      <td>...</td>\n",
       "      <td>...</td>\n",
       "      <td>...</td>\n",
       "    </tr>\n",
       "    <tr>\n",
       "      <th>4958342</th>\n",
       "      <td>332785</td>\n",
       "      <td>2013-06-30 19:55:18</td>\n",
       "      <td>5</td>\n",
       "      <td>219</td>\n",
       "      <td>NaN</td>\n",
       "      <td>NaN</td>\n",
       "      <td>219</td>\n",
       "      <td>77700</td>\n",
       "      <td>3</td>\n",
       "      <td>4.0</td>\n",
       "      <td>...</td>\n",
       "      <td>NaN</td>\n",
       "      <td>NaN</td>\n",
       "      <td>NaN</td>\n",
       "      <td>NaN</td>\n",
       "      <td>NaN</td>\n",
       "      <td>NaN</td>\n",
       "      <td>NaN</td>\n",
       "      <td>0</td>\n",
       "      <td>NaN</td>\n",
       "      <td>0</td>\n",
       "    </tr>\n",
       "    <tr>\n",
       "      <th>4958343</th>\n",
       "      <td>332785</td>\n",
       "      <td>2013-06-30 19:55:18</td>\n",
       "      <td>5</td>\n",
       "      <td>219</td>\n",
       "      <td>NaN</td>\n",
       "      <td>NaN</td>\n",
       "      <td>219</td>\n",
       "      <td>88083</td>\n",
       "      <td>3</td>\n",
       "      <td>4.0</td>\n",
       "      <td>...</td>\n",
       "      <td>NaN</td>\n",
       "      <td>NaN</td>\n",
       "      <td>NaN</td>\n",
       "      <td>NaN</td>\n",
       "      <td>NaN</td>\n",
       "      <td>NaN</td>\n",
       "      <td>NaN</td>\n",
       "      <td>0</td>\n",
       "      <td>NaN</td>\n",
       "      <td>0</td>\n",
       "    </tr>\n",
       "    <tr>\n",
       "      <th>4958344</th>\n",
       "      <td>332785</td>\n",
       "      <td>2013-06-30 19:55:18</td>\n",
       "      <td>5</td>\n",
       "      <td>219</td>\n",
       "      <td>NaN</td>\n",
       "      <td>NaN</td>\n",
       "      <td>219</td>\n",
       "      <td>94508</td>\n",
       "      <td>3</td>\n",
       "      <td>3.5</td>\n",
       "      <td>...</td>\n",
       "      <td>NaN</td>\n",
       "      <td>NaN</td>\n",
       "      <td>NaN</td>\n",
       "      <td>NaN</td>\n",
       "      <td>NaN</td>\n",
       "      <td>NaN</td>\n",
       "      <td>NaN</td>\n",
       "      <td>0</td>\n",
       "      <td>NaN</td>\n",
       "      <td>0</td>\n",
       "    </tr>\n",
       "    <tr>\n",
       "      <th>4958345</th>\n",
       "      <td>332785</td>\n",
       "      <td>2013-06-30 19:55:18</td>\n",
       "      <td>5</td>\n",
       "      <td>219</td>\n",
       "      <td>NaN</td>\n",
       "      <td>NaN</td>\n",
       "      <td>219</td>\n",
       "      <td>128360</td>\n",
       "      <td>3</td>\n",
       "      <td>5.0</td>\n",
       "      <td>...</td>\n",
       "      <td>NaN</td>\n",
       "      <td>NaN</td>\n",
       "      <td>NaN</td>\n",
       "      <td>NaN</td>\n",
       "      <td>NaN</td>\n",
       "      <td>NaN</td>\n",
       "      <td>NaN</td>\n",
       "      <td>1</td>\n",
       "      <td>157.84</td>\n",
       "      <td>1</td>\n",
       "    </tr>\n",
       "    <tr>\n",
       "      <th>4958346</th>\n",
       "      <td>332785</td>\n",
       "      <td>2013-06-30 19:55:18</td>\n",
       "      <td>5</td>\n",
       "      <td>219</td>\n",
       "      <td>NaN</td>\n",
       "      <td>NaN</td>\n",
       "      <td>219</td>\n",
       "      <td>134949</td>\n",
       "      <td>3</td>\n",
       "      <td>2.5</td>\n",
       "      <td>...</td>\n",
       "      <td>NaN</td>\n",
       "      <td>NaN</td>\n",
       "      <td>NaN</td>\n",
       "      <td>NaN</td>\n",
       "      <td>NaN</td>\n",
       "      <td>NaN</td>\n",
       "      <td>NaN</td>\n",
       "      <td>0</td>\n",
       "      <td>NaN</td>\n",
       "      <td>0</td>\n",
       "    </tr>\n",
       "  </tbody>\n",
       "</table>\n",
       "<p>4958347 rows × 54 columns</p>\n",
       "</div>"
      ],
      "text/plain": [
       "         srch_id           date_time  site_id  visitor_location_country_id  \\\n",
       "0              1 2013-04-04 08:32:15       12                          187   \n",
       "1              1 2013-04-04 08:32:15       12                          187   \n",
       "2              1 2013-04-04 08:32:15       12                          187   \n",
       "3              1 2013-04-04 08:32:15       12                          187   \n",
       "4              1 2013-04-04 08:32:15       12                          187   \n",
       "...          ...                 ...      ...                          ...   \n",
       "4958342   332785 2013-06-30 19:55:18        5                          219   \n",
       "4958343   332785 2013-06-30 19:55:18        5                          219   \n",
       "4958344   332785 2013-06-30 19:55:18        5                          219   \n",
       "4958345   332785 2013-06-30 19:55:18        5                          219   \n",
       "4958346   332785 2013-06-30 19:55:18        5                          219   \n",
       "\n",
       "         visitor_hist_starrating  visitor_hist_adr_usd  prop_country_id  \\\n",
       "0                            NaN                   NaN              219   \n",
       "1                            NaN                   NaN              219   \n",
       "2                            NaN                   NaN              219   \n",
       "3                            NaN                   NaN              219   \n",
       "4                            NaN                   NaN              219   \n",
       "...                          ...                   ...              ...   \n",
       "4958342                      NaN                   NaN              219   \n",
       "4958343                      NaN                   NaN              219   \n",
       "4958344                      NaN                   NaN              219   \n",
       "4958345                      NaN                   NaN              219   \n",
       "4958346                      NaN                   NaN              219   \n",
       "\n",
       "         prop_id  prop_starrating  prop_review_score  ...  \\\n",
       "0            893                3                3.5  ...   \n",
       "1          10404                4                4.0  ...   \n",
       "2          21315                3                4.5  ...   \n",
       "3          27348                2                4.0  ...   \n",
       "4          29604                4                3.5  ...   \n",
       "...          ...              ...                ...  ...   \n",
       "4958342    77700                3                4.0  ...   \n",
       "4958343    88083                3                4.0  ...   \n",
       "4958344    94508                3                3.5  ...   \n",
       "4958345   128360                3                5.0  ...   \n",
       "4958346   134949                3                2.5  ...   \n",
       "\n",
       "         comp6_rate_percent_diff  comp7_rate  comp7_inv  \\\n",
       "0                            NaN         NaN        NaN   \n",
       "1                            NaN         NaN        NaN   \n",
       "2                            NaN         NaN        NaN   \n",
       "3                            NaN         NaN        NaN   \n",
       "4                            NaN         NaN        NaN   \n",
       "...                          ...         ...        ...   \n",
       "4958342                      NaN         NaN        NaN   \n",
       "4958343                      NaN         NaN        NaN   \n",
       "4958344                      NaN         NaN        NaN   \n",
       "4958345                      NaN         NaN        NaN   \n",
       "4958346                      NaN         NaN        NaN   \n",
       "\n",
       "         comp7_rate_percent_diff  comp8_rate  comp8_inv  \\\n",
       "0                            NaN         0.0        0.0   \n",
       "1                            NaN         0.0        0.0   \n",
       "2                            NaN         0.0        0.0   \n",
       "3                            NaN        -1.0        0.0   \n",
       "4                            NaN         0.0        0.0   \n",
       "...                          ...         ...        ...   \n",
       "4958342                      NaN         NaN        NaN   \n",
       "4958343                      NaN         NaN        NaN   \n",
       "4958344                      NaN         NaN        NaN   \n",
       "4958345                      NaN         NaN        NaN   \n",
       "4958346                      NaN         NaN        NaN   \n",
       "\n",
       "         comp8_rate_percent_diff  click_bool  gross_bookings_usd  booking_bool  \n",
       "0                            NaN           0                 NaN             0  \n",
       "1                            NaN           0                 NaN             0  \n",
       "2                            NaN           0                 NaN             0  \n",
       "3                            5.0           0                 NaN             0  \n",
       "4                            NaN           0                 NaN             0  \n",
       "...                          ...         ...                 ...           ...  \n",
       "4958342                      NaN           0                 NaN             0  \n",
       "4958343                      NaN           0                 NaN             0  \n",
       "4958344                      NaN           0                 NaN             0  \n",
       "4958345                      NaN           1              157.84             1  \n",
       "4958346                      NaN           0                 NaN             0  \n",
       "\n",
       "[4958347 rows x 54 columns]"
      ]
     },
     "metadata": {},
     "output_type": "display_data"
    }
   ],
   "source": [
    "path_dominic = 'C:/Users/doist/OneDrive/Documenten/Business Analytics/Master/Year 1/Data Mining Techniques/Assignment 2/Data/'\n",
    "path_titus = '2nd-assignment-dmt-2021/'\n",
    "path_jaimie = 'C:/Users/Jaimie/Documents/VU/Master jaar 1/'\n",
    "\n",
    "use_dominic = False\n",
    "dir = path_dominic if use_dominic else path_titus\n",
    "\n",
    "if platform.node() == 'DESKTOP-5JGA1BG':\n",
    "    dir = path_jaimie\n",
    "    \n",
    "df = pd.read_csv(dir+'training_set_VU_DM.csv', parse_dates=['date_time'])\n",
    "display(df)"
   ]
  },
  {
   "cell_type": "code",
   "execution_count": 4,
   "metadata": {},
   "outputs": [
    {
     "name": "stdout",
     "output_type": "stream",
     "text": [
      "Size in Memory: 2043 MB\n"
     ]
    }
   ],
   "source": [
    "mem_size = df.memory_usage(index=True).sum() / 1_024**2\n",
    "\n",
    "print(f\"Size in Memory: {mem_size:.0f} MB\")"
   ]
  },
  {
   "cell_type": "code",
   "execution_count": 5,
   "metadata": {},
   "outputs": [
    {
     "data": {
      "text/plain": [
       "srch_id                                 int64\n",
       "date_time                      datetime64[ns]\n",
       "site_id                                 int64\n",
       "visitor_location_country_id             int64\n",
       "visitor_hist_starrating               float64\n",
       "visitor_hist_adr_usd                  float64\n",
       "prop_country_id                         int64\n",
       "prop_id                                 int64\n",
       "prop_starrating                         int64\n",
       "prop_review_score                     float64\n",
       "prop_brand_bool                         int64\n",
       "prop_location_score1                  float64\n",
       "prop_location_score2                  float64\n",
       "prop_log_historical_price             float64\n",
       "position                                int64\n",
       "price_usd                             float64\n",
       "promotion_flag                          int64\n",
       "srch_destination_id                     int64\n",
       "srch_length_of_stay                     int64\n",
       "srch_booking_window                     int64\n",
       "srch_adults_count                       int64\n",
       "srch_children_count                     int64\n",
       "srch_room_count                         int64\n",
       "srch_saturday_night_bool                int64\n",
       "srch_query_affinity_score             float64\n",
       "orig_destination_distance             float64\n",
       "random_bool                             int64\n",
       "comp1_rate                            float64\n",
       "comp1_inv                             float64\n",
       "comp1_rate_percent_diff               float64\n",
       "comp2_rate                            float64\n",
       "comp2_inv                             float64\n",
       "comp2_rate_percent_diff               float64\n",
       "comp3_rate                            float64\n",
       "comp3_inv                             float64\n",
       "comp3_rate_percent_diff               float64\n",
       "comp4_rate                            float64\n",
       "comp4_inv                             float64\n",
       "comp4_rate_percent_diff               float64\n",
       "comp5_rate                            float64\n",
       "comp5_inv                             float64\n",
       "comp5_rate_percent_diff               float64\n",
       "comp6_rate                            float64\n",
       "comp6_inv                             float64\n",
       "comp6_rate_percent_diff               float64\n",
       "comp7_rate                            float64\n",
       "comp7_inv                             float64\n",
       "comp7_rate_percent_diff               float64\n",
       "comp8_rate                            float64\n",
       "comp8_inv                             float64\n",
       "comp8_rate_percent_diff               float64\n",
       "click_bool                              int64\n",
       "gross_bookings_usd                    float64\n",
       "booking_bool                            int64\n",
       "dtype: object"
      ]
     },
     "metadata": {},
     "output_type": "display_data"
    },
    {
     "data": {
      "text/html": [
       "<div>\n",
       "<style scoped>\n",
       "    .dataframe tbody tr th:only-of-type {\n",
       "        vertical-align: middle;\n",
       "    }\n",
       "\n",
       "    .dataframe tbody tr th {\n",
       "        vertical-align: top;\n",
       "    }\n",
       "\n",
       "    .dataframe thead th {\n",
       "        text-align: right;\n",
       "    }\n",
       "</style>\n",
       "<table border=\"1\" class=\"dataframe\">\n",
       "  <thead>\n",
       "    <tr style=\"text-align: right;\">\n",
       "      <th></th>\n",
       "      <th>srch_id</th>\n",
       "      <th>site_id</th>\n",
       "      <th>visitor_location_country_id</th>\n",
       "      <th>visitor_hist_starrating</th>\n",
       "      <th>visitor_hist_adr_usd</th>\n",
       "      <th>prop_country_id</th>\n",
       "      <th>prop_id</th>\n",
       "      <th>prop_starrating</th>\n",
       "      <th>prop_review_score</th>\n",
       "      <th>prop_brand_bool</th>\n",
       "      <th>...</th>\n",
       "      <th>comp6_rate_percent_diff</th>\n",
       "      <th>comp7_rate</th>\n",
       "      <th>comp7_inv</th>\n",
       "      <th>comp7_rate_percent_diff</th>\n",
       "      <th>comp8_rate</th>\n",
       "      <th>comp8_inv</th>\n",
       "      <th>comp8_rate_percent_diff</th>\n",
       "      <th>click_bool</th>\n",
       "      <th>gross_bookings_usd</th>\n",
       "      <th>booking_bool</th>\n",
       "    </tr>\n",
       "  </thead>\n",
       "  <tbody>\n",
       "    <tr>\n",
       "      <th>count</th>\n",
       "      <td>4.958347e+06</td>\n",
       "      <td>4.958347e+06</td>\n",
       "      <td>4.958347e+06</td>\n",
       "      <td>251866.000000</td>\n",
       "      <td>252988.000000</td>\n",
       "      <td>4.958347e+06</td>\n",
       "      <td>4.958347e+06</td>\n",
       "      <td>4.958347e+06</td>\n",
       "      <td>4.950983e+06</td>\n",
       "      <td>4.958347e+06</td>\n",
       "      <td>...</td>\n",
       "      <td>96174.000000</td>\n",
       "      <td>315348.000000</td>\n",
       "      <td>356422.000000</td>\n",
       "      <td>138515.000000</td>\n",
       "      <td>1.916654e+06</td>\n",
       "      <td>1.987503e+06</td>\n",
       "      <td>614730.000000</td>\n",
       "      <td>4.958347e+06</td>\n",
       "      <td>138390.000000</td>\n",
       "      <td>4.958347e+06</td>\n",
       "    </tr>\n",
       "    <tr>\n",
       "      <th>mean</th>\n",
       "      <td>1.663666e+05</td>\n",
       "      <td>9.953133e+00</td>\n",
       "      <td>1.753405e+02</td>\n",
       "      <td>3.374334</td>\n",
       "      <td>176.022659</td>\n",
       "      <td>1.739739e+02</td>\n",
       "      <td>7.007918e+04</td>\n",
       "      <td>3.180525e+00</td>\n",
       "      <td>3.777777e+00</td>\n",
       "      <td>6.346994e-01</td>\n",
       "      <td>...</td>\n",
       "      <td>17.250473</td>\n",
       "      <td>0.145969</td>\n",
       "      <td>0.083202</td>\n",
       "      <td>19.433267</td>\n",
       "      <td>-6.089936e-02</td>\n",
       "      <td>9.962752e-03</td>\n",
       "      <td>22.430384</td>\n",
       "      <td>4.474858e-02</td>\n",
       "      <td>386.283316</td>\n",
       "      <td>2.791051e-02</td>\n",
       "    </tr>\n",
       "    <tr>\n",
       "      <th>std</th>\n",
       "      <td>9.611223e+04</td>\n",
       "      <td>7.646890e+00</td>\n",
       "      <td>6.591625e+01</td>\n",
       "      <td>0.692519</td>\n",
       "      <td>107.254493</td>\n",
       "      <td>6.834525e+01</td>\n",
       "      <td>4.060992e+04</td>\n",
       "      <td>1.051024e+00</td>\n",
       "      <td>1.050329e+00</td>\n",
       "      <td>4.815144e-01</td>\n",
       "      <td>...</td>\n",
       "      <td>31.160313</td>\n",
       "      <td>0.578202</td>\n",
       "      <td>0.316722</td>\n",
       "      <td>54.370221</td>\n",
       "      <td>4.691723e-01</td>\n",
       "      <td>2.029142e-01</td>\n",
       "      <td>895.965854</td>\n",
       "      <td>2.067514e-01</td>\n",
       "      <td>821.190577</td>\n",
       "      <td>1.647165e-01</td>\n",
       "    </tr>\n",
       "    <tr>\n",
       "      <th>min</th>\n",
       "      <td>1.000000e+00</td>\n",
       "      <td>1.000000e+00</td>\n",
       "      <td>1.000000e+00</td>\n",
       "      <td>1.410000</td>\n",
       "      <td>0.000000</td>\n",
       "      <td>1.000000e+00</td>\n",
       "      <td>1.000000e+00</td>\n",
       "      <td>0.000000e+00</td>\n",
       "      <td>0.000000e+00</td>\n",
       "      <td>0.000000e+00</td>\n",
       "      <td>...</td>\n",
       "      <td>2.000000</td>\n",
       "      <td>-1.000000</td>\n",
       "      <td>-1.000000</td>\n",
       "      <td>2.000000</td>\n",
       "      <td>-1.000000e+00</td>\n",
       "      <td>-1.000000e+00</td>\n",
       "      <td>2.000000</td>\n",
       "      <td>0.000000e+00</td>\n",
       "      <td>0.000000</td>\n",
       "      <td>0.000000e+00</td>\n",
       "    </tr>\n",
       "    <tr>\n",
       "      <th>25%</th>\n",
       "      <td>8.293600e+04</td>\n",
       "      <td>5.000000e+00</td>\n",
       "      <td>1.000000e+02</td>\n",
       "      <td>2.920000</td>\n",
       "      <td>109.810000</td>\n",
       "      <td>1.000000e+02</td>\n",
       "      <td>3.501000e+04</td>\n",
       "      <td>3.000000e+00</td>\n",
       "      <td>3.500000e+00</td>\n",
       "      <td>0.000000e+00</td>\n",
       "      <td>...</td>\n",
       "      <td>6.000000</td>\n",
       "      <td>0.000000</td>\n",
       "      <td>0.000000</td>\n",
       "      <td>7.000000</td>\n",
       "      <td>0.000000e+00</td>\n",
       "      <td>0.000000e+00</td>\n",
       "      <td>7.000000</td>\n",
       "      <td>0.000000e+00</td>\n",
       "      <td>124.000000</td>\n",
       "      <td>0.000000e+00</td>\n",
       "    </tr>\n",
       "    <tr>\n",
       "      <th>50%</th>\n",
       "      <td>1.665070e+05</td>\n",
       "      <td>5.000000e+00</td>\n",
       "      <td>2.190000e+02</td>\n",
       "      <td>3.450000</td>\n",
       "      <td>152.240000</td>\n",
       "      <td>2.190000e+02</td>\n",
       "      <td>6.963800e+04</td>\n",
       "      <td>3.000000e+00</td>\n",
       "      <td>4.000000e+00</td>\n",
       "      <td>1.000000e+00</td>\n",
       "      <td>...</td>\n",
       "      <td>11.000000</td>\n",
       "      <td>0.000000</td>\n",
       "      <td>0.000000</td>\n",
       "      <td>12.000000</td>\n",
       "      <td>0.000000e+00</td>\n",
       "      <td>0.000000e+00</td>\n",
       "      <td>11.000000</td>\n",
       "      <td>0.000000e+00</td>\n",
       "      <td>218.400000</td>\n",
       "      <td>0.000000e+00</td>\n",
       "    </tr>\n",
       "    <tr>\n",
       "      <th>75%</th>\n",
       "      <td>2.497240e+05</td>\n",
       "      <td>1.400000e+01</td>\n",
       "      <td>2.190000e+02</td>\n",
       "      <td>3.930000</td>\n",
       "      <td>213.490000</td>\n",
       "      <td>2.190000e+02</td>\n",
       "      <td>1.051680e+05</td>\n",
       "      <td>4.000000e+00</td>\n",
       "      <td>4.500000e+00</td>\n",
       "      <td>1.000000e+00</td>\n",
       "      <td>...</td>\n",
       "      <td>18.000000</td>\n",
       "      <td>1.000000</td>\n",
       "      <td>0.000000</td>\n",
       "      <td>20.000000</td>\n",
       "      <td>0.000000e+00</td>\n",
       "      <td>0.000000e+00</td>\n",
       "      <td>17.000000</td>\n",
       "      <td>0.000000e+00</td>\n",
       "      <td>429.790000</td>\n",
       "      <td>0.000000e+00</td>\n",
       "    </tr>\n",
       "    <tr>\n",
       "      <th>max</th>\n",
       "      <td>3.327850e+05</td>\n",
       "      <td>3.400000e+01</td>\n",
       "      <td>2.310000e+02</td>\n",
       "      <td>5.000000</td>\n",
       "      <td>1958.700000</td>\n",
       "      <td>2.300000e+02</td>\n",
       "      <td>1.408210e+05</td>\n",
       "      <td>5.000000e+00</td>\n",
       "      <td>5.000000e+00</td>\n",
       "      <td>1.000000e+00</td>\n",
       "      <td>...</td>\n",
       "      <td>1620.000000</td>\n",
       "      <td>1.000000</td>\n",
       "      <td>1.000000</td>\n",
       "      <td>9900.000000</td>\n",
       "      <td>1.000000e+00</td>\n",
       "      <td>1.000000e+00</td>\n",
       "      <td>149400.000000</td>\n",
       "      <td>1.000000e+00</td>\n",
       "      <td>159292.380000</td>\n",
       "      <td>1.000000e+00</td>\n",
       "    </tr>\n",
       "  </tbody>\n",
       "</table>\n",
       "<p>8 rows × 53 columns</p>\n",
       "</div>"
      ],
      "text/plain": [
       "            srch_id       site_id  visitor_location_country_id  \\\n",
       "count  4.958347e+06  4.958347e+06                 4.958347e+06   \n",
       "mean   1.663666e+05  9.953133e+00                 1.753405e+02   \n",
       "std    9.611223e+04  7.646890e+00                 6.591625e+01   \n",
       "min    1.000000e+00  1.000000e+00                 1.000000e+00   \n",
       "25%    8.293600e+04  5.000000e+00                 1.000000e+02   \n",
       "50%    1.665070e+05  5.000000e+00                 2.190000e+02   \n",
       "75%    2.497240e+05  1.400000e+01                 2.190000e+02   \n",
       "max    3.327850e+05  3.400000e+01                 2.310000e+02   \n",
       "\n",
       "       visitor_hist_starrating  visitor_hist_adr_usd  prop_country_id  \\\n",
       "count            251866.000000         252988.000000     4.958347e+06   \n",
       "mean                  3.374334            176.022659     1.739739e+02   \n",
       "std                   0.692519            107.254493     6.834525e+01   \n",
       "min                   1.410000              0.000000     1.000000e+00   \n",
       "25%                   2.920000            109.810000     1.000000e+02   \n",
       "50%                   3.450000            152.240000     2.190000e+02   \n",
       "75%                   3.930000            213.490000     2.190000e+02   \n",
       "max                   5.000000           1958.700000     2.300000e+02   \n",
       "\n",
       "            prop_id  prop_starrating  prop_review_score  prop_brand_bool  ...  \\\n",
       "count  4.958347e+06     4.958347e+06       4.950983e+06     4.958347e+06  ...   \n",
       "mean   7.007918e+04     3.180525e+00       3.777777e+00     6.346994e-01  ...   \n",
       "std    4.060992e+04     1.051024e+00       1.050329e+00     4.815144e-01  ...   \n",
       "min    1.000000e+00     0.000000e+00       0.000000e+00     0.000000e+00  ...   \n",
       "25%    3.501000e+04     3.000000e+00       3.500000e+00     0.000000e+00  ...   \n",
       "50%    6.963800e+04     3.000000e+00       4.000000e+00     1.000000e+00  ...   \n",
       "75%    1.051680e+05     4.000000e+00       4.500000e+00     1.000000e+00  ...   \n",
       "max    1.408210e+05     5.000000e+00       5.000000e+00     1.000000e+00  ...   \n",
       "\n",
       "       comp6_rate_percent_diff     comp7_rate      comp7_inv  \\\n",
       "count             96174.000000  315348.000000  356422.000000   \n",
       "mean                 17.250473       0.145969       0.083202   \n",
       "std                  31.160313       0.578202       0.316722   \n",
       "min                   2.000000      -1.000000      -1.000000   \n",
       "25%                   6.000000       0.000000       0.000000   \n",
       "50%                  11.000000       0.000000       0.000000   \n",
       "75%                  18.000000       1.000000       0.000000   \n",
       "max                1620.000000       1.000000       1.000000   \n",
       "\n",
       "       comp7_rate_percent_diff    comp8_rate     comp8_inv  \\\n",
       "count            138515.000000  1.916654e+06  1.987503e+06   \n",
       "mean                 19.433267 -6.089936e-02  9.962752e-03   \n",
       "std                  54.370221  4.691723e-01  2.029142e-01   \n",
       "min                   2.000000 -1.000000e+00 -1.000000e+00   \n",
       "25%                   7.000000  0.000000e+00  0.000000e+00   \n",
       "50%                  12.000000  0.000000e+00  0.000000e+00   \n",
       "75%                  20.000000  0.000000e+00  0.000000e+00   \n",
       "max                9900.000000  1.000000e+00  1.000000e+00   \n",
       "\n",
       "       comp8_rate_percent_diff    click_bool  gross_bookings_usd  booking_bool  \n",
       "count            614730.000000  4.958347e+06       138390.000000  4.958347e+06  \n",
       "mean                 22.430384  4.474858e-02          386.283316  2.791051e-02  \n",
       "std                 895.965854  2.067514e-01          821.190577  1.647165e-01  \n",
       "min                   2.000000  0.000000e+00            0.000000  0.000000e+00  \n",
       "25%                   7.000000  0.000000e+00          124.000000  0.000000e+00  \n",
       "50%                  11.000000  0.000000e+00          218.400000  0.000000e+00  \n",
       "75%                  17.000000  0.000000e+00          429.790000  0.000000e+00  \n",
       "max              149400.000000  1.000000e+00       159292.380000  1.000000e+00  \n",
       "\n",
       "[8 rows x 53 columns]"
      ]
     },
     "metadata": {},
     "output_type": "display_data"
    }
   ],
   "source": [
    "# Inspect inferred types\n",
    "display(df.dtypes)\n",
    "\n",
    "# Inspect numerical ranges\n",
    "display(df.describe())\n",
    "# print('Min. Values')\n",
    "# print(df.min())\n",
    "#\n",
    "# print('Max. Values')\n",
    "# print(df.max())"
   ]
  },
  {
   "cell_type": "code",
   "execution_count": 6,
   "metadata": {},
   "outputs": [
    {
     "name": "stdout",
     "output_type": "stream",
     "text": [
      "0    4819957\n",
      "1     138390\n",
      "Name: booking_bool, dtype: int64\n"
     ]
    }
   ],
   "source": [
    "print(df['booking_bool'].value_counts())"
   ]
  },
  {
   "cell_type": "code",
   "execution_count": 7,
   "metadata": {
    "pycharm": {
     "name": "#%%\n"
    }
   },
   "outputs": [],
   "source": [
    "# data types\n",
    "\n",
    "# # memory + speed improvements\n",
    "# optimal_dtypes = {'srch_id': np.uint32,\n",
    "#                   'site_id': np.uint32,\n",
    "#                   'visitor_location_country_id': np.uint8,\n",
    "#                   'prop_country_id': np.uint8,\n",
    "#                   'prop_id': np.uint32,\n",
    "#                   'prop_starrating': np.uint8,\n",
    "#                   'prop_brand_bool': np.uint8,\n",
    "#                   'promotion_flag': (np.uint8,\n",
    "#                   'srch_destination_id': np.uint16,\n",
    "#                   'srch_length_of_stay': np.uint16,\n",
    "#                   'srch_booking_window': np.uint16,\n",
    "#                   'srch_adults_count': np.uint8,\n",
    "#                   'srch_children_count': np.uint8,  # 255 kids max should suffice\n",
    "#                   'srch_room_count': np.uint8,\n",
    "#                   'srch_saturday_night_bool': np.uint8,\n",
    "#                   'random_bool': np.uint8,\n",
    "#                   'position': np.uint8,\n",
    "#                   'click_bool': np.uint8,\n",
    "#                   'booking_bool': np.uint8}\n",
    "#\n",
    "# for i in range(1, 9):\n",
    "#     optimal_dtypes[f'comp{i}_rate'] = np.int8,\n",
    "#     optimal_dtypes[f'comp{i}_inv'] = np.int8,     # assignment does not specify -1 but is exists??\n",
    "#     # competitor_dtypes[f'comp{i}_rate_percent_diff'] = np.uint\n",
    "\n",
    "\n",
    "# dfn = df.dtypes(optimal_dtypes)\n",
    "# print(dfn.dtypes)\n"
   ]
  },
  {
   "cell_type": "markdown",
   "metadata": {
    "pycharm": {
     "name": "#%% md\n"
    }
   },
   "source": [
    "## Exploration"
   ]
  },
  {
   "cell_type": "markdown",
   "metadata": {
    "pycharm": {
     "name": "#%% md\n"
    }
   },
   "source": [
    "### Count of unique values per column:"
   ]
  },
  {
   "cell_type": "code",
   "execution_count": 8,
   "metadata": {
    "pycharm": {
     "name": "#%%\n"
    }
   },
   "outputs": [
    {
     "data": {
      "text/plain": [
       "srch_id                        199795\n",
       "date_time                      198615\n",
       "site_id                            34\n",
       "visitor_location_country_id       210\n",
       "visitor_hist_starrating           312\n",
       "visitor_hist_adr_usd             7799\n",
       "prop_country_id                   172\n",
       "prop_id                        129113\n",
       "prop_starrating                     6\n",
       "prop_review_score                  10\n",
       "prop_brand_bool                     2\n",
       "prop_location_score1              337\n",
       "prop_location_score2             9342\n",
       "prop_log_historical_price         392\n",
       "position                           40\n",
       "price_usd                       76465\n",
       "promotion_flag                      2\n",
       "srch_destination_id             18127\n",
       "srch_length_of_stay                36\n",
       "srch_booking_window               429\n",
       "srch_adults_count                   9\n",
       "srch_children_count                10\n",
       "srch_room_count                     8\n",
       "srch_saturday_night_bool            2\n",
       "srch_query_affinity_score      199387\n",
       "orig_destination_distance      530595\n",
       "random_bool                         2\n",
       "comp1_rate                          3\n",
       "comp1_inv                           3\n",
       "comp1_rate_percent_diff          1830\n",
       "comp2_rate                          3\n",
       "comp2_inv                           3\n",
       "comp2_rate_percent_diff           596\n",
       "comp3_rate                          3\n",
       "comp3_inv                           3\n",
       "comp3_rate_percent_diff           534\n",
       "comp4_rate                          3\n",
       "comp4_inv                           3\n",
       "comp4_rate_percent_diff           482\n",
       "comp5_rate                          3\n",
       "comp5_inv                           3\n",
       "comp5_rate_percent_diff           645\n",
       "comp6_rate                          3\n",
       "comp6_inv                           3\n",
       "comp6_rate_percent_diff           380\n",
       "comp7_rate                          3\n",
       "comp7_inv                           3\n",
       "comp7_rate_percent_diff           585\n",
       "comp8_rate                          3\n",
       "comp8_inv                           3\n",
       "comp8_rate_percent_diff           491\n",
       "click_bool                          2\n",
       "gross_bookings_usd              60687\n",
       "booking_bool                        2\n",
       "dtype: int64"
      ]
     },
     "metadata": {},
     "output_type": "display_data"
    }
   ],
   "source": [
    "uniques = df.nunique()\n",
    "display(uniques)"
   ]
  },
  {
   "cell_type": "markdown",
   "metadata": {
    "pycharm": {
     "name": "#%% md\n"
    }
   },
   "source": [
    "### % missing values per column"
   ]
  },
  {
   "cell_type": "code",
   "execution_count": 9,
   "metadata": {
    "pycharm": {
     "name": "#%%\n"
    }
   },
   "outputs": [
    {
     "data": {
      "text/plain": [
       "srch_id                         0.000000\n",
       "date_time                       0.000000\n",
       "site_id                         0.000000\n",
       "visitor_location_country_id     0.000000\n",
       "visitor_hist_starrating        94.920364\n",
       "visitor_hist_adr_usd           94.897735\n",
       "prop_country_id                 0.000000\n",
       "prop_id                         0.000000\n",
       "prop_starrating                 0.000000\n",
       "prop_review_score               0.148517\n",
       "prop_brand_bool                 0.000000\n",
       "prop_location_score1            0.000000\n",
       "prop_location_score2           21.990151\n",
       "prop_log_historical_price       0.000000\n",
       "position                        0.000000\n",
       "price_usd                       0.000000\n",
       "promotion_flag                  0.000000\n",
       "srch_destination_id             0.000000\n",
       "srch_length_of_stay             0.000000\n",
       "srch_booking_window             0.000000\n",
       "srch_adults_count               0.000000\n",
       "srch_children_count             0.000000\n",
       "srch_room_count                 0.000000\n",
       "srch_saturday_night_bool        0.000000\n",
       "srch_query_affinity_score      93.598552\n",
       "orig_destination_distance      32.425766\n",
       "random_bool                     0.000000\n",
       "comp1_rate                     97.581250\n",
       "comp1_inv                      97.387053\n",
       "comp1_rate_percent_diff        98.095353\n",
       "comp2_rate                     59.166392\n",
       "comp2_inv                      57.036710\n",
       "comp2_rate_percent_diff        88.781786\n",
       "comp3_rate                     69.056462\n",
       "comp3_inv                      66.702814\n",
       "comp3_rate_percent_diff        90.464625\n",
       "comp4_rate                     93.800797\n",
       "comp4_inv                      93.069001\n",
       "comp4_rate_percent_diff        97.356256\n",
       "comp5_rate                     55.179155\n",
       "comp5_inv                      52.403089\n",
       "comp5_rate_percent_diff        83.036706\n",
       "comp6_rate                     95.156511\n",
       "comp6_inv                      94.736633\n",
       "comp6_rate_percent_diff        98.060362\n",
       "comp7_rate                     93.640058\n",
       "comp7_inv                      92.811677\n",
       "comp7_rate_percent_diff        97.206428\n",
       "comp8_rate                     61.344900\n",
       "comp8_inv                      59.916016\n",
       "comp8_rate_percent_diff        87.602118\n",
       "click_bool                      0.000000\n",
       "gross_bookings_usd             97.208949\n",
       "booking_bool                    0.000000\n",
       "dtype: float64"
      ]
     },
     "metadata": {},
     "output_type": "display_data"
    },
    {
     "name": "stdout",
     "output_type": "stream",
     "text": [
      "Non-missing columns:\n"
     ]
    },
    {
     "data": {
      "text/plain": [
       "['srch_id',\n",
       " 'date_time',\n",
       " 'site_id',\n",
       " 'visitor_location_country_id',\n",
       " 'prop_country_id',\n",
       " 'prop_id',\n",
       " 'prop_starrating',\n",
       " 'prop_brand_bool',\n",
       " 'prop_location_score1',\n",
       " 'prop_log_historical_price',\n",
       " 'position',\n",
       " 'price_usd',\n",
       " 'promotion_flag',\n",
       " 'srch_destination_id',\n",
       " 'srch_length_of_stay',\n",
       " 'srch_booking_window',\n",
       " 'srch_adults_count',\n",
       " 'srch_children_count',\n",
       " 'srch_room_count',\n",
       " 'srch_saturday_night_bool',\n",
       " 'random_bool',\n",
       " 'click_bool',\n",
       " 'booking_bool']"
      ]
     },
     "metadata": {},
     "output_type": "display_data"
    },
    {
     "data": {
      "image/png": "[encoded data removed]",
      "text/plain": [
       "<Figure size 792x360 with 1 Axes>"
      ]
     },
     "metadata": {},
     "output_type": "display_data"
    }
   ],
   "source": [
    "missing_percent = 100 * df.isnull().sum() / df.shape[0]\n",
    "display(missing_percent)\n",
    "\n",
    "filled_columns = missing_percent[missing_percent == 0].index.tolist()\n",
    "print(\"Non-missing columns:\")\n",
    "display(filled_columns)\n",
    "\n",
    "non_filled_columns = missing_percent[missing_percent >0.5]\n",
    "sns.set(rc={'figure.figsize':(11,5)})\n",
    "sns.set_style(\"ticks\")\n",
    "fig = sns.barplot(x=non_filled_columns.index, y=non_filled_columns, color='steelblue')\n",
    "sns.despine()\n",
    "fig.set_xticklabels(fig.get_xticklabels(), rotation=90, fontdict={'fontsize': 15})\n",
    "fig.set_ylabel(\"Relative frequency\",fontsize=20)\n",
    "plt.tight_layout()\n",
    "plt.savefig('Figures/missing_values.pdf')\n"
   ]
  },
  {
   "cell_type": "markdown",
   "metadata": {
    "pycharm": {
     "name": "#%% md\n"
    }
   },
   "source": [
    "### Searches per website"
   ]
  },
  {
   "cell_type": "code",
   "execution_count": 10,
   "metadata": {
    "pycharm": {
     "name": "#%%\n"
    }
   },
   "outputs": [
    {
     "data": {
      "text/plain": [
       "site_id\n",
       "5     0.609845\n",
       "14    0.096849\n",
       "15    0.063645\n",
       "24    0.050502\n",
       "32    0.035406\n",
       "18    0.027198\n",
       "16    0.019370\n",
       "12    0.015841\n",
       "19    0.010070\n",
       "22    0.009194\n",
       "9     0.009054\n",
       "11    0.007092\n",
       "7     0.006572\n",
       "29    0.006256\n",
       "31    0.005656\n",
       "26    0.003348\n",
       "4     0.002768\n",
       "25    0.002658\n",
       "23    0.002528\n",
       "1     0.002518\n",
       "34    0.002087\n",
       "10    0.001962\n",
       "13    0.001782\n",
       "17    0.001296\n",
       "2     0.001216\n",
       "27    0.001146\n",
       "28    0.000936\n",
       "30    0.000861\n",
       "21    0.000756\n",
       "3     0.000746\n",
       "6     0.000636\n",
       "33    0.000165\n",
       "20    0.000035\n",
       "8     0.000005\n",
       "Name: srch_id, dtype: float64"
      ]
     },
     "metadata": {},
     "output_type": "display_data"
    },
    {
     "data": {
      "text/plain": [
       "[Text(0, 0, '1'),\n",
       " Text(1, 0, '2'),\n",
       " Text(2, 0, '3'),\n",
       " Text(3, 0, '4'),\n",
       " Text(4, 0, '5'),\n",
       " Text(5, 0, '6'),\n",
       " Text(6, 0, '7'),\n",
       " Text(7, 0, '8'),\n",
       " Text(8, 0, '9'),\n",
       " Text(9, 0, '10'),\n",
       " Text(10, 0, '11'),\n",
       " Text(11, 0, '12'),\n",
       " Text(12, 0, '13'),\n",
       " Text(13, 0, '14'),\n",
       " Text(14, 0, '15'),\n",
       " Text(15, 0, '16'),\n",
       " Text(16, 0, '17'),\n",
       " Text(17, 0, '18'),\n",
       " Text(18, 0, '19'),\n",
       " Text(19, 0, '20'),\n",
       " Text(20, 0, '21'),\n",
       " Text(21, 0, '22'),\n",
       " Text(22, 0, '23'),\n",
       " Text(23, 0, '24'),\n",
       " Text(24, 0, '25'),\n",
       " Text(25, 0, '26'),\n",
       " Text(26, 0, '27'),\n",
       " Text(27, 0, '28'),\n",
       " Text(28, 0, '29'),\n",
       " Text(29, 0, '30'),\n",
       " Text(30, 0, '31'),\n",
       " Text(31, 0, '32'),\n",
       " Text(32, 0, '33'),\n",
       " Text(33, 0, '34')]"
      ]
     },
     "execution_count": 10,
     "metadata": {},
     "output_type": "execute_result"
    },
    {
     "data": {
      "image/png": "[encoded data removed]",
      "text/plain": [
       "<Figure size 792x360 with 1 Axes>"
      ]
     },
     "metadata": {},
     "output_type": "display_data"
    }
   ],
   "source": [
    "groupby_website = df.groupby('site_id')['srch_id'].nunique() / df['srch_id'].nunique()\n",
    "\n",
    "site_searches =  groupby_website.sort_values(ascending=False)\n",
    "display(site_searches)\n",
    "# site 5 == 'expedia.com'??\n",
    "\n",
    "sns.set(rc={'figure.figsize':(11,5)})\n",
    "fig = sns.barplot(x=site_searches.index, y=site_searches, color='blue')\n",
    "fig.set_xticklabels(fig.get_xticklabels(), rotation=90)"
   ]
  },
  {
   "cell_type": "code",
   "execution_count": 11,
   "metadata": {},
   "outputs": [
    {
     "name": "stderr",
     "output_type": "stream",
     "text": [
      "C:\\Users\\Jaimie\\Anaconda3\\envs\\DMT\\lib\\site-packages\\ipykernel_launcher.py:9: RuntimeWarning: More than 20 figures have been opened. Figures created through the pyplot interface (`matplotlib.pyplot.figure`) are retained until explicitly closed and may consume too much memory. (To control this warning, see the rcParam `figure.max_open_warning`).\n",
      "  if __name__ == '__main__':\n"
     ]
    },
    {
     "data": {
      "image/png": "[encoded data removed]",
      "text/plain": [
       "<Figure size 792x360 with 1 Axes>"
      ]
     },
     "metadata": {},
     "output_type": "display_data"
    },
    {
     "data": {
      "image/png": "[encoded data removed]",
      "text/plain": [
       "<Figure size 792x360 with 1 Axes>"
      ]
     },
     "metadata": {},
     "output_type": "display_data"
    },
    {
     "data": {
      "image/png": "[encoded data removed]",
      "text/plain": [
       "<Figure size 792x360 with 1 Axes>"
      ]
     },
     "metadata": {},
     "output_type": "display_data"
    },
    {
     "data": {
      "image/png": "[encoded data removed]",
      "text/plain": [
       "<Figure size 792x360 with 1 Axes>"
      ]
     },
     "metadata": {},
     "output_type": "display_data"
    },
    {
     "data": {
      "image/png": "[encoded data removed]",
      "text/plain": [
       "<Figure size 792x360 with 1 Axes>"
      ]
     },
     "metadata": {},
     "output_type": "display_data"
    },
    {
     "data": {
      "image/png": "[encoded data removed]",
      "text/plain": [
       "<Figure size 792x360 with 1 Axes>"
      ]
     },
     "metadata": {},
     "output_type": "display_data"
    },
    {
     "data": {
      "image/png": "[encoded data removed]",
      "text/plain": [
       "<Figure size 792x360 with 1 Axes>"
      ]
     },
     "metadata": {},
     "output_type": "display_data"
    },
    {
     "data": {
      "image/png": "[encoded data removed]",
      "text/plain": [
       "<Figure size 792x360 with 1 Axes>"
      ]
     },
     "metadata": {},
     "output_type": "display_data"
    },
    {
     "data": {
      "image/png": "[encoded data removed]",
      "text/plain": [
       "<Figure size 792x360 with 1 Axes>"
      ]
     },
     "metadata": {},
     "output_type": "display_data"
    },
    {
     "data": {
      "image/png": "[encoded data removed]",
      "text/plain": [
       "<Figure size 792x360 with 1 Axes>"
      ]
     },
     "metadata": {},
     "output_type": "display_data"
    },
    {
     "data": {
      "image/png": "[encoded data removed]",
      "text/plain": [
       "<Figure size 792x360 with 1 Axes>"
      ]
     },
     "metadata": {},
     "output_type": "display_data"
    },
    {
     "data": {
      "image/png": "[encoded data removed]",
      "text/plain": [
       "<Figure size 792x360 with 1 Axes>"
      ]
     },
     "metadata": {},
     "output_type": "display_data"
    },
    {
     "data": {
      "image/png": "[encoded data removed]",
      "text/plain": [
       "<Figure size 792x360 with 1 Axes>"
      ]
     },
     "metadata": {},
     "output_type": "display_data"
    },
    {
     "data": {
      "image/png": "[encoded data removed]",
      "text/plain": [
       "<Figure size 792x360 with 1 Axes>"
      ]
     },
     "metadata": {},
     "output_type": "display_data"
    },
    {
     "data": {
      "image/png": "[encoded data removed]",
      "text/plain": [
       "<Figure size 792x360 with 1 Axes>"
      ]
     },
     "metadata": {},
     "output_type": "display_data"
    },
    {
     "data": {
      "image/png": "[encoded data removed]",
      "text/plain": [
       "<Figure size 792x360 with 1 Axes>"
      ]
     },
     "metadata": {},
     "output_type": "display_data"
    },
    {
     "data": {
      "image/png": "[encoded data removed]",
      "text/plain": [
       "<Figure size 792x360 with 1 Axes>"
      ]
     },
     "metadata": {},
     "output_type": "display_data"
    },
    {
     "data": {
      "image/png": "[encoded data removed]",
      "text/plain": [
       "<Figure size 792x360 with 1 Axes>"
      ]
     },
     "metadata": {},
     "output_type": "display_data"
    },
    {
     "data": {
      "image/png": "[encoded data removed]",
      "text/plain": [
       "<Figure size 792x360 with 1 Axes>"
      ]
     },
     "metadata": {},
     "output_type": "display_data"
    },
    {
     "data": {
      "image/png": "[encoded data removed]",
      "text/plain": [
       "<Figure size 792x360 with 1 Axes>"
      ]
     },
     "metadata": {},
     "output_type": "display_data"
    },
    {
     "data": {
      "image/png": "[encoded data removed]",
      "text/plain": [
       "<Figure size 792x360 with 1 Axes>"
      ]
     },
     "metadata": {},
     "output_type": "display_data"
    },
    {
     "data": {
      "image/png": "[encoded data removed]",
      "text/plain": [
       "<Figure size 792x360 with 1 Axes>"
      ]
     },
     "metadata": {},
     "output_type": "display_data"
    },
    {
     "data": {
      "image/png": "[encoded data removed]",
      "text/plain": [
       "<Figure size 792x360 with 1 Axes>"
      ]
     },
     "metadata": {},
     "output_type": "display_data"
    },
    {
     "data": {
      "image/png": "[encoded data removed]",
      "text/plain": [
       "<Figure size 792x360 with 1 Axes>"
      ]
     },
     "metadata": {},
     "output_type": "display_data"
    },
    {
     "data": {
      "image/png": "[encoded data removed]",
      "text/plain": [
       "<Figure size 792x360 with 1 Axes>"
      ]
     },
     "metadata": {},
     "output_type": "display_data"
    },
    {
     "data": {
      "image/png": "[encoded data removed]",
      "text/plain": [
       "<Figure size 792x360 with 1 Axes>"
      ]
     },
     "metadata": {},
     "output_type": "display_data"
    },
    {
     "data": {
      "image/png": "[encoded data removed]",
      "text/plain": [
       "<Figure size 792x360 with 1 Axes>"
      ]
     },
     "metadata": {},
     "output_type": "display_data"
    },
    {
     "data": {
      "image/png": "[encoded data removed]",
      "text/plain": [
       "<Figure size 792x360 with 1 Axes>"
      ]
     },
     "metadata": {},
     "output_type": "display_data"
    }
   ],
   "source": [
    "df.columns\n",
    "numerical_cols = ['visitor_hist_starrating', 'visitor_hist_adr_usd', 'prop_starrating', 'prop_review_score', 'prop_location_score1', 'prop_location_score2',\n",
    "       'prop_log_historical_price', 'price_usd', 'srch_length_of_stay', 'srch_booking_window', 'srch_adults_count', 'srch_children_count', 'srch_room_count',\n",
    "                 'orig_destination_distance']\n",
    "\n",
    "for col in numerical_cols:\n",
    "    alpha=0.01\n",
    "    df_col = df[col]\n",
    "    plt.figure()\n",
    "    df_col.plot.box()\n",
    "    df_col_winsor = df_col.clip(lower=df_col.quantile(alpha), upper=df_col.quantile(1-alpha))\n",
    "    plt.figure()\n",
    "    df_col_winsor.plot.box()\n",
    "    \n",
    "\n",
    "#     for column in df:\n",
    "#     df.boxplot([column])"
   ]
  },
  {
   "cell_type": "code",
   "execution_count": 12,
   "metadata": {},
   "outputs": [
    {
     "data": {
      "image/png": "[encoded data removed]",
      "text/plain": [
       "<Figure size 504x396 with 1 Axes>"
      ]
     },
     "metadata": {},
     "output_type": "display_data"
    }
   ],
   "source": [
    "# significant_stay = df['srch_length_of_stay'].loc[df['srch_length_of_stay'] <= 10]\n",
    "room_count_percent = df['srch_room_count'].value_counts(normalize=True)\n",
    "\n",
    "sns.set(rc={'figure.figsize':(7,5.5)})\n",
    "\n",
    "sns.set_style(\"ticks\")\n",
    "ax = sns.barplot(x=room_count_percent.index, y=room_count_percent, color='steelblue')\n",
    "sns.despine()\n",
    "ax.set_xlabel(\"Room count\",fontsize=25)\n",
    "ax.set_ylabel(\"Relative frequency\",fontsize=25)\n",
    "ax.tick_params(labelsize=20)\n",
    "plt.savefig('Figures/room_count.pdf')"
   ]
  },
  {
   "cell_type": "code",
   "execution_count": 13,
   "metadata": {},
   "outputs": [
    {
     "data": {
      "image/png": "[encoded data removed]",
      "text/plain": [
       "<Figure size 504x396 with 1 Axes>"
      ]
     },
     "metadata": {},
     "output_type": "display_data"
    }
   ],
   "source": [
    "los_percent = df['srch_length_of_stay'].loc[df['srch_length_of_stay'] <= 14].value_counts(normalize=True)\n",
    "# print(significant_stay_percent)\n",
    "\n",
    "sns.set(rc={'figure.figsize':(7,5.5)})\n",
    "\n",
    "sns.set_style(\"ticks\")\n",
    "ax = sns.barplot(x=los_percent.index, y=los_percent, color='steelblue')\n",
    "sns.despine()\n",
    "ax.set_xlabel(\"Length of stay\",fontsize=25)\n",
    "ax.set_ylabel(\"Relative frequency\",fontsize=25)\n",
    "ax.tick_params(labelsize=20)\n",
    "plt.savefig('Figures/los.pdf')\n",
    "# sns.distplot(df['srch_booking_window'], bins = range(1,14), kde=False, norm_hist=True, color='steelblue', hist_kws=dict(alpha=1), axlabel='Length of stay')\n"
   ]
  },
  {
   "cell_type": "code",
   "execution_count": 14,
   "metadata": {},
   "outputs": [
    {
     "data": {
      "image/png": "[encoded data removed]",
      "text/plain": [
       "<Figure size 504x396 with 1 Axes>"
      ]
     },
     "metadata": {},
     "output_type": "display_data"
    }
   ],
   "source": [
    "adult_percent = df['srch_adults_count'].value_counts(normalize=True)\n",
    "\n",
    "# print(significant_stay_percent)\n",
    "\n",
    "sns.set(rc={'figure.figsize':(7,5.5)})\n",
    "\n",
    "sns.set_style(\"ticks\")\n",
    "ax = sns.barplot(x=adult_percent.index, y=adult_percent, color='steelblue')\n",
    "sns.despine()\n",
    "ax.set_xlabel(\"Number of adults\",fontsize=25)\n",
    "ax.set_ylabel(\"Relative frequency\",fontsize=25)\n",
    "ax.tick_params(labelsize=20)\n",
    "plt.savefig('Figures/num_adults.pdf')"
   ]
  },
  {
   "cell_type": "code",
   "execution_count": 15,
   "metadata": {},
   "outputs": [
    {
     "data": {
      "image/png": "[encoded data removed]",
      "text/plain": [
       "<Figure size 504x396 with 1 Axes>"
      ]
     },
     "metadata": {},
     "output_type": "display_data"
    }
   ],
   "source": [
    "child_percent = df['srch_children_count'].value_counts(normalize=True)\n",
    "\n",
    "# print(significant_stay_percent)\n",
    "\n",
    "sns.set(rc={'figure.figsize':(7,5.5)})\n",
    "\n",
    "sns.set_style(\"ticks\")\n",
    "ax = sns.barplot(x=child_percent.index, y=child_percent, color='steelblue')\n",
    "sns.despine()\n",
    "ax.set_xlabel(\"Number of children\",fontsize=25)\n",
    "ax.set_ylabel(\"Relative frequency\",fontsize=25)\n",
    "ax.tick_params(labelsize=20)\n",
    "plt.savefig('Figures/num_children.pdf')"
   ]
  },
  {
   "cell_type": "code",
   "execution_count": 16,
   "metadata": {},
   "outputs": [
    {
     "name": "stdout",
     "output_type": "stream",
     "text": [
      "Index(['srch_id', 'date_time', 'site_id', 'visitor_location_country_id',\n",
      "       'visitor_hist_starrating', 'visitor_hist_adr_usd', 'prop_country_id',\n",
      "       'prop_id', 'prop_starrating', 'prop_review_score', 'prop_brand_bool',\n",
      "       'prop_location_score1', 'prop_location_score2',\n",
      "       'prop_log_historical_price', 'position', 'price_usd', 'promotion_flag',\n",
      "       'srch_destination_id', 'srch_length_of_stay', 'srch_booking_window',\n",
      "       'srch_adults_count', 'srch_children_count', 'srch_room_count',\n",
      "       'srch_saturday_night_bool', 'srch_query_affinity_score',\n",
      "       'orig_destination_distance', 'random_bool', 'comp1_rate', 'comp1_inv',\n",
      "       'comp1_rate_percent_diff', 'comp2_rate', 'comp2_inv',\n",
      "       'comp2_rate_percent_diff', 'comp3_rate', 'comp3_inv',\n",
      "       'comp3_rate_percent_diff', 'comp4_rate', 'comp4_inv',\n",
      "       'comp4_rate_percent_diff', 'comp5_rate', 'comp5_inv',\n",
      "       'comp5_rate_percent_diff', 'comp6_rate', 'comp6_inv',\n",
      "       'comp6_rate_percent_diff', 'comp7_rate', 'comp7_inv',\n",
      "       'comp7_rate_percent_diff', 'comp8_rate', 'comp8_inv',\n",
      "       'comp8_rate_percent_diff', 'click_bool', 'gross_bookings_usd',\n",
      "       'booking_bool'],\n",
      "      dtype='object')\n"
     ]
    },
    {
     "name": "stderr",
     "output_type": "stream",
     "text": [
      "C:\\Users\\Jaimie\\Anaconda3\\envs\\DMT\\lib\\site-packages\\ipykernel_launcher.py:7: DeprecationWarning: `np.bool` is a deprecated alias for the builtin `bool`. To silence this warning, use `bool` by itself. Doing this will not modify any behavior and is safe. If you specifically wanted the numpy scalar type, use `np.bool_` here.\n",
      "Deprecated in NumPy 1.20; for more details and guidance: https://numpy.org/devdocs/release/1.20.0-notes.html#deprecations\n",
      "  import sys\n"
     ]
    },
    {
     "data": {
      "text/plain": [
       "<AxesSubplot:>"
      ]
     },
     "execution_count": 16,
     "metadata": {},
     "output_type": "execute_result"
    },
    {
     "data": {
      "image/png": "[encoded data removed]",
      "text/plain": [
       "<Figure size 504x396 with 2 Axes>"
      ]
     },
     "metadata": {},
     "output_type": "display_data"
    }
   ],
   "source": [
    "print(df.columns)\n",
    "relevant_cols = ['visitor_hist_starrating', 'visitor_hist_adr_usd', 'prop_starrating', 'prop_review_score', 'prop_brand_bool', 'prop_location_score1', \n",
    "                 'prop_location_score2', 'prop_log_historical_price', 'position', 'price_usd', 'promotion_flag', 'srch_length_of_stay', 'srch_booking_window',\n",
    "                 'srch_adults_count', 'srch_children_count', 'srch_room_count', 'srch_saturday_night_bool', 'srch_query_affinity_score', 'orig_destination_distance', \n",
    "                 'random_bool', 'click_bool', 'gross_bookings_usd', 'booking_bool']\n",
    "df_relevant = df[relevant_cols]\n",
    "mask = np.triu(np.ones_like(df_relevant.corr(), dtype=np.bool))\n",
    "\n",
    "sns.heatmap(df_relevant.corr(), mask=mask, vmin=-1, vmax=1, cmap='BrBG')"
   ]
  },
  {
   "cell_type": "code",
   "execution_count": 17,
   "metadata": {},
   "outputs": [],
   "source": [
    "def average_compare(columns):\n",
    "    df_output_latex = pd.DataFrame(columns=['Column', 'Not clicked or booked', 'Clicked but not booked', 'Booked'])\n",
    "    for column in columns:      \n",
    "        not_clicked_not_booked = df.loc[(df.click_bool==0) & (df.booking_bool==0)][column].mean()\n",
    "        clicked_not_booked = df.loc[(df.click_bool==1) & (df.booking_bool==0)][column].mean()\n",
    "        clicked_and_booked = df.loc[df.booking_bool==1][column].mean()\n",
    "        \n",
    "        df_output_latex = df_output_latex.append({'Column':column, 'Not clicked or booked':round(not_clicked_not_booked, 2), 'Clicked but not booked':round(clicked_not_booked, 2), 'Booked':round(clicked_and_booked,2)}, ignore_index=True)\n",
    "        \n",
    "    print(df_output_latex.to_latex(index=False, bold_rows=True))"
   ]
  },
  {
   "cell_type": "code",
   "execution_count": 18,
   "metadata": {},
   "outputs": [
    {
     "name": "stdout",
     "output_type": "stream",
     "text": [
      "\\begin{tabular}{lrrr}\n",
      "\\toprule\n",
      "                   Column &  Not clicked or booked &  Clicked but not booked &  Booked \\\\\n",
      "\\midrule\n",
      "          prop\\_starrating &                   3.17 &                    3.36 &    3.31 \\\\\n",
      "        prop\\_review\\_score &                   3.77 &                    3.81 &    3.94 \\\\\n",
      "     prop\\_location\\_score1 &                   2.87 &                    2.96 &    2.84 \\\\\n",
      "     prop\\_location\\_score2 &                   0.13 &                    0.17 &    0.19 \\\\\n",
      "prop\\_log\\_historical\\_price &                   4.32 &                    4.41 &    4.31 \\\\\n",
      "                price\\_usd &                 252.44 &                  343.95 &  260.51 \\\\\n",
      "           promotion\\_flag &                   0.21 &                    0.27 &    0.30 \\\\\n",
      "              random\\_bool &                   0.30 &                    0.73 &    0.06 \\\\\n",
      "\\bottomrule\n",
      "\\end{tabular}\n",
      "\n"
     ]
    }
   ],
   "source": [
    "comparison_cols = ['prop_starrating', 'prop_review_score', 'prop_location_score1', \n",
    "                 'prop_location_score2', 'prop_log_historical_price', 'price_usd', 'promotion_flag', 'random_bool']\n",
    "average_compare(comparison_cols)"
   ]
  },
  {
   "cell_type": "markdown",
   "metadata": {
    "pycharm": {
     "name": "#%% md\n"
    }
   },
   "source": [
    "### Clicks/Books per position, grouped by random_bool"
   ]
  },
  {
   "cell_type": "code",
   "execution_count": 19,
   "metadata": {
    "pycharm": {
     "name": "#%%\n"
    }
   },
   "outputs": [
    {
     "data": {
      "text/html": [
       "<div>\n",
       "<style scoped>\n",
       "    .dataframe tbody tr th:only-of-type {\n",
       "        vertical-align: middle;\n",
       "    }\n",
       "\n",
       "    .dataframe tbody tr th {\n",
       "        vertical-align: top;\n",
       "    }\n",
       "\n",
       "    .dataframe thead th {\n",
       "        text-align: right;\n",
       "    }\n",
       "</style>\n",
       "<table border=\"1\" class=\"dataframe\">\n",
       "  <thead>\n",
       "    <tr style=\"text-align: right;\">\n",
       "      <th></th>\n",
       "      <th></th>\n",
       "      <th>click_bool</th>\n",
       "      <th>booking_bool</th>\n",
       "    </tr>\n",
       "    <tr>\n",
       "      <th>random_bool</th>\n",
       "      <th>position</th>\n",
       "      <th></th>\n",
       "      <th></th>\n",
       "    </tr>\n",
       "  </thead>\n",
       "  <tbody>\n",
       "    <tr>\n",
       "      <th rowspan=\"5\" valign=\"top\">0</th>\n",
       "      <th>1</th>\n",
       "      <td>29908</td>\n",
       "      <td>27014</td>\n",
       "    </tr>\n",
       "    <tr>\n",
       "      <th>2</th>\n",
       "      <td>20271</td>\n",
       "      <td>17976</td>\n",
       "    </tr>\n",
       "    <tr>\n",
       "      <th>3</th>\n",
       "      <td>15381</td>\n",
       "      <td>13385</td>\n",
       "    </tr>\n",
       "    <tr>\n",
       "      <th>4</th>\n",
       "      <td>12267</td>\n",
       "      <td>10593</td>\n",
       "    </tr>\n",
       "    <tr>\n",
       "      <th>5</th>\n",
       "      <td>149</td>\n",
       "      <td>98</td>\n",
       "    </tr>\n",
       "    <tr>\n",
       "      <th>...</th>\n",
       "      <th>...</th>\n",
       "      <td>...</td>\n",
       "      <td>...</td>\n",
       "    </tr>\n",
       "    <tr>\n",
       "      <th rowspan=\"5\" valign=\"top\">1</th>\n",
       "      <th>36</th>\n",
       "      <td>308</td>\n",
       "      <td>25</td>\n",
       "    </tr>\n",
       "    <tr>\n",
       "      <th>37</th>\n",
       "      <td>157</td>\n",
       "      <td>12</td>\n",
       "    </tr>\n",
       "    <tr>\n",
       "      <th>38</th>\n",
       "      <td>32</td>\n",
       "      <td>4</td>\n",
       "    </tr>\n",
       "    <tr>\n",
       "      <th>39</th>\n",
       "      <td>7</td>\n",
       "      <td>2</td>\n",
       "    </tr>\n",
       "    <tr>\n",
       "      <th>40</th>\n",
       "      <td>0</td>\n",
       "      <td>0</td>\n",
       "    </tr>\n",
       "  </tbody>\n",
       "</table>\n",
       "<p>80 rows × 2 columns</p>\n",
       "</div>"
      ],
      "text/plain": [
       "                      click_bool  booking_bool\n",
       "random_bool position                          \n",
       "0           1              29908         27014\n",
       "            2              20271         17976\n",
       "            3              15381         13385\n",
       "            4              12267         10593\n",
       "            5                149            98\n",
       "...                          ...           ...\n",
       "1           36               308            25\n",
       "            37               157            12\n",
       "            38                32             4\n",
       "            39                 7             2\n",
       "            40                 0             0\n",
       "\n",
       "[80 rows x 2 columns]"
      ]
     },
     "metadata": {},
     "output_type": "display_data"
    },
    {
     "data": {
      "text/html": [
       "<div>\n",
       "<style scoped>\n",
       "    .dataframe tbody tr th:only-of-type {\n",
       "        vertical-align: middle;\n",
       "    }\n",
       "\n",
       "    .dataframe tbody tr th {\n",
       "        vertical-align: top;\n",
       "    }\n",
       "\n",
       "    .dataframe thead th {\n",
       "        text-align: right;\n",
       "    }\n",
       "</style>\n",
       "<table border=\"1\" class=\"dataframe\">\n",
       "  <thead>\n",
       "    <tr style=\"text-align: right;\">\n",
       "      <th></th>\n",
       "      <th>click_bool</th>\n",
       "      <th>booking_bool</th>\n",
       "    </tr>\n",
       "    <tr>\n",
       "      <th>random_bool</th>\n",
       "      <th></th>\n",
       "      <th></th>\n",
       "    </tr>\n",
       "  </thead>\n",
       "  <tbody>\n",
       "    <tr>\n",
       "      <th>0</th>\n",
       "      <td>153502</td>\n",
       "      <td>130578</td>\n",
       "    </tr>\n",
       "    <tr>\n",
       "      <th>1</th>\n",
       "      <td>68377</td>\n",
       "      <td>7812</td>\n",
       "    </tr>\n",
       "  </tbody>\n",
       "</table>\n",
       "</div>"
      ],
      "text/plain": [
       "             click_bool  booking_bool\n",
       "random_bool                          \n",
       "0                153502        130578\n",
       "1                 68377          7812"
      ]
     },
     "metadata": {},
     "output_type": "display_data"
    },
    {
     "data": {
      "text/html": [
       "<div>\n",
       "<style scoped>\n",
       "    .dataframe tbody tr th:only-of-type {\n",
       "        vertical-align: middle;\n",
       "    }\n",
       "\n",
       "    .dataframe tbody tr th {\n",
       "        vertical-align: top;\n",
       "    }\n",
       "\n",
       "    .dataframe thead th {\n",
       "        text-align: right;\n",
       "    }\n",
       "</style>\n",
       "<table border=\"1\" class=\"dataframe\">\n",
       "  <thead>\n",
       "    <tr style=\"text-align: right;\">\n",
       "      <th></th>\n",
       "      <th></th>\n",
       "      <th>click_bool</th>\n",
       "      <th>booking_bool</th>\n",
       "    </tr>\n",
       "    <tr>\n",
       "      <th>random_bool</th>\n",
       "      <th>position</th>\n",
       "      <th></th>\n",
       "      <th></th>\n",
       "    </tr>\n",
       "  </thead>\n",
       "  <tbody>\n",
       "    <tr>\n",
       "      <th rowspan=\"5\" valign=\"top\">0</th>\n",
       "      <th>1</th>\n",
       "      <td>0.194838</td>\n",
       "      <td>0.206880</td>\n",
       "    </tr>\n",
       "    <tr>\n",
       "      <th>2</th>\n",
       "      <td>0.132057</td>\n",
       "      <td>0.137665</td>\n",
       "    </tr>\n",
       "    <tr>\n",
       "      <th>3</th>\n",
       "      <td>0.100201</td>\n",
       "      <td>0.102506</td>\n",
       "    </tr>\n",
       "    <tr>\n",
       "      <th>4</th>\n",
       "      <td>0.079914</td>\n",
       "      <td>0.081124</td>\n",
       "    </tr>\n",
       "    <tr>\n",
       "      <th>5</th>\n",
       "      <td>0.000971</td>\n",
       "      <td>0.000751</td>\n",
       "    </tr>\n",
       "    <tr>\n",
       "      <th>...</th>\n",
       "      <th>...</th>\n",
       "      <td>...</td>\n",
       "      <td>...</td>\n",
       "    </tr>\n",
       "    <tr>\n",
       "      <th rowspan=\"5\" valign=\"top\">1</th>\n",
       "      <th>36</th>\n",
       "      <td>0.004504</td>\n",
       "      <td>0.003200</td>\n",
       "    </tr>\n",
       "    <tr>\n",
       "      <th>37</th>\n",
       "      <td>0.002296</td>\n",
       "      <td>0.001536</td>\n",
       "    </tr>\n",
       "    <tr>\n",
       "      <th>38</th>\n",
       "      <td>0.000468</td>\n",
       "      <td>0.000512</td>\n",
       "    </tr>\n",
       "    <tr>\n",
       "      <th>39</th>\n",
       "      <td>0.000102</td>\n",
       "      <td>0.000256</td>\n",
       "    </tr>\n",
       "    <tr>\n",
       "      <th>40</th>\n",
       "      <td>0.000000</td>\n",
       "      <td>0.000000</td>\n",
       "    </tr>\n",
       "  </tbody>\n",
       "</table>\n",
       "<p>80 rows × 2 columns</p>\n",
       "</div>"
      ],
      "text/plain": [
       "                      click_bool  booking_bool\n",
       "random_bool position                          \n",
       "0           1           0.194838      0.206880\n",
       "            2           0.132057      0.137665\n",
       "            3           0.100201      0.102506\n",
       "            4           0.079914      0.081124\n",
       "            5           0.000971      0.000751\n",
       "...                          ...           ...\n",
       "1           36          0.004504      0.003200\n",
       "            37          0.002296      0.001536\n",
       "            38          0.000468      0.000512\n",
       "            39          0.000102      0.000256\n",
       "            40          0.000000      0.000000\n",
       "\n",
       "[80 rows x 2 columns]"
      ]
     },
     "metadata": {},
     "output_type": "display_data"
    }
   ],
   "source": [
    "# groupby_random_bool = df.groupby('random_bool')[['click_bool', 'booking_bool']].count()\n",
    "groupby_position = df.groupby(['random_bool', 'position'])[['click_bool', 'booking_bool']].sum()\n",
    "groupby_random_bool = groupby_position.groupby('random_bool').sum()\n",
    "click_book_ratio = groupby_position / groupby_random_bool\n",
    "display(groupby_position)\n",
    "display(groupby_random_bool)\n",
    "display(click_book_ratio)"
   ]
  },
  {
   "cell_type": "markdown",
   "metadata": {
    "pycharm": {
     "name": "#%% md\n"
    }
   },
   "source": [
    "### Location distributions"
   ]
  },
  {
   "cell_type": "code",
   "execution_count": 20,
   "metadata": {
    "pycharm": {
     "name": "#%%\n"
    }
   },
   "outputs": [
    {
     "data": {
      "text/plain": [
       "visitor_location_country_id\n",
       "219    57.151580\n",
       "100     9.974724\n",
       "55      5.956606\n",
       "216     4.602217\n",
       "220     3.479066\n",
       "         ...    \n",
       "67      0.000501\n",
       "83      0.000501\n",
       "94      0.000501\n",
       "101     0.000501\n",
       "58      0.000501\n",
       "Name: srch_id, Length: 210, dtype: float64"
      ]
     },
     "metadata": {},
     "output_type": "display_data"
    },
    {
     "data": {
      "text/plain": [
       "prop_country_id\n",
       "219    59.694687\n",
       "100     6.304963\n",
       "55      3.899997\n",
       "31      3.142221\n",
       "99      2.876949\n",
       "         ...    \n",
       "7       0.001001\n",
       "165     0.001001\n",
       "204     0.000501\n",
       "135     0.000501\n",
       "126     0.000501\n",
       "Name: srch_id, Length: 172, dtype: float64"
      ]
     },
     "metadata": {},
     "output_type": "display_data"
    },
    {
     "data": {
      "text/plain": [
       "srch_destination_id\n",
       "8192     1.233264\n",
       "4562     1.020046\n",
       "9402     0.689707\n",
       "10979    0.620136\n",
       "8347     0.596612\n",
       "           ...   \n",
       "19543    0.000501\n",
       "19542    0.000501\n",
       "19540    0.000501\n",
       "9199     0.000501\n",
       "14212    0.000501\n",
       "Name: srch_id, Length: 18127, dtype: float64"
      ]
     },
     "metadata": {},
     "output_type": "display_data"
    }
   ],
   "source": [
    "groupby_home_country = df.groupby('visitor_location_country_id')['srch_id'].nunique()\n",
    "distribution_home_country = 100 * (groupby_home_country / df['srch_id'].nunique()).sort_values(ascending=False)\n",
    "display(distribution_home_country)\n",
    "# Country 219 == USA??\n",
    "# Country 100 == UK?? => Ursu (2015) suggests South-korea\n",
    "\n",
    "groupby_prop_country = df.groupby('prop_country_id')['srch_id'].nunique()\n",
    "distribution_prop_country = 100 * (groupby_prop_country / df['srch_id'].nunique()).sort_values(ascending=False)\n",
    "display(distribution_prop_country)\n",
    "\n",
    "groupby_destination_id = df.groupby('srch_destination_id')['srch_id'].nunique()\n",
    "distribution_destination_id = 100 * (groupby_destination_id / df['srch_id'].nunique()).sort_values(ascending=False)\n",
    "display(distribution_destination_id)\n",
    "\n",
    "# 8192 == NYC??\n",
    "# 4562 == LA?? Miami??"
   ]
  },
  {
   "cell_type": "markdown",
   "metadata": {},
   "source": [
    "### Drop Columns"
   ]
  },
  {
   "cell_type": "code",
   "execution_count": 21,
   "metadata": {
    "pycharm": {
     "name": "#%%\n"
    }
   },
   "outputs": [],
   "source": [
    "competitor_cols = []\n",
    "for i in range(1, 9):\n",
    "    competitor_cols += [f'comp{i}_rate', f'comp{i}_inv', f'comp{i}_rate_percent_diff']\n",
    "drop_cols = competitor_cols + ['gross_bookings_usd', 'position']\n",
    "\n",
    "df_stage1 = df.drop(columns=drop_cols)"
   ]
  },
  {
   "cell_type": "markdown",
   "metadata": {
    "pycharm": {
     "name": "#%% md\n"
    }
   },
   "source": [
    "### More Drops:"
   ]
  },
  {
   "cell_type": "code",
   "execution_count": 22,
   "metadata": {
    "pycharm": {
     "name": "#%%\n"
    }
   },
   "outputs": [
    {
     "name": "stdout",
     "output_type": "stream",
     "text": [
      "Left-over columns for drop/imputation\n"
     ]
    },
    {
     "data": {
      "text/plain": [
       "visitor_hist_starrating      94.920364\n",
       "visitor_hist_adr_usd         94.897735\n",
       "prop_review_score             0.148517\n",
       "prop_location_score2         21.990151\n",
       "srch_query_affinity_score    93.598552\n",
       "orig_destination_distance    32.425766\n",
       "dtype: float64"
      ]
     },
     "metadata": {},
     "output_type": "display_data"
    }
   ],
   "source": [
    "# left-over with missings\n",
    "left_overs = [col\n",
    "              for col in df_stage1.columns\n",
    "              if not col in filled_columns]\n",
    "print(\"Left-over columns for drop/imputation\")\n",
    "display(missing_percent[left_overs])\n",
    "drop_cols_extra = ['visitor_hist_starrating', 'visitor_hist_adr_usd', 'srch_query_affinity_score']  # voor nu even droppen\n",
    "df_stage1.drop(columns=drop_cols_extra, inplace=True)\n"
   ]
  },
  {
   "cell_type": "markdown",
   "metadata": {
    "pycharm": {
     "name": "#%% md\n"
    }
   },
   "source": [
    "## Fill Na\n",
    "### TODO: prop_review_score use lower quantile impute? per DMT 2020 group 95\n",
    "#### prop_location_score2 imputed per country, lower quantile as baseline => cited by group 95 and Liu et al"
   ]
  },
  {
   "cell_type": "code",
   "execution_count": 23,
   "metadata": {
    "pycharm": {
     "name": "#%%\n"
    }
   },
   "outputs": [
    {
     "name": "stdout",
     "output_type": "stream",
     "text": [
      "% properties with no reviews 24.453773051513014\n"
     ]
    }
   ],
   "source": [
    "df_stage1['prop_review_score'] = df_stage1['prop_review_score'].fillna(0)   # set no available to 0 reviews\n",
    "\n",
    "prop_score = df_stage1.groupby('prop_id')['prop_review_score'].max()\n",
    "no_reviews = prop_score[prop_score == 0].index\n",
    "print(f\"% properties with no reviews {100 * len(no_reviews) / len(prop_score)}\")"
   ]
  },
  {
   "cell_type": "markdown",
   "metadata": {
    "pycharm": {
     "name": "#%% md\n"
    }
   },
   "source": [
    "### Orig_destination_distance completion:\n"
   ]
  },
  {
   "cell_type": "code",
   "execution_count": 24,
   "metadata": {
    "collapsed": false,
    "jupyter": {
     "outputs_hidden": false
    },
    "pycharm": {
     "name": "#%%\n"
    }
   },
   "outputs": [
    {
     "name": "stderr",
     "output_type": "stream",
     "text": [
      "C:\\Users\\Jaimie\\Anaconda3\\envs\\DMT\\lib\\site-packages\\ipykernel_launcher.py:1: FutureWarning: Indexing with multiple keys (implicitly converted to a tuple of keys) will be deprecated, use a list instead.\n",
      "  \"\"\"Entry point for launching an IPython kernel.\n"
     ]
    },
    {
     "data": {
      "text/html": [
       "<div>\n",
       "<style scoped>\n",
       "    .dataframe tbody tr th:only-of-type {\n",
       "        vertical-align: middle;\n",
       "    }\n",
       "\n",
       "    .dataframe tbody tr th {\n",
       "        vertical-align: top;\n",
       "    }\n",
       "\n",
       "    .dataframe thead th {\n",
       "        text-align: right;\n",
       "    }\n",
       "</style>\n",
       "<table border=\"1\" class=\"dataframe\">\n",
       "  <thead>\n",
       "    <tr style=\"text-align: right;\">\n",
       "      <th></th>\n",
       "      <th>visitor_location_country_id</th>\n",
       "      <th>prop_country_id</th>\n",
       "      <th>prop_id</th>\n",
       "      <th>srch_destination_id</th>\n",
       "      <th>orig_destination_distance</th>\n",
       "    </tr>\n",
       "    <tr>\n",
       "      <th>srch_id</th>\n",
       "      <th></th>\n",
       "      <th></th>\n",
       "      <th></th>\n",
       "      <th></th>\n",
       "      <th></th>\n",
       "    </tr>\n",
       "  </thead>\n",
       "  <tbody>\n",
       "    <tr>\n",
       "      <th>1</th>\n",
       "      <td>187</td>\n",
       "      <td>219</td>\n",
       "      <td>893</td>\n",
       "      <td>23246</td>\n",
       "      <td>NaN</td>\n",
       "    </tr>\n",
       "    <tr>\n",
       "      <th>4</th>\n",
       "      <td>219</td>\n",
       "      <td>219</td>\n",
       "      <td>3625</td>\n",
       "      <td>12588</td>\n",
       "      <td>238.35</td>\n",
       "    </tr>\n",
       "    <tr>\n",
       "      <th>6</th>\n",
       "      <td>100</td>\n",
       "      <td>100</td>\n",
       "      <td>10759</td>\n",
       "      <td>21106</td>\n",
       "      <td>652.84</td>\n",
       "    </tr>\n",
       "    <tr>\n",
       "      <th>8</th>\n",
       "      <td>219</td>\n",
       "      <td>219</td>\n",
       "      <td>10250</td>\n",
       "      <td>7082</td>\n",
       "      <td>5.40</td>\n",
       "    </tr>\n",
       "    <tr>\n",
       "      <th>11</th>\n",
       "      <td>219</td>\n",
       "      <td>219</td>\n",
       "      <td>6492</td>\n",
       "      <td>12610</td>\n",
       "      <td>284.56</td>\n",
       "    </tr>\n",
       "    <tr>\n",
       "      <th>12</th>\n",
       "      <td>219</td>\n",
       "      <td>158</td>\n",
       "      <td>7814</td>\n",
       "      <td>26648</td>\n",
       "      <td>9270.55</td>\n",
       "    </tr>\n",
       "    <tr>\n",
       "      <th>17</th>\n",
       "      <td>129</td>\n",
       "      <td>31</td>\n",
       "      <td>2196</td>\n",
       "      <td>6285</td>\n",
       "      <td>433.61</td>\n",
       "    </tr>\n",
       "    <tr>\n",
       "      <th>21</th>\n",
       "      <td>55</td>\n",
       "      <td>216</td>\n",
       "      <td>6225</td>\n",
       "      <td>18161</td>\n",
       "      <td>NaN</td>\n",
       "    </tr>\n",
       "    <tr>\n",
       "      <th>25</th>\n",
       "      <td>219</td>\n",
       "      <td>219</td>\n",
       "      <td>2863</td>\n",
       "      <td>3735</td>\n",
       "      <td>766.18</td>\n",
       "    </tr>\n",
       "    <tr>\n",
       "      <th>28</th>\n",
       "      <td>219</td>\n",
       "      <td>219</td>\n",
       "      <td>5739</td>\n",
       "      <td>24232</td>\n",
       "      <td>116.36</td>\n",
       "    </tr>\n",
       "  </tbody>\n",
       "</table>\n",
       "</div>"
      ],
      "text/plain": [
       "         visitor_location_country_id  prop_country_id  prop_id  \\\n",
       "srch_id                                                          \n",
       "1                                187              219      893   \n",
       "4                                219              219     3625   \n",
       "6                                100              100    10759   \n",
       "8                                219              219    10250   \n",
       "11                               219              219     6492   \n",
       "12                               219              158     7814   \n",
       "17                               129               31     2196   \n",
       "21                                55              216     6225   \n",
       "25                               219              219     2863   \n",
       "28                               219              219     5739   \n",
       "\n",
       "         srch_destination_id  orig_destination_distance  \n",
       "srch_id                                                  \n",
       "1                      23246                        NaN  \n",
       "4                      12588                     238.35  \n",
       "6                      21106                     652.84  \n",
       "8                       7082                       5.40  \n",
       "11                     12610                     284.56  \n",
       "12                     26648                    9270.55  \n",
       "17                      6285                     433.61  \n",
       "21                     18161                        NaN  \n",
       "25                      3735                     766.18  \n",
       "28                     24232                     116.36  "
      ]
     },
     "metadata": {},
     "output_type": "display_data"
    }
   ],
   "source": [
    "srch_grouped = df.groupby('srch_id')['visitor_location_country_id', 'prop_country_id', 'prop_id', 'srch_destination_id',\n",
    "'orig_destination_distance'].first()\n",
    "display(srch_grouped.head(10))"
   ]
  },
  {
   "cell_type": "code",
   "execution_count": 25,
   "metadata": {
    "collapsed": false,
    "jupyter": {
     "outputs_hidden": false
    },
    "pycharm": {
     "name": "#%%\n"
    }
   },
   "outputs": [
    {
     "data": {
      "text/plain": [
       "visitor_location_country_id\n",
       "1           NaN\n",
       "2           NaN\n",
       "4      0.270093\n",
       "9           NaN\n",
       "10     2.129486\n",
       "         ...   \n",
       "221         NaN\n",
       "223         NaN\n",
       "224         NaN\n",
       "229         NaN\n",
       "230         NaN\n",
       "Length: 112, dtype: float64"
      ]
     },
     "metadata": {},
     "output_type": "display_data"
    },
    {
     "data": {
      "text/plain": [
       "visitor_location_country_id\n",
       "4      0.270093\n",
       "10     2.129486\n",
       "31     0.705495\n",
       "32     0.841692\n",
       "50     1.002795\n",
       "53     0.006011\n",
       "55     0.766841\n",
       "59     0.934761\n",
       "100    1.510248\n",
       "129    0.551630\n",
       "158    0.877572\n",
       "202    0.541477\n",
       "215    0.804445\n",
       "219    1.248095\n",
       "220    1.084706\n",
       "dtype: float64"
      ]
     },
     "metadata": {},
     "output_type": "display_data"
    }
   ],
   "source": [
    "# Test if this is country to country distance:\n",
    "same_country = srch_grouped[srch_grouped['visitor_location_country_id'] == srch_grouped['prop_country_id']]\n",
    "same_country_dist = same_country.groupby('visitor_location_country_id')['orig_destination_distance'].agg(['mean', 'std'])\n",
    "\n",
    "relative_dist_std = same_country_dist['std'] / same_country_dist['mean']\n",
    "display(relative_dist_std)\n",
    "display(relative_dist_std[~relative_dist_std.isnull()])\n",
    "\n",
    "# Contains large distances thus not country-country distance"
   ]
  },
  {
   "cell_type": "code",
   "execution_count": 26,
   "metadata": {
    "collapsed": false,
    "jupyter": {
     "outputs_hidden": false
    },
    "pycharm": {
     "name": "#%%\n"
    }
   },
   "outputs": [],
   "source": [
    "# use median distance country-country to impute distance\n",
    "df_country_dist = df[['visitor_location_country_id', 'prop_country_id', 'orig_destination_distance']]\n",
    "df_country_dist = df_country_dist.set_index(['visitor_location_country_id', 'prop_country_id']).sort_index().dropna()"
   ]
  },
  {
   "cell_type": "code",
   "execution_count": 27,
   "metadata": {
    "collapsed": false,
    "jupyter": {
     "outputs_hidden": false
    },
    "pycharm": {
     "name": "#%%\n"
    }
   },
   "outputs": [],
   "source": [
    "combin_dist = df_country_dist.groupby(['visitor_location_country_id', 'prop_country_id'])['orig_destination_distance'].apply(np.array)\n",
    "\n",
    "# concat (a, b) and (b, a) distances:\n",
    "c2c_arrays = dict()\n",
    "for i, (c1, c2) in enumerate(combin_dist.index):\n",
    "    vDist = combin_dist.values[i]\n",
    "\n",
    "    if (c2, c1) in c2c_arrays:\n",
    "        c2c_arrays[(c2, c1)] = np.append(c2c_arrays[(c2, c1)], vDist)\n",
    "        continue\n",
    "\n",
    "    c2c_arrays[c1, c2] = vDist\n",
    "\n",
    "c2c_median = [dict(c1=c1, c2=c2, median_dist=np.median(vDist)) for (c1, c2), vDist in c2c_arrays.items()]"
   ]
  },
  {
   "cell_type": "code",
   "execution_count": 28,
   "metadata": {
    "collapsed": false,
    "jupyter": {
     "outputs_hidden": false
    },
    "pycharm": {
     "name": "#%%\n"
    }
   },
   "outputs": [
    {
     "name": "stdout",
     "output_type": "stream",
     "text": [
      "791\n",
      "1567\n"
     ]
    },
    {
     "data": {
      "text/html": [
       "<div>\n",
       "<style scoped>\n",
       "    .dataframe tbody tr th:only-of-type {\n",
       "        vertical-align: middle;\n",
       "    }\n",
       "\n",
       "    .dataframe tbody tr th {\n",
       "        vertical-align: top;\n",
       "    }\n",
       "\n",
       "    .dataframe thead th {\n",
       "        text-align: right;\n",
       "    }\n",
       "</style>\n",
       "<table border=\"1\" class=\"dataframe\">\n",
       "  <thead>\n",
       "    <tr style=\"text-align: right;\">\n",
       "      <th></th>\n",
       "      <th>c1</th>\n",
       "      <th>c2</th>\n",
       "      <th>median_dist</th>\n",
       "    </tr>\n",
       "  </thead>\n",
       "  <tbody>\n",
       "    <tr>\n",
       "      <th>0</th>\n",
       "      <td>4</td>\n",
       "      <td>4</td>\n",
       "      <td>137.005</td>\n",
       "    </tr>\n",
       "    <tr>\n",
       "      <th>1</th>\n",
       "      <td>4</td>\n",
       "      <td>55</td>\n",
       "      <td>355.590</td>\n",
       "    </tr>\n",
       "    <tr>\n",
       "      <th>2</th>\n",
       "      <td>4</td>\n",
       "      <td>73</td>\n",
       "      <td>557.550</td>\n",
       "    </tr>\n",
       "    <tr>\n",
       "      <th>3</th>\n",
       "      <td>4</td>\n",
       "      <td>98</td>\n",
       "      <td>6509.850</td>\n",
       "    </tr>\n",
       "    <tr>\n",
       "      <th>4</th>\n",
       "      <td>4</td>\n",
       "      <td>99</td>\n",
       "      <td>862.630</td>\n",
       "    </tr>\n",
       "  </tbody>\n",
       "</table>\n",
       "</div>"
      ],
      "text/plain": [
       "   c1  c2  median_dist\n",
       "0   4   4      137.005\n",
       "1   4  55      355.590\n",
       "2   4  73      557.550\n",
       "3   4  98     6509.850\n",
       "4   4  99      862.630"
      ]
     },
     "metadata": {},
     "output_type": "display_data"
    },
    {
     "data": {
      "text/html": [
       "<div>\n",
       "<style scoped>\n",
       "    .dataframe tbody tr th:only-of-type {\n",
       "        vertical-align: middle;\n",
       "    }\n",
       "\n",
       "    .dataframe tbody tr th {\n",
       "        vertical-align: top;\n",
       "    }\n",
       "\n",
       "    .dataframe thead th {\n",
       "        text-align: right;\n",
       "    }\n",
       "</style>\n",
       "<table border=\"1\" class=\"dataframe\">\n",
       "  <thead>\n",
       "    <tr style=\"text-align: right;\">\n",
       "      <th></th>\n",
       "      <th>c1</th>\n",
       "      <th>c2</th>\n",
       "      <th>median_dist</th>\n",
       "    </tr>\n",
       "  </thead>\n",
       "  <tbody>\n",
       "    <tr>\n",
       "      <th>1</th>\n",
       "      <td>4</td>\n",
       "      <td>55</td>\n",
       "      <td>355.59</td>\n",
       "    </tr>\n",
       "    <tr>\n",
       "      <th>1</th>\n",
       "      <td>55</td>\n",
       "      <td>4</td>\n",
       "      <td>355.59</td>\n",
       "    </tr>\n",
       "  </tbody>\n",
       "</table>\n",
       "</div>"
      ],
      "text/plain": [
       "   c1  c2  median_dist\n",
       "1   4  55       355.59\n",
       "1  55   4       355.59"
      ]
     },
     "metadata": {},
     "output_type": "display_data"
    }
   ],
   "source": [
    "df_c2c_median = pd.DataFrame(c2c_median)\n",
    "\n",
    "# concat df with swapped c1, c2 to accomodate simple merge\n",
    "df_c2c_median2 = pd.concat([df_c2c_median, df_c2c_median.rename(columns={'c1': 'c2', 'c2': 'c1'})], axis=0).drop_duplicates()\n",
    "\n",
    "print(df_c2c_median.shape[0])\n",
    "print(df_c2c_median2.shape[0])\n",
    "display(df_c2c_median.head(5))\n",
    "\n",
    "example = df_c2c_median2[((df_c2c_median2['c1'] == 4) & (df_c2c_median2['c2'] == 55)) | ((df_c2c_median2['c1'] == 55) & (df_c2c_median2['c2'] == 4)) ]\n",
    "display(example)\n"
   ]
  },
  {
   "cell_type": "code",
   "execution_count": 29,
   "metadata": {
    "collapsed": false,
    "jupyter": {
     "outputs_hidden": false
    },
    "pycharm": {
     "name": "#%%\n"
    }
   },
   "outputs": [],
   "source": [
    "df_joint_dist = pd.merge(df_stage1, df_c2c_median2, left_on=['visitor_location_country_id', 'prop_country_id'], right_on=['c1', 'c2'], how='left')"
   ]
  },
  {
   "cell_type": "code",
   "execution_count": 30,
   "metadata": {
    "collapsed": false,
    "jupyter": {
     "outputs_hidden": false
    },
    "pycharm": {
     "name": "#%%\n"
    }
   },
   "outputs": [
    {
     "name": "stdout",
     "output_type": "stream",
     "text": [
      "0.09513815793852266\n"
     ]
    }
   ],
   "source": [
    "nan_mask = df_joint_dist['orig_destination_distance'].isnull()\n",
    "df_joint_dist.loc[nan_mask, 'orig_destination_distance'] = df_joint_dist.loc[nan_mask, 'median_dist']\n",
    "\n",
    "missing = df_joint_dist['orig_destination_distance'].isnull().sum() / df_joint_dist.shape[0]\n",
    "print(missing)\n"
   ]
  },
  {
   "cell_type": "markdown",
   "metadata": {
    "pycharm": {
     "name": "#%% md\n"
    }
   },
   "source": [
    "### Still 10% missing distances\n",
    "#### TODO: use median of median to complete nan's\n"
   ]
  },
  {
   "cell_type": "code",
   "execution_count": 31,
   "metadata": {
    "pycharm": {
     "name": "#%%\n"
    }
   },
   "outputs": [
    {
     "name": "stdout",
     "output_type": "stream",
     "text": [
      "4580.98\n"
     ]
    }
   ],
   "source": [
    "median_of_median = df_c2c_median['median_dist'].median()\n",
    "print(median_of_median)\n",
    "df_joint_dist['orig_destination_distance'].fillna(median_of_median, inplace=True)"
   ]
  },
  {
   "cell_type": "code",
   "execution_count": 32,
   "metadata": {
    "collapsed": false,
    "jupyter": {
     "outputs_hidden": false
    },
    "pycharm": {
     "name": "#%%\n"
    }
   },
   "outputs": [],
   "source": [
    "df_stage1 = df_joint_dist.drop(columns=df_c2c_median2.columns)\n"
   ]
  },
  {
   "cell_type": "code",
   "execution_count": 33,
   "metadata": {
    "collapsed": false,
    "jupyter": {
     "outputs_hidden": false
    },
    "pycharm": {
     "name": "#%%\n"
    }
   },
   "outputs": [
    {
     "name": "stdout",
     "output_type": "stream",
     "text": [
      "Still 2 unsolved NaN's\n",
      "Still 0 unsolved NaN's\n"
     ]
    },
    {
     "data": {
      "text/plain": [
       "0          False\n",
       "1          False\n",
       "2          False\n",
       "3          False\n",
       "4          False\n",
       "           ...  \n",
       "4958342    False\n",
       "4958343    False\n",
       "4958344    False\n",
       "4958345    False\n",
       "4958346     True\n",
       "Name: prop_location_score2, Length: 4958347, dtype: bool"
      ]
     },
     "metadata": {},
     "output_type": "display_data"
    }
   ],
   "source": [
    "# grouped by 'srch_destination_id' (city) would be more precise, but still has some NaN's\n",
    "country_score2 = df_stage1.groupby('prop_country_id')['prop_location_score2'].quantile(0.25)\n",
    "\n",
    "score2_country_join = pd.merge(df_stage1, country_score2, on='prop_country_id', how='left')['prop_location_score2_y']\n",
    "print(f\"Still {score2_country_join.isnull().sum()} unsolved NaN's\")\n",
    "\n",
    "# Fill 2 left-overs\n",
    "score2_country_join[score2_country_join.isnull()] = country_score2.mean()\n",
    "print(f\"Still {score2_country_join.isnull().sum()} unsolved NaN's\")\n",
    "\n",
    "df_stage2 = df_stage1.copy()\n",
    "nan_mask = df_stage2['prop_location_score2'].isnull()\n",
    "display(nan_mask)\n",
    "df_stage2.loc[nan_mask, 'prop_location_score2'] = score2_country_join[nan_mask]"
   ]
  },
  {
   "cell_type": "code",
   "execution_count": 34,
   "metadata": {
    "pycharm": {
     "name": "#%%\n"
    }
   },
   "outputs": [
    {
     "data": {
      "text/plain": [
       "0          104.77\n",
       "1          170.74\n",
       "2          179.80\n",
       "3          599.00\n",
       "4          143.58\n",
       "            ...  \n",
       "4958342    118.00\n",
       "4958343     89.00\n",
       "4958344     99.00\n",
       "4958345    139.00\n",
       "4958346     61.00\n",
       "Name: price_usd, Length: 4958347, dtype: float64"
      ]
     },
     "metadata": {},
     "output_type": "display_data"
    },
    {
     "data": {
      "text/plain": [
       "3          602.77\n",
       "32         600.00\n",
       "126         29.00\n",
       "130         29.00\n",
       "137         32.00\n",
       "            ...  \n",
       "4958162     23.92\n",
       "4958164     26.79\n",
       "4958168     33.49\n",
       "4958300     24.15\n",
       "4958305     30.31\n",
       "Name: price_usd, Length: 98760, dtype: float64"
      ]
     },
     "metadata": {},
     "output_type": "display_data"
    }
   ],
   "source": [
    "# Group 95 does not give an alpha => this needs reasoning\n",
    "alpha = 0.01\n",
    "price_usd = df_stage2['price_usd']\n",
    "price_usd_winsorized = price_usd.clip(lower=price_usd.quantile(alpha), upper=price_usd.quantile(1-alpha))\n",
    "\n",
    "\n",
    "length_of_stay = df_stage2['srch_length_of_stay']\n",
    "length_of_stay_winsorized = length_of_stay.clip(lower=length_of_stay.quantile(alpha), upper=length_of_stay.quantile(1-alpha))\n",
    "booking_window = df_stage2['srch_booking_window']\n",
    "booking_window_winsorized = booking_window.clip(lower=booking_window.quantile(alpha), upper=booking_window.quantile(1-alpha))\n",
    "\n",
    "display(price_usd_winsorized)\n",
    "outliers = price_usd[price_usd != price_usd_winsorized]\n",
    "display(outliers)\n",
    "\n",
    "df_stage3 = df_stage2.copy()\n",
    "df_stage3['price_usd'] = price_usd_winsorized\n",
    "df_stage3['srch_length_of_stay'] = length_of_stay_winsorized\n",
    "df_stage3['srch_booking_window'] = booking_window_winsorized"
   ]
  },
  {
   "cell_type": "markdown",
   "metadata": {
    "pycharm": {
     "name": "#%% md\n"
    }
   },
   "source": [
    "## Temporary output"
   ]
  },
  {
   "cell_type": "code",
   "execution_count": 35,
   "metadata": {
    "pycharm": {
     "name": "#%%\n"
    }
   },
   "outputs": [
    {
     "name": "stdout",
     "output_type": "stream",
     "text": [
      "% missing:\n"
     ]
    },
    {
     "data": {
      "text/plain": [
       "srch_id                        0.0\n",
       "date_time                      0.0\n",
       "site_id                        0.0\n",
       "visitor_location_country_id    0.0\n",
       "prop_country_id                0.0\n",
       "prop_id                        0.0\n",
       "prop_starrating                0.0\n",
       "prop_review_score              0.0\n",
       "prop_brand_bool                0.0\n",
       "prop_location_score1           0.0\n",
       "prop_location_score2           0.0\n",
       "prop_log_historical_price      0.0\n",
       "price_usd                      0.0\n",
       "promotion_flag                 0.0\n",
       "srch_destination_id            0.0\n",
       "srch_length_of_stay            0.0\n",
       "srch_booking_window            0.0\n",
       "srch_adults_count              0.0\n",
       "srch_children_count            0.0\n",
       "srch_room_count                0.0\n",
       "srch_saturday_night_bool       0.0\n",
       "orig_destination_distance      0.0\n",
       "random_bool                    0.0\n",
       "click_bool                     0.0\n",
       "booking_bool                   0.0\n",
       "dtype: float64"
      ]
     },
     "metadata": {},
     "output_type": "display_data"
    }
   ],
   "source": [
    "missing_percent = 100 * df_stage3.isnull().sum() / df_stage3.shape[0]\n",
    "print(\"% missing:\")\n",
    "display(missing_percent)\n",
    "\n",
    "df_stage3.to_pickle('df_temporary.pkl')\n"
   ]
  },
  {
   "cell_type": "markdown",
   "metadata": {},
   "source": [
    "Check class inbalance:"
   ]
  },
  {
   "cell_type": "code",
   "execution_count": 36,
   "metadata": {},
   "outputs": [
    {
     "data": {
      "text/plain": [
       "click_bool\n",
       "0    4736468\n",
       "1     221879\n",
       "Name: srch_id, dtype: int64"
      ]
     },
     "execution_count": 36,
     "metadata": {},
     "output_type": "execute_result"
    }
   ],
   "source": [
    "df.groupby('click_bool')['srch_id'].count()"
   ]
  },
  {
   "cell_type": "code",
   "execution_count": 37,
   "metadata": {},
   "outputs": [
    {
     "data": {
      "text/plain": [
       "booking_bool\n",
       "0    4819957\n",
       "1     138390\n",
       "Name: srch_id, dtype: int64"
      ]
     },
     "execution_count": 37,
     "metadata": {},
     "output_type": "execute_result"
    }
   ],
   "source": [
    "df.groupby('booking_bool')['srch_id'].count()"
   ]
  },
  {
   "cell_type": "code",
   "execution_count": 38,
   "metadata": {},
   "outputs": [
    {
     "name": "stdout",
     "output_type": "stream",
     "text": [
      "Total instances not clicked and not booked =  4736468\n",
      "Total instances clicked but not booked =  83489\n",
      "Total instances clicked and booked =  138390\n"
     ]
    }
   ],
   "source": [
    "print('Total instances not clicked and not booked = ', df.groupby('click_bool')['srch_id'].count()[0])\n",
    "print('Total instances clicked but not booked = ', (df.groupby('click_bool')['srch_id'].count()[1]-df.groupby('booking_bool')['srch_id'].count()[1]))\n",
    "print('Total instances clicked and booked = ', df.groupby('booking_bool')['srch_id'].count()[1])"
   ]
  },
  {
   "cell_type": "code",
   "execution_count": 39,
   "metadata": {},
   "outputs": [
    {
     "data": {
      "text/plain": [
       "count    138390.0\n",
       "mean          1.0\n",
       "std           0.0\n",
       "min           1.0\n",
       "25%           1.0\n",
       "50%           1.0\n",
       "75%           1.0\n",
       "max           1.0\n",
       "Name: click_bool, dtype: float64"
      ]
     },
     "execution_count": 39,
     "metadata": {},
     "output_type": "execute_result"
    }
   ],
   "source": [
    "#Check if it is true that all instances booked are also clicked:\n",
    "df[df['booking_bool']==1]['click_bool'].describe()"
   ]
  },
  {
   "cell_type": "code",
   "execution_count": 40,
   "metadata": {},
   "outputs": [],
   "source": [
    "def boxplot_compare(column):\n",
    "    not_clicked_not_booked = df.loc[(df.click_bool==0) & (df.booking_bool==0)][column]\n",
    "    clicked_not_booked = df.loc[(df.click_bool==1) & (df.booking_bool==0)][column]\n",
    "    clicked_and_booked = df.loc[df.booking_bool==1][column]\n",
    "    \n",
    "    plt.figure(figsize=(10,5))\n",
    "    sns.boxplot(data=[not_clicked_not_booked, clicked_not_booked, clicked_and_booked])\n",
    "    plt.xticks(plt.xticks()[0], ['Not clicked or booked', 'Clicked but not booked', 'Booked'])"
   ]
  },
  {
   "cell_type": "code",
   "execution_count": 41,
   "metadata": {},
   "outputs": [
    {
     "data": {
      "image/png": "[encoded data removed]",
      "text/plain": [
       "<Figure size 720x360 with 1 Axes>"
      ]
     },
     "metadata": {},
     "output_type": "display_data"
    }
   ],
   "source": [
    "boxplot_compare('position')"
   ]
  },
  {
   "cell_type": "code",
   "execution_count": 42,
   "metadata": {},
   "outputs": [
    {
     "data": {
      "image/png": "[encoded data removed]",
      "text/plain": [
       "<Figure size 720x360 with 1 Axes>"
      ]
     },
     "metadata": {},
     "output_type": "display_data"
    }
   ],
   "source": [
    "boxplot_compare('prop_starrating')"
   ]
  },
  {
   "cell_type": "code",
   "execution_count": 43,
   "metadata": {},
   "outputs": [
    {
     "data": {
      "image/png": "[encoded data removed]",
      "text/plain": [
       "<Figure size 720x360 with 1 Axes>"
      ]
     },
     "metadata": {},
     "output_type": "display_data"
    }
   ],
   "source": [
    "boxplot_compare('prop_review_score')"
   ]
  },
  {
   "cell_type": "code",
   "execution_count": 44,
   "metadata": {},
   "outputs": [
    {
     "data": {
      "image/png": "[encoded data removed]",
      "text/plain": [
       "<Figure size 720x360 with 1 Axes>"
      ]
     },
     "metadata": {},
     "output_type": "display_data"
    }
   ],
   "source": [
    "boxplot_compare('prop_location_score1')"
   ]
  },
  {
   "cell_type": "code",
   "execution_count": 45,
   "metadata": {},
   "outputs": [
    {
     "data": {
      "image/png": "[encoded data removed]",
      "text/plain": [
       "<Figure size 720x360 with 1 Axes>"
      ]
     },
     "metadata": {},
     "output_type": "display_data"
    }
   ],
   "source": [
    "boxplot_compare('visitor_hist_starrating')"
   ]
  },
  {
   "cell_type": "code",
   "execution_count": 46,
   "metadata": {},
   "outputs": [
    {
     "data": {
      "text/plain": [
       "3.7777767566562033"
      ]
     },
     "execution_count": 46,
     "metadata": {},
     "output_type": "execute_result"
    }
   ],
   "source": [
    "df['prop_review_score'].mean()"
   ]
  },
  {
   "cell_type": "code",
   "execution_count": 47,
   "metadata": {},
   "outputs": [
    {
     "data": {
      "text/plain": [
       "booking_bool\n",
       "0    0.213108\n",
       "1    0.303107\n",
       "Name: promotion_flag, dtype: float64"
      ]
     },
     "execution_count": 47,
     "metadata": {},
     "output_type": "execute_result"
    }
   ],
   "source": [
    "df.groupby('booking_bool')['promotion_flag'].mean()"
   ]
  },
  {
   "cell_type": "code",
   "execution_count": 48,
   "metadata": {},
   "outputs": [
    {
     "data": {
      "text/plain": [
       "click_bool\n",
       "0    0.212109\n",
       "1    0.290559\n",
       "Name: promotion_flag, dtype: float64"
      ]
     },
     "execution_count": 48,
     "metadata": {},
     "output_type": "execute_result"
    }
   ],
   "source": [
    "df.groupby('click_bool')['promotion_flag'].mean()"
   ]
  },
  {
   "cell_type": "markdown",
   "metadata": {},
   "source": [
    "Check if there is a correlation between variables and position:"
   ]
  },
  {
   "cell_type": "code",
   "execution_count": 49,
   "metadata": {},
   "outputs": [],
   "source": [
    "df_non_random = df[df['random_bool']==0]"
   ]
  },
  {
   "cell_type": "code",
   "execution_count": 50,
   "metadata": {},
   "outputs": [
    {
     "data": {
      "text/plain": [
       "<AxesSubplot:xlabel='prop_review_score', ylabel='position'>"
      ]
     },
     "execution_count": 50,
     "metadata": {},
     "output_type": "execute_result"
    },
    {
     "data": {
      "image/png": "[encoded data removed]",
      "text/plain": [
       "<Figure size 504x396 with 1 Axes>"
      ]
     },
     "metadata": {},
     "output_type": "display_data"
    }
   ],
   "source": [
    "sns.boxplot(x='prop_review_score', y='position', data=df_non_random)"
   ]
  },
  {
   "cell_type": "code",
   "execution_count": 51,
   "metadata": {},
   "outputs": [
    {
     "data": {
      "text/plain": [
       "<AxesSubplot:xlabel='prop_starrating', ylabel='position'>"
      ]
     },
     "execution_count": 51,
     "metadata": {},
     "output_type": "execute_result"
    },
    {
     "data": {
      "image/png": "[encoded data removed]",
      "text/plain": [
       "<Figure size 504x396 with 1 Axes>"
      ]
     },
     "metadata": {},
     "output_type": "display_data"
    }
   ],
   "source": [
    "sns.boxplot(x='prop_starrating', y='position', data=df_non_random)"
   ]
  },
  {
   "cell_type": "code",
   "execution_count": null,
   "metadata": {},
   "outputs": [],
   "source": []
  },
  {
   "cell_type": "markdown",
   "metadata": {},
   "source": [
    "### Bookings seasonality"
   ]
  },
  {
   "cell_type": "code",
   "execution_count": 52,
   "metadata": {
    "collapsed": false,
    "jupyter": {
     "outputs_hidden": false
    },
    "pycharm": {
     "name": "#%%\n"
    }
   },
   "outputs": [
    {
     "data": {
      "text/html": [
       "<div>\n",
       "<style scoped>\n",
       "    .dataframe tbody tr th:only-of-type {\n",
       "        vertical-align: middle;\n",
       "    }\n",
       "\n",
       "    .dataframe tbody tr th {\n",
       "        vertical-align: top;\n",
       "    }\n",
       "\n",
       "    .dataframe thead th {\n",
       "        text-align: right;\n",
       "    }\n",
       "</style>\n",
       "<table border=\"1\" class=\"dataframe\">\n",
       "  <thead>\n",
       "    <tr style=\"text-align: right;\">\n",
       "      <th></th>\n",
       "      <th>date_time</th>\n",
       "      <th>checkin_date</th>\n",
       "    </tr>\n",
       "  </thead>\n",
       "  <tbody>\n",
       "    <tr>\n",
       "      <th>0</th>\n",
       "      <td>2013-04-04 08:32:15</td>\n",
       "      <td>2013-04-04 08:32:15</td>\n",
       "    </tr>\n",
       "    <tr>\n",
       "      <th>1</th>\n",
       "      <td>2013-04-04 08:32:15</td>\n",
       "      <td>2013-04-04 08:32:15</td>\n",
       "    </tr>\n",
       "    <tr>\n",
       "      <th>2</th>\n",
       "      <td>2013-04-04 08:32:15</td>\n",
       "      <td>2013-04-04 08:32:15</td>\n",
       "    </tr>\n",
       "    <tr>\n",
       "      <th>3</th>\n",
       "      <td>2013-04-04 08:32:15</td>\n",
       "      <td>2013-04-04 08:32:15</td>\n",
       "    </tr>\n",
       "    <tr>\n",
       "      <th>4</th>\n",
       "      <td>2013-04-04 08:32:15</td>\n",
       "      <td>2013-04-04 08:32:15</td>\n",
       "    </tr>\n",
       "    <tr>\n",
       "      <th>...</th>\n",
       "      <td>...</td>\n",
       "      <td>...</td>\n",
       "    </tr>\n",
       "    <tr>\n",
       "      <th>4958342</th>\n",
       "      <td>2013-06-30 19:55:18</td>\n",
       "      <td>2013-07-21 19:55:18</td>\n",
       "    </tr>\n",
       "    <tr>\n",
       "      <th>4958343</th>\n",
       "      <td>2013-06-30 19:55:18</td>\n",
       "      <td>2013-07-21 19:55:18</td>\n",
       "    </tr>\n",
       "    <tr>\n",
       "      <th>4958344</th>\n",
       "      <td>2013-06-30 19:55:18</td>\n",
       "      <td>2013-07-21 19:55:18</td>\n",
       "    </tr>\n",
       "    <tr>\n",
       "      <th>4958345</th>\n",
       "      <td>2013-06-30 19:55:18</td>\n",
       "      <td>2013-07-21 19:55:18</td>\n",
       "    </tr>\n",
       "    <tr>\n",
       "      <th>4958346</th>\n",
       "      <td>2013-06-30 19:55:18</td>\n",
       "      <td>2013-07-21 19:55:18</td>\n",
       "    </tr>\n",
       "  </tbody>\n",
       "</table>\n",
       "<p>4958347 rows × 2 columns</p>\n",
       "</div>"
      ],
      "text/plain": [
       "                  date_time        checkin_date\n",
       "0       2013-04-04 08:32:15 2013-04-04 08:32:15\n",
       "1       2013-04-04 08:32:15 2013-04-04 08:32:15\n",
       "2       2013-04-04 08:32:15 2013-04-04 08:32:15\n",
       "3       2013-04-04 08:32:15 2013-04-04 08:32:15\n",
       "4       2013-04-04 08:32:15 2013-04-04 08:32:15\n",
       "...                     ...                 ...\n",
       "4958342 2013-06-30 19:55:18 2013-07-21 19:55:18\n",
       "4958343 2013-06-30 19:55:18 2013-07-21 19:55:18\n",
       "4958344 2013-06-30 19:55:18 2013-07-21 19:55:18\n",
       "4958345 2013-06-30 19:55:18 2013-07-21 19:55:18\n",
       "4958346 2013-06-30 19:55:18 2013-07-21 19:55:18\n",
       "\n",
       "[4958347 rows x 2 columns]"
      ]
     },
     "metadata": {},
     "output_type": "display_data"
    },
    {
     "data": {
      "text/plain": [
       "checkin_weeknr\n",
       "1     4537\n",
       "2     3112\n",
       "3     3840\n",
       "4     3465\n",
       "5     3434\n",
       "6     4029\n",
       "7     5308\n",
       "8     4576\n",
       "9     4362\n",
       "10    4868\n",
       "11    5502\n",
       "12    5845\n",
       "13    6671\n",
       "14    5628\n",
       "15    4920\n",
       "16    4973\n",
       "17    5345\n",
       "18    5325\n",
       "19    5235\n",
       "20    6185\n",
       "21    7144\n",
       "22    5596\n",
       "23    6182\n",
       "24    6519\n",
       "25    7352\n",
       "26    7575\n",
       "27    6401\n",
       "28    4389\n",
       "29    3714\n",
       "30    3185\n",
       "31    2722\n",
       "32    2527\n",
       "33    2172\n",
       "34    1590\n",
       "35    1430\n",
       "36    1095\n",
       "37    1136\n",
       "38    1025\n",
       "39     728\n",
       "40     685\n",
       "41     616\n",
       "42     490\n",
       "43     364\n",
       "44     867\n",
       "45    2200\n",
       "46    2697\n",
       "47    3313\n",
       "48    2905\n",
       "49    3107\n",
       "50    3212\n",
       "51    3950\n",
       "52    5747\n",
       "Name: srch_id, dtype: int64"
      ]
     },
     "metadata": {},
     "output_type": "display_data"
    },
    {
     "name": "stderr",
     "output_type": "stream",
     "text": [
      "C:\\Users\\Jaimie\\Anaconda3\\envs\\DMT\\lib\\site-packages\\seaborn\\_decorators.py:43: FutureWarning: Pass the following variables as keyword args: x, y. From version 0.12, the only valid positional argument will be `data`, and passing other arguments without an explicit keyword will result in an error or misinterpretation.\n",
      "  FutureWarning\n"
     ]
    },
    {
     "data": {
      "image/png": "[encoded data removed]",
      "text/plain": [
       "<Figure size 504x396 with 1 Axes>"
      ]
     },
     "metadata": {},
     "output_type": "display_data"
    }
   ],
   "source": [
    "df_stage3['checkin_date'] = df_stage3['date_time'] + pd.to_timedelta(df_stage3['srch_booking_window'], unit='D')  # speedup with vectorize?,\n",
    "display(df_stage3[['date_time', 'checkin_date']])\n",
    "df_stage3['checkin_weeknr'] = df_stage3['checkin_date'].dt.isocalendar().week\n",
    "\n",
    "groupby_weeknr = df_stage3.groupby('checkin_weeknr')['srch_id'].nunique()\n",
    "distr_weeknr = groupby_weeknr / df_stage3['srch_id'].nunique()\n",
    "display(groupby_weeknr)\n",
    "\n",
    "import matplotlib.pyplot as plt\n",
    "# fig = plt.figure()\n",
    "# ax = fig.add_axes([0,0,1,1])\n",
    "x = distr_weeknr.index.tolist()\n",
    "y = distr_weeknr.values\n",
    "\n",
    "# ax.bar(x, y, 0.1, color='r')\n",
    "# ax.set_ylabel('Booking Ratio')\n",
    "# ax.set_xlabel('Week Nr.')\n",
    "# ax.set_title('Bookings Seasonality')\n",
    "# plt.show()\n",
    "\n",
    "sns.set(rc={'figure.figsize':(7,5.5)})\n",
    "\n",
    "sns.set_style(\"ticks\")\n",
    "ax = sns.barplot(x, y, color='steelblue')\n",
    "sns.despine()\n",
    "ax.set_xlabel(\"Week nr\",fontsize=25)\n",
    "ax.set_ylabel(\"Booking ratio\",fontsize=25)\n",
    "ax.tick_params(labelsize=20)\n",
    "ax.set(xticks=[0, 9, 19, 29, 39, 49])\n",
    "plt.tight_layout()\n",
    "plt.savefig('Figures/seasonality.pdf')"
   ]
  },
  {
   "cell_type": "markdown",
   "metadata": {
    "pycharm": {
     "name": "#%% md\n"
    }
   },
   "source": [
    "### Date Features"
   ]
  },
  {
   "cell_type": "code",
   "execution_count": 53,
   "metadata": {
    "collapsed": false,
    "jupyter": {
     "outputs_hidden": false
    },
    "pycharm": {
     "name": "#%%\n"
    }
   },
   "outputs": [],
   "source": [
    "def mine_date_features(dt_series, prefix=''):\n",
    "        df = pd.DataFrame()\n",
    "        df['weekday'] = dt_series.dt.weekday\n",
    "        df['monthday'] = dt_series.dt.day\n",
    "        df['month'] = dt_series.dt.month\n",
    "        df['week'] = dt_series.dt.week\n",
    "        df['year'] = dt_series.dt.year\n",
    "    \n",
    "        df.columns = list(map(lambda s: prefix + s, df.columns.tolist()))\n",
    "        return df"
   ]
  },
  {
   "cell_type": "markdown",
   "metadata": {},
   "source": [
    "# Feature engineering:"
   ]
  },
  {
   "cell_type": "code",
   "execution_count": 54,
   "metadata": {
    "collapsed": false,
    "jupyter": {
     "outputs_hidden": false
    },
    "pycharm": {
     "name": "#%%\n"
    }
   },
   "outputs": [
    {
     "name": "stderr",
     "output_type": "stream",
     "text": [
      "C:\\Users\\Jaimie\\Anaconda3\\envs\\DMT\\lib\\site-packages\\ipykernel_launcher.py:6: FutureWarning: Series.dt.weekofyear and Series.dt.week have been deprecated.  Please use Series.dt.isocalendar().week instead.\n",
      "  \n"
     ]
    },
    {
     "data": {
      "text/html": [
       "<div>\n",
       "<style scoped>\n",
       "    .dataframe tbody tr th:only-of-type {\n",
       "        vertical-align: middle;\n",
       "    }\n",
       "\n",
       "    .dataframe tbody tr th {\n",
       "        vertical-align: top;\n",
       "    }\n",
       "\n",
       "    .dataframe thead th {\n",
       "        text-align: right;\n",
       "    }\n",
       "</style>\n",
       "<table border=\"1\" class=\"dataframe\">\n",
       "  <thead>\n",
       "    <tr style=\"text-align: right;\">\n",
       "      <th></th>\n",
       "      <th>srchdate_weekday</th>\n",
       "      <th>srchdate_monthday</th>\n",
       "      <th>srchdate_month</th>\n",
       "      <th>srchdate_week</th>\n",
       "      <th>srchdate_year</th>\n",
       "      <th>srchdate_hour</th>\n",
       "    </tr>\n",
       "  </thead>\n",
       "  <tbody>\n",
       "    <tr>\n",
       "      <th>0</th>\n",
       "      <td>3</td>\n",
       "      <td>4</td>\n",
       "      <td>4</td>\n",
       "      <td>14</td>\n",
       "      <td>2013</td>\n",
       "      <td>8</td>\n",
       "    </tr>\n",
       "    <tr>\n",
       "      <th>1</th>\n",
       "      <td>3</td>\n",
       "      <td>4</td>\n",
       "      <td>4</td>\n",
       "      <td>14</td>\n",
       "      <td>2013</td>\n",
       "      <td>8</td>\n",
       "    </tr>\n",
       "    <tr>\n",
       "      <th>2</th>\n",
       "      <td>3</td>\n",
       "      <td>4</td>\n",
       "      <td>4</td>\n",
       "      <td>14</td>\n",
       "      <td>2013</td>\n",
       "      <td>8</td>\n",
       "    </tr>\n",
       "    <tr>\n",
       "      <th>3</th>\n",
       "      <td>3</td>\n",
       "      <td>4</td>\n",
       "      <td>4</td>\n",
       "      <td>14</td>\n",
       "      <td>2013</td>\n",
       "      <td>8</td>\n",
       "    </tr>\n",
       "    <tr>\n",
       "      <th>4</th>\n",
       "      <td>3</td>\n",
       "      <td>4</td>\n",
       "      <td>4</td>\n",
       "      <td>14</td>\n",
       "      <td>2013</td>\n",
       "      <td>8</td>\n",
       "    </tr>\n",
       "    <tr>\n",
       "      <th>...</th>\n",
       "      <td>...</td>\n",
       "      <td>...</td>\n",
       "      <td>...</td>\n",
       "      <td>...</td>\n",
       "      <td>...</td>\n",
       "      <td>...</td>\n",
       "    </tr>\n",
       "    <tr>\n",
       "      <th>4958342</th>\n",
       "      <td>6</td>\n",
       "      <td>30</td>\n",
       "      <td>6</td>\n",
       "      <td>26</td>\n",
       "      <td>2013</td>\n",
       "      <td>19</td>\n",
       "    </tr>\n",
       "    <tr>\n",
       "      <th>4958343</th>\n",
       "      <td>6</td>\n",
       "      <td>30</td>\n",
       "      <td>6</td>\n",
       "      <td>26</td>\n",
       "      <td>2013</td>\n",
       "      <td>19</td>\n",
       "    </tr>\n",
       "    <tr>\n",
       "      <th>4958344</th>\n",
       "      <td>6</td>\n",
       "      <td>30</td>\n",
       "      <td>6</td>\n",
       "      <td>26</td>\n",
       "      <td>2013</td>\n",
       "      <td>19</td>\n",
       "    </tr>\n",
       "    <tr>\n",
       "      <th>4958345</th>\n",
       "      <td>6</td>\n",
       "      <td>30</td>\n",
       "      <td>6</td>\n",
       "      <td>26</td>\n",
       "      <td>2013</td>\n",
       "      <td>19</td>\n",
       "    </tr>\n",
       "    <tr>\n",
       "      <th>4958346</th>\n",
       "      <td>6</td>\n",
       "      <td>30</td>\n",
       "      <td>6</td>\n",
       "      <td>26</td>\n",
       "      <td>2013</td>\n",
       "      <td>19</td>\n",
       "    </tr>\n",
       "  </tbody>\n",
       "</table>\n",
       "<p>4958347 rows × 6 columns</p>\n",
       "</div>"
      ],
      "text/plain": [
       "         srchdate_weekday  srchdate_monthday  srchdate_month  srchdate_week  \\\n",
       "0                       3                  4               4             14   \n",
       "1                       3                  4               4             14   \n",
       "2                       3                  4               4             14   \n",
       "3                       3                  4               4             14   \n",
       "4                       3                  4               4             14   \n",
       "...                   ...                ...             ...            ...   \n",
       "4958342                 6                 30               6             26   \n",
       "4958343                 6                 30               6             26   \n",
       "4958344                 6                 30               6             26   \n",
       "4958345                 6                 30               6             26   \n",
       "4958346                 6                 30               6             26   \n",
       "\n",
       "         srchdate_year  srchdate_hour  \n",
       "0                 2013              8  \n",
       "1                 2013              8  \n",
       "2                 2013              8  \n",
       "3                 2013              8  \n",
       "4                 2013              8  \n",
       "...                ...            ...  \n",
       "4958342           2013             19  \n",
       "4958343           2013             19  \n",
       "4958344           2013             19  \n",
       "4958345           2013             19  \n",
       "4958346           2013             19  \n",
       "\n",
       "[4958347 rows x 6 columns]"
      ]
     },
     "metadata": {},
     "output_type": "display_data"
    },
    {
     "data": {
      "text/html": [
       "<div>\n",
       "<style scoped>\n",
       "    .dataframe tbody tr th:only-of-type {\n",
       "        vertical-align: middle;\n",
       "    }\n",
       "\n",
       "    .dataframe tbody tr th {\n",
       "        vertical-align: top;\n",
       "    }\n",
       "\n",
       "    .dataframe thead th {\n",
       "        text-align: right;\n",
       "    }\n",
       "</style>\n",
       "<table border=\"1\" class=\"dataframe\">\n",
       "  <thead>\n",
       "    <tr style=\"text-align: right;\">\n",
       "      <th></th>\n",
       "      <th>checkin_weekday</th>\n",
       "      <th>checkin_monthday</th>\n",
       "      <th>checkin_month</th>\n",
       "      <th>checkin_week</th>\n",
       "      <th>checkin_year</th>\n",
       "    </tr>\n",
       "  </thead>\n",
       "  <tbody>\n",
       "    <tr>\n",
       "      <th>0</th>\n",
       "      <td>3</td>\n",
       "      <td>4</td>\n",
       "      <td>4</td>\n",
       "      <td>14</td>\n",
       "      <td>2013</td>\n",
       "    </tr>\n",
       "    <tr>\n",
       "      <th>1</th>\n",
       "      <td>3</td>\n",
       "      <td>4</td>\n",
       "      <td>4</td>\n",
       "      <td>14</td>\n",
       "      <td>2013</td>\n",
       "    </tr>\n",
       "    <tr>\n",
       "      <th>2</th>\n",
       "      <td>3</td>\n",
       "      <td>4</td>\n",
       "      <td>4</td>\n",
       "      <td>14</td>\n",
       "      <td>2013</td>\n",
       "    </tr>\n",
       "    <tr>\n",
       "      <th>3</th>\n",
       "      <td>3</td>\n",
       "      <td>4</td>\n",
       "      <td>4</td>\n",
       "      <td>14</td>\n",
       "      <td>2013</td>\n",
       "    </tr>\n",
       "    <tr>\n",
       "      <th>4</th>\n",
       "      <td>3</td>\n",
       "      <td>4</td>\n",
       "      <td>4</td>\n",
       "      <td>14</td>\n",
       "      <td>2013</td>\n",
       "    </tr>\n",
       "    <tr>\n",
       "      <th>...</th>\n",
       "      <td>...</td>\n",
       "      <td>...</td>\n",
       "      <td>...</td>\n",
       "      <td>...</td>\n",
       "      <td>...</td>\n",
       "    </tr>\n",
       "    <tr>\n",
       "      <th>4958342</th>\n",
       "      <td>6</td>\n",
       "      <td>21</td>\n",
       "      <td>7</td>\n",
       "      <td>29</td>\n",
       "      <td>2013</td>\n",
       "    </tr>\n",
       "    <tr>\n",
       "      <th>4958343</th>\n",
       "      <td>6</td>\n",
       "      <td>21</td>\n",
       "      <td>7</td>\n",
       "      <td>29</td>\n",
       "      <td>2013</td>\n",
       "    </tr>\n",
       "    <tr>\n",
       "      <th>4958344</th>\n",
       "      <td>6</td>\n",
       "      <td>21</td>\n",
       "      <td>7</td>\n",
       "      <td>29</td>\n",
       "      <td>2013</td>\n",
       "    </tr>\n",
       "    <tr>\n",
       "      <th>4958345</th>\n",
       "      <td>6</td>\n",
       "      <td>21</td>\n",
       "      <td>7</td>\n",
       "      <td>29</td>\n",
       "      <td>2013</td>\n",
       "    </tr>\n",
       "    <tr>\n",
       "      <th>4958346</th>\n",
       "      <td>6</td>\n",
       "      <td>21</td>\n",
       "      <td>7</td>\n",
       "      <td>29</td>\n",
       "      <td>2013</td>\n",
       "    </tr>\n",
       "  </tbody>\n",
       "</table>\n",
       "<p>4958347 rows × 5 columns</p>\n",
       "</div>"
      ],
      "text/plain": [
       "         checkin_weekday  checkin_monthday  checkin_month  checkin_week  \\\n",
       "0                      3                 4              4            14   \n",
       "1                      3                 4              4            14   \n",
       "2                      3                 4              4            14   \n",
       "3                      3                 4              4            14   \n",
       "4                      3                 4              4            14   \n",
       "...                  ...               ...            ...           ...   \n",
       "4958342                6                21              7            29   \n",
       "4958343                6                21              7            29   \n",
       "4958344                6                21              7            29   \n",
       "4958345                6                21              7            29   \n",
       "4958346                6                21              7            29   \n",
       "\n",
       "         checkin_year  \n",
       "0                2013  \n",
       "1                2013  \n",
       "2                2013  \n",
       "3                2013  \n",
       "4                2013  \n",
       "...               ...  \n",
       "4958342          2013  \n",
       "4958343          2013  \n",
       "4958344          2013  \n",
       "4958345          2013  \n",
       "4958346          2013  \n",
       "\n",
       "[4958347 rows x 5 columns]"
      ]
     },
     "metadata": {},
     "output_type": "display_data"
    },
    {
     "data": {
      "text/html": [
       "<div>\n",
       "<style scoped>\n",
       "    .dataframe tbody tr th:only-of-type {\n",
       "        vertical-align: middle;\n",
       "    }\n",
       "\n",
       "    .dataframe tbody tr th {\n",
       "        vertical-align: top;\n",
       "    }\n",
       "\n",
       "    .dataframe thead th {\n",
       "        text-align: right;\n",
       "    }\n",
       "</style>\n",
       "<table border=\"1\" class=\"dataframe\">\n",
       "  <thead>\n",
       "    <tr style=\"text-align: right;\">\n",
       "      <th></th>\n",
       "      <th>checkout_weekday</th>\n",
       "      <th>checkout_monthday</th>\n",
       "      <th>checkout_month</th>\n",
       "      <th>checkout_week</th>\n",
       "      <th>checkout_year</th>\n",
       "    </tr>\n",
       "  </thead>\n",
       "  <tbody>\n",
       "    <tr>\n",
       "      <th>0</th>\n",
       "      <td>4</td>\n",
       "      <td>5</td>\n",
       "      <td>4</td>\n",
       "      <td>14</td>\n",
       "      <td>2013</td>\n",
       "    </tr>\n",
       "    <tr>\n",
       "      <th>1</th>\n",
       "      <td>4</td>\n",
       "      <td>5</td>\n",
       "      <td>4</td>\n",
       "      <td>14</td>\n",
       "      <td>2013</td>\n",
       "    </tr>\n",
       "    <tr>\n",
       "      <th>2</th>\n",
       "      <td>4</td>\n",
       "      <td>5</td>\n",
       "      <td>4</td>\n",
       "      <td>14</td>\n",
       "      <td>2013</td>\n",
       "    </tr>\n",
       "    <tr>\n",
       "      <th>3</th>\n",
       "      <td>4</td>\n",
       "      <td>5</td>\n",
       "      <td>4</td>\n",
       "      <td>14</td>\n",
       "      <td>2013</td>\n",
       "    </tr>\n",
       "    <tr>\n",
       "      <th>4</th>\n",
       "      <td>4</td>\n",
       "      <td>5</td>\n",
       "      <td>4</td>\n",
       "      <td>14</td>\n",
       "      <td>2013</td>\n",
       "    </tr>\n",
       "    <tr>\n",
       "      <th>...</th>\n",
       "      <td>...</td>\n",
       "      <td>...</td>\n",
       "      <td>...</td>\n",
       "      <td>...</td>\n",
       "      <td>...</td>\n",
       "    </tr>\n",
       "    <tr>\n",
       "      <th>4958342</th>\n",
       "      <td>0</td>\n",
       "      <td>22</td>\n",
       "      <td>7</td>\n",
       "      <td>30</td>\n",
       "      <td>2013</td>\n",
       "    </tr>\n",
       "    <tr>\n",
       "      <th>4958343</th>\n",
       "      <td>0</td>\n",
       "      <td>22</td>\n",
       "      <td>7</td>\n",
       "      <td>30</td>\n",
       "      <td>2013</td>\n",
       "    </tr>\n",
       "    <tr>\n",
       "      <th>4958344</th>\n",
       "      <td>0</td>\n",
       "      <td>22</td>\n",
       "      <td>7</td>\n",
       "      <td>30</td>\n",
       "      <td>2013</td>\n",
       "    </tr>\n",
       "    <tr>\n",
       "      <th>4958345</th>\n",
       "      <td>0</td>\n",
       "      <td>22</td>\n",
       "      <td>7</td>\n",
       "      <td>30</td>\n",
       "      <td>2013</td>\n",
       "    </tr>\n",
       "    <tr>\n",
       "      <th>4958346</th>\n",
       "      <td>0</td>\n",
       "      <td>22</td>\n",
       "      <td>7</td>\n",
       "      <td>30</td>\n",
       "      <td>2013</td>\n",
       "    </tr>\n",
       "  </tbody>\n",
       "</table>\n",
       "<p>4958347 rows × 5 columns</p>\n",
       "</div>"
      ],
      "text/plain": [
       "         checkout_weekday  checkout_monthday  checkout_month  checkout_week  \\\n",
       "0                       4                  5               4             14   \n",
       "1                       4                  5               4             14   \n",
       "2                       4                  5               4             14   \n",
       "3                       4                  5               4             14   \n",
       "4                       4                  5               4             14   \n",
       "...                   ...                ...             ...            ...   \n",
       "4958342                 0                 22               7             30   \n",
       "4958343                 0                 22               7             30   \n",
       "4958344                 0                 22               7             30   \n",
       "4958345                 0                 22               7             30   \n",
       "4958346                 0                 22               7             30   \n",
       "\n",
       "         checkout_year  \n",
       "0                 2013  \n",
       "1                 2013  \n",
       "2                 2013  \n",
       "3                 2013  \n",
       "4                 2013  \n",
       "...                ...  \n",
       "4958342           2013  \n",
       "4958343           2013  \n",
       "4958344           2013  \n",
       "4958345           2013  \n",
       "4958346           2013  \n",
       "\n",
       "[4958347 rows x 5 columns]"
      ]
     },
     "metadata": {},
     "output_type": "display_data"
    }
   ],
   "source": [
    "df_stage3['checkout_date'] = df_stage3['checkin_date'] + pd.to_timedelta(df_stage3['srch_length_of_stay'], unit='D')\n",
    "\n",
    "df_srchdate_features = mine_date_features(df_stage3['date_time'], prefix='srchdate_')\n",
    "df_srchdate_features['srchdate_hour'] = df_stage3['date_time'].dt.hour\n",
    "\n",
    "df_checkin_features = mine_date_features(df_stage3['checkin_date'], prefix='checkin_')\n",
    "df_checkout_features = mine_date_features(df_stage3['checkout_date'], prefix='checkout_')\n",
    "\n",
    "df_stage4 = pd.concat([df_stage3, df_srchdate_features, df_checkin_features, df_checkout_features], axis=1)\n",
    "display(df_srchdate_features)\n",
    "display(df_checkin_features)\n",
    "display(df_checkout_features)"
   ]
  },
  {
   "cell_type": "markdown",
   "metadata": {
    "pycharm": {
     "name": "#%% md\n"
    }
   },
   "source": [
    "### Check search hour"
   ]
  },
  {
   "cell_type": "code",
   "execution_count": 55,
   "metadata": {
    "collapsed": false,
    "jupyter": {
     "outputs_hidden": false
    },
    "pycharm": {
     "name": "#%%\n"
    }
   },
   "outputs": [
    {
     "name": "stdout",
     "output_type": "stream",
     "text": [
      "Index(['srch_id', 'date_time', 'site_id', 'visitor_location_country_id',\n",
      "       'prop_country_id', 'prop_id', 'prop_starrating', 'prop_review_score',\n",
      "       'prop_brand_bool', 'prop_location_score1', 'prop_location_score2',\n",
      "       'prop_log_historical_price', 'price_usd', 'promotion_flag',\n",
      "       'srch_destination_id', 'srch_length_of_stay', 'srch_booking_window',\n",
      "       'srch_adults_count', 'srch_children_count', 'srch_room_count',\n",
      "       'srch_saturday_night_bool', 'orig_destination_distance', 'random_bool',\n",
      "       'click_bool', 'booking_bool', 'checkin_date', 'checkin_weeknr',\n",
      "       'checkout_date', 'srchdate_weekday', 'srchdate_monthday',\n",
      "       'srchdate_month', 'srchdate_week', 'srchdate_year', 'srchdate_hour',\n",
      "       'checkin_weekday', 'checkin_monthday', 'checkin_month', 'checkin_week',\n",
      "       'checkin_year', 'checkout_weekday', 'checkout_monthday',\n",
      "       'checkout_month', 'checkout_week', 'checkout_year'],\n",
      "      dtype='object')\n"
     ]
    }
   ],
   "source": [
    "print(df_stage4.columns)\n",
    "from_usa_mask = df_stage4['visitor_location_country_id'] == 219\n",
    "usa_searches = df_stage4[from_usa_mask]\n",
    "other_searches = df_stage4[~from_usa_mask]"
   ]
  },
  {
   "cell_type": "code",
   "execution_count": 56,
   "metadata": {},
   "outputs": [
    {
     "name": "stderr",
     "output_type": "stream",
     "text": [
      "C:\\Users\\Jaimie\\Anaconda3\\envs\\DMT\\lib\\site-packages\\seaborn\\_decorators.py:43: FutureWarning: Pass the following variables as keyword args: x, y. From version 0.12, the only valid positional argument will be `data`, and passing other arguments without an explicit keyword will result in an error or misinterpretation.\n",
      "  FutureWarning\n"
     ]
    },
    {
     "data": {
      "image/png": "[encoded data removed]",
      "text/plain": [
       "<Figure size 504x396 with 1 Axes>"
      ]
     },
     "metadata": {},
     "output_type": "display_data"
    }
   ],
   "source": [
    "# All countries\n",
    "df_stage4_srch_distribution = df_stage4.groupby('srchdate_hour')['srch_id'].nunique() / df_stage4['srch_id'].nunique()\n",
    "x = df_stage4_srch_distribution.index.tolist()\n",
    "y = df_stage4_srch_distribution.values\n",
    "\n",
    "sns.set(rc={'figure.figsize':(7,5.5)})\n",
    "\n",
    "sns.set_style(\"ticks\")\n",
    "ax = sns.barplot(x, y, color='steelblue')\n",
    "sns.despine()\n",
    "ax.set_xlabel(\"Hour of day\",fontsize=25)\n",
    "ax.set_ylabel(\"Search ratio\",fontsize=25)\n",
    "ax.tick_params(labelsize=20)\n",
    "ax.set(xticks=[0, 5, 10, 15, 20])\n",
    "plt.tight_layout()\n",
    "plt.savefig('Figures/hourofday.pdf')\n"
   ]
  },
  {
   "cell_type": "code",
   "execution_count": 57,
   "metadata": {
    "collapsed": false,
    "jupyter": {
     "outputs_hidden": false
    },
    "pycharm": {
     "name": "#%%\n"
    }
   },
   "outputs": [
    {
     "data": {
      "image/png": "[encoded data removed]",
      "text/plain": [
       "<Figure size 504x396 with 1 Axes>"
      ]
     },
     "metadata": {},
     "output_type": "display_data"
    }
   ],
   "source": [
    "# USA\n",
    "usa_srchhours = usa_searches.groupby('srchdate_hour')['srch_id'].nunique()\n",
    "usa_srch_distribution = usa_srchhours / usa_searches['srch_id'].nunique()\n",
    "\n",
    "import matplotlib.pyplot as plt\n",
    "fig = plt.figure()\n",
    "ax = fig.add_axes([0,0,1,1])\n",
    "x = usa_srch_distribution.index.tolist()\n",
    "y = usa_srch_distribution.values\n",
    "\n",
    "ax.bar(x, y, 0.1, color='r')\n",
    "ax.set_ylabel('Search Ratio')\n",
    "ax.set_xlabel('Hour of Day')\n",
    "ax.set_title('Search Frequency Intraday (USA)')\n",
    "plt.show()"
   ]
  },
  {
   "cell_type": "code",
   "execution_count": 58,
   "metadata": {
    "collapsed": false,
    "jupyter": {
     "outputs_hidden": false
    },
    "pycharm": {
     "name": "#%%\n"
    }
   },
   "outputs": [
    {
     "data": {
      "image/png": "[encoded data removed]",
      "text/plain": [
       "<Figure size 504x396 with 1 Axes>"
      ]
     },
     "metadata": {},
     "output_type": "display_data"
    }
   ],
   "source": [
    "# Other origin countries\n",
    "other_srchhours = other_searches.groupby('srchdate_hour')['srch_id'].nunique()\n",
    "other_srch_distribution = other_srchhours / other_searches['srch_id'].nunique()\n",
    "\n",
    "\n",
    "import matplotlib.pyplot as plt\n",
    "fig = plt.figure()\n",
    "ax = fig.add_axes([0,0,1,1])\n",
    "x = other_srch_distribution.index.tolist()\n",
    "y = other_srch_distribution.values\n",
    "\n",
    "ax.bar(x, y, 0.1, color='r')\n",
    "ax.set_ylabel('Search Ratio')\n",
    "ax.set_xlabel('Hour of Day')\n",
    "ax.set_title('Search Frequency Intraday (Others)')\n",
    "plt.show()\n",
    "\n",
    "# TODO: compare"
   ]
  },
  {
   "cell_type": "markdown",
   "metadata": {
    "pycharm": {
     "name": "#%% md\n"
    }
   },
   "source": [
    "#### Time could be in local timezone but the distributions should be equal in that case\n",
    "#### USA not suitable for comparison due to different time zones between East/West coast\n",
    "#### ML model could derive relation hour of day and the origin country\n",
    "#### Time zone could use indebt analysis"
   ]
  },
  {
   "cell_type": "markdown",
   "metadata": {
    "pycharm": {
     "name": "#%% md\n"
    }
   },
   "source": [
    "### Count # of weekdays contained in booking_window (i.e. Sun: 1, Sat: 1, mon: 1, tue: 0, wed: 0 ...)"
   ]
  },
  {
   "cell_type": "code",
   "execution_count": 59,
   "metadata": {
    "collapsed": false,
    "jupyter": {
     "outputs_hidden": false
    },
    "pycharm": {
     "name": "#%%\n"
    }
   },
   "outputs": [],
   "source": [
    "import calendar\n",
    "def dayofweek_count(dt_start, dt_end):\n",
    "    dt_range = pd.date_range(dt_start, dt_end, freq='d')\n",
    "\n",
    "    cnt = {day: 0 for day in calendar.day_name}\n",
    "    for date in dt_range:\n",
    "        cnt[date.day_name()] += 1\n",
    "    return pd.Series(cnt)"
   ]
  },
  {
   "cell_type": "code",
   "execution_count": 60,
   "metadata": {
    "collapsed": false,
    "jupyter": {
     "outputs_hidden": false
    },
    "pycharm": {
     "name": "#%%\n"
    }
   },
   "outputs": [
    {
     "data": {
      "text/html": [
       "<div>\n",
       "<style scoped>\n",
       "    .dataframe tbody tr th:only-of-type {\n",
       "        vertical-align: middle;\n",
       "    }\n",
       "\n",
       "    .dataframe tbody tr th {\n",
       "        vertical-align: top;\n",
       "    }\n",
       "\n",
       "    .dataframe thead th {\n",
       "        text-align: right;\n",
       "    }\n",
       "</style>\n",
       "<table border=\"1\" class=\"dataframe\">\n",
       "  <thead>\n",
       "    <tr style=\"text-align: right;\">\n",
       "      <th></th>\n",
       "      <th>checkin_date</th>\n",
       "      <th>checkout_date</th>\n",
       "    </tr>\n",
       "    <tr>\n",
       "      <th>srch_id</th>\n",
       "      <th></th>\n",
       "      <th></th>\n",
       "    </tr>\n",
       "  </thead>\n",
       "  <tbody>\n",
       "    <tr>\n",
       "      <th>1</th>\n",
       "      <td>2013-04-04 08:32:15</td>\n",
       "      <td>2013-04-05 08:32:15</td>\n",
       "    </tr>\n",
       "    <tr>\n",
       "      <th>4</th>\n",
       "      <td>2013-02-15 08:59:22</td>\n",
       "      <td>2013-02-17 08:59:22</td>\n",
       "    </tr>\n",
       "    <tr>\n",
       "      <th>6</th>\n",
       "      <td>2013-06-10 12:27:51</td>\n",
       "      <td>2013-06-11 12:27:51</td>\n",
       "    </tr>\n",
       "    <tr>\n",
       "      <th>8</th>\n",
       "      <td>2013-03-20 17:50:44</td>\n",
       "      <td>2013-03-21 17:50:44</td>\n",
       "    </tr>\n",
       "    <tr>\n",
       "      <th>11</th>\n",
       "      <td>2013-04-05 08:39:33</td>\n",
       "      <td>2013-04-06 08:39:33</td>\n",
       "    </tr>\n",
       "    <tr>\n",
       "      <th>...</th>\n",
       "      <td>...</td>\n",
       "      <td>...</td>\n",
       "    </tr>\n",
       "    <tr>\n",
       "      <th>332777</th>\n",
       "      <td>2013-06-02 10:40:02</td>\n",
       "      <td>2013-06-07 10:40:02</td>\n",
       "    </tr>\n",
       "    <tr>\n",
       "      <th>332781</th>\n",
       "      <td>2013-03-08 15:12:59</td>\n",
       "      <td>2013-03-10 15:12:59</td>\n",
       "    </tr>\n",
       "    <tr>\n",
       "      <th>332782</th>\n",
       "      <td>2012-11-10 18:24:21</td>\n",
       "      <td>2012-11-12 18:24:21</td>\n",
       "    </tr>\n",
       "    <tr>\n",
       "      <th>332784</th>\n",
       "      <td>2013-06-24 14:35:24</td>\n",
       "      <td>2013-06-26 14:35:24</td>\n",
       "    </tr>\n",
       "    <tr>\n",
       "      <th>332785</th>\n",
       "      <td>2013-07-21 19:55:18</td>\n",
       "      <td>2013-07-22 19:55:18</td>\n",
       "    </tr>\n",
       "  </tbody>\n",
       "</table>\n",
       "<p>199795 rows × 2 columns</p>\n",
       "</div>"
      ],
      "text/plain": [
       "               checkin_date       checkout_date\n",
       "srch_id                                        \n",
       "1       2013-04-04 08:32:15 2013-04-05 08:32:15\n",
       "4       2013-02-15 08:59:22 2013-02-17 08:59:22\n",
       "6       2013-06-10 12:27:51 2013-06-11 12:27:51\n",
       "8       2013-03-20 17:50:44 2013-03-21 17:50:44\n",
       "11      2013-04-05 08:39:33 2013-04-06 08:39:33\n",
       "...                     ...                 ...\n",
       "332777  2013-06-02 10:40:02 2013-06-07 10:40:02\n",
       "332781  2013-03-08 15:12:59 2013-03-10 15:12:59\n",
       "332782  2012-11-10 18:24:21 2012-11-12 18:24:21\n",
       "332784  2013-06-24 14:35:24 2013-06-26 14:35:24\n",
       "332785  2013-07-21 19:55:18 2013-07-22 19:55:18\n",
       "\n",
       "[199795 rows x 2 columns]"
      ]
     },
     "metadata": {},
     "output_type": "display_data"
    }
   ],
   "source": [
    "srch_grouped = df_stage4.groupby('srch_id').first()\n",
    "srch_window = pd.DataFrame(srch_grouped[['checkin_date', 'checkout_date']])\n",
    "display(srch_window)"
   ]
  },
  {
   "cell_type": "code",
   "execution_count": 61,
   "metadata": {
    "collapsed": false,
    "jupyter": {
     "outputs_hidden": false
    },
    "pycharm": {
     "name": "#%%\n"
    }
   },
   "outputs": [
    {
     "data": {
      "text/html": [
       "<div>\n",
       "<style scoped>\n",
       "    .dataframe tbody tr th:only-of-type {\n",
       "        vertical-align: middle;\n",
       "    }\n",
       "\n",
       "    .dataframe tbody tr th {\n",
       "        vertical-align: top;\n",
       "    }\n",
       "\n",
       "    .dataframe thead th {\n",
       "        text-align: right;\n",
       "    }\n",
       "</style>\n",
       "<table border=\"1\" class=\"dataframe\">\n",
       "  <thead>\n",
       "    <tr style=\"text-align: right;\">\n",
       "      <th></th>\n",
       "      <th>Monday</th>\n",
       "      <th>Tuesday</th>\n",
       "      <th>Wednesday</th>\n",
       "      <th>Thursday</th>\n",
       "      <th>Friday</th>\n",
       "      <th>Saturday</th>\n",
       "      <th>Sunday</th>\n",
       "    </tr>\n",
       "    <tr>\n",
       "      <th>srch_id</th>\n",
       "      <th></th>\n",
       "      <th></th>\n",
       "      <th></th>\n",
       "      <th></th>\n",
       "      <th></th>\n",
       "      <th></th>\n",
       "      <th></th>\n",
       "    </tr>\n",
       "  </thead>\n",
       "  <tbody>\n",
       "    <tr>\n",
       "      <th>1</th>\n",
       "      <td>0</td>\n",
       "      <td>0</td>\n",
       "      <td>0</td>\n",
       "      <td>1</td>\n",
       "      <td>1</td>\n",
       "      <td>0</td>\n",
       "      <td>0</td>\n",
       "    </tr>\n",
       "    <tr>\n",
       "      <th>4</th>\n",
       "      <td>0</td>\n",
       "      <td>0</td>\n",
       "      <td>0</td>\n",
       "      <td>0</td>\n",
       "      <td>1</td>\n",
       "      <td>1</td>\n",
       "      <td>1</td>\n",
       "    </tr>\n",
       "    <tr>\n",
       "      <th>6</th>\n",
       "      <td>1</td>\n",
       "      <td>1</td>\n",
       "      <td>0</td>\n",
       "      <td>0</td>\n",
       "      <td>0</td>\n",
       "      <td>0</td>\n",
       "      <td>0</td>\n",
       "    </tr>\n",
       "    <tr>\n",
       "      <th>8</th>\n",
       "      <td>0</td>\n",
       "      <td>0</td>\n",
       "      <td>1</td>\n",
       "      <td>1</td>\n",
       "      <td>0</td>\n",
       "      <td>0</td>\n",
       "      <td>0</td>\n",
       "    </tr>\n",
       "    <tr>\n",
       "      <th>11</th>\n",
       "      <td>0</td>\n",
       "      <td>0</td>\n",
       "      <td>0</td>\n",
       "      <td>0</td>\n",
       "      <td>1</td>\n",
       "      <td>1</td>\n",
       "      <td>0</td>\n",
       "    </tr>\n",
       "    <tr>\n",
       "      <th>...</th>\n",
       "      <td>...</td>\n",
       "      <td>...</td>\n",
       "      <td>...</td>\n",
       "      <td>...</td>\n",
       "      <td>...</td>\n",
       "      <td>...</td>\n",
       "      <td>...</td>\n",
       "    </tr>\n",
       "    <tr>\n",
       "      <th>332777</th>\n",
       "      <td>1</td>\n",
       "      <td>1</td>\n",
       "      <td>1</td>\n",
       "      <td>1</td>\n",
       "      <td>1</td>\n",
       "      <td>0</td>\n",
       "      <td>1</td>\n",
       "    </tr>\n",
       "    <tr>\n",
       "      <th>332781</th>\n",
       "      <td>0</td>\n",
       "      <td>0</td>\n",
       "      <td>0</td>\n",
       "      <td>0</td>\n",
       "      <td>1</td>\n",
       "      <td>1</td>\n",
       "      <td>1</td>\n",
       "    </tr>\n",
       "    <tr>\n",
       "      <th>332782</th>\n",
       "      <td>1</td>\n",
       "      <td>0</td>\n",
       "      <td>0</td>\n",
       "      <td>0</td>\n",
       "      <td>0</td>\n",
       "      <td>1</td>\n",
       "      <td>1</td>\n",
       "    </tr>\n",
       "    <tr>\n",
       "      <th>332784</th>\n",
       "      <td>1</td>\n",
       "      <td>1</td>\n",
       "      <td>1</td>\n",
       "      <td>0</td>\n",
       "      <td>0</td>\n",
       "      <td>0</td>\n",
       "      <td>0</td>\n",
       "    </tr>\n",
       "    <tr>\n",
       "      <th>332785</th>\n",
       "      <td>1</td>\n",
       "      <td>0</td>\n",
       "      <td>0</td>\n",
       "      <td>0</td>\n",
       "      <td>0</td>\n",
       "      <td>0</td>\n",
       "      <td>1</td>\n",
       "    </tr>\n",
       "  </tbody>\n",
       "</table>\n",
       "<p>199795 rows × 7 columns</p>\n",
       "</div>"
      ],
      "text/plain": [
       "         Monday  Tuesday  Wednesday  Thursday  Friday  Saturday  Sunday\n",
       "srch_id                                                                \n",
       "1             0        0          0         1       1         0       0\n",
       "4             0        0          0         0       1         1       1\n",
       "6             1        1          0         0       0         0       0\n",
       "8             0        0          1         1       0         0       0\n",
       "11            0        0          0         0       1         1       0\n",
       "...         ...      ...        ...       ...     ...       ...     ...\n",
       "332777        1        1          1         1       1         0       1\n",
       "332781        0        0          0         0       1         1       1\n",
       "332782        1        0          0         0       0         1       1\n",
       "332784        1        1          1         0       0         0       0\n",
       "332785        1        0          0         0       0         0       1\n",
       "\n",
       "[199795 rows x 7 columns]"
      ]
     },
     "metadata": {},
     "output_type": "display_data"
    }
   ],
   "source": [
    "srch_daycounts = srch_window.apply(lambda df: dayofweek_count(df['checkin_date'], df['checkout_date']), axis=1)\n",
    "\n",
    "display(srch_daycounts)"
   ]
  },
  {
   "cell_type": "code",
   "execution_count": 62,
   "metadata": {
    "collapsed": false,
    "jupyter": {
     "outputs_hidden": false
    },
    "pycharm": {
     "name": "#%%\n"
    }
   },
   "outputs": [
    {
     "data": {
      "text/html": [
       "<div>\n",
       "<style scoped>\n",
       "    .dataframe tbody tr th:only-of-type {\n",
       "        vertical-align: middle;\n",
       "    }\n",
       "\n",
       "    .dataframe tbody tr th {\n",
       "        vertical-align: top;\n",
       "    }\n",
       "\n",
       "    .dataframe thead th {\n",
       "        text-align: right;\n",
       "    }\n",
       "</style>\n",
       "<table border=\"1\" class=\"dataframe\">\n",
       "  <thead>\n",
       "    <tr style=\"text-align: right;\">\n",
       "      <th></th>\n",
       "      <th>srch_id</th>\n",
       "      <th>date_time</th>\n",
       "      <th>site_id</th>\n",
       "      <th>visitor_location_country_id</th>\n",
       "      <th>prop_country_id</th>\n",
       "      <th>prop_id</th>\n",
       "      <th>prop_starrating</th>\n",
       "      <th>prop_review_score</th>\n",
       "      <th>prop_brand_bool</th>\n",
       "      <th>prop_location_score1</th>\n",
       "      <th>...</th>\n",
       "      <th>checkout_month</th>\n",
       "      <th>checkout_week</th>\n",
       "      <th>checkout_year</th>\n",
       "      <th>Monday</th>\n",
       "      <th>Tuesday</th>\n",
       "      <th>Wednesday</th>\n",
       "      <th>Thursday</th>\n",
       "      <th>Friday</th>\n",
       "      <th>Saturday</th>\n",
       "      <th>Sunday</th>\n",
       "    </tr>\n",
       "  </thead>\n",
       "  <tbody>\n",
       "    <tr>\n",
       "      <th>0</th>\n",
       "      <td>1</td>\n",
       "      <td>2013-04-04 08:32:15</td>\n",
       "      <td>12</td>\n",
       "      <td>187</td>\n",
       "      <td>219</td>\n",
       "      <td>893</td>\n",
       "      <td>3</td>\n",
       "      <td>3.5</td>\n",
       "      <td>1</td>\n",
       "      <td>2.83</td>\n",
       "      <td>...</td>\n",
       "      <td>4</td>\n",
       "      <td>14</td>\n",
       "      <td>2013</td>\n",
       "      <td>0</td>\n",
       "      <td>0</td>\n",
       "      <td>0</td>\n",
       "      <td>1</td>\n",
       "      <td>1</td>\n",
       "      <td>0</td>\n",
       "      <td>0</td>\n",
       "    </tr>\n",
       "    <tr>\n",
       "      <th>1</th>\n",
       "      <td>1</td>\n",
       "      <td>2013-04-04 08:32:15</td>\n",
       "      <td>12</td>\n",
       "      <td>187</td>\n",
       "      <td>219</td>\n",
       "      <td>10404</td>\n",
       "      <td>4</td>\n",
       "      <td>4.0</td>\n",
       "      <td>1</td>\n",
       "      <td>2.20</td>\n",
       "      <td>...</td>\n",
       "      <td>4</td>\n",
       "      <td>14</td>\n",
       "      <td>2013</td>\n",
       "      <td>0</td>\n",
       "      <td>0</td>\n",
       "      <td>0</td>\n",
       "      <td>1</td>\n",
       "      <td>1</td>\n",
       "      <td>0</td>\n",
       "      <td>0</td>\n",
       "    </tr>\n",
       "    <tr>\n",
       "      <th>2</th>\n",
       "      <td>1</td>\n",
       "      <td>2013-04-04 08:32:15</td>\n",
       "      <td>12</td>\n",
       "      <td>187</td>\n",
       "      <td>219</td>\n",
       "      <td>21315</td>\n",
       "      <td>3</td>\n",
       "      <td>4.5</td>\n",
       "      <td>1</td>\n",
       "      <td>2.20</td>\n",
       "      <td>...</td>\n",
       "      <td>4</td>\n",
       "      <td>14</td>\n",
       "      <td>2013</td>\n",
       "      <td>0</td>\n",
       "      <td>0</td>\n",
       "      <td>0</td>\n",
       "      <td>1</td>\n",
       "      <td>1</td>\n",
       "      <td>0</td>\n",
       "      <td>0</td>\n",
       "    </tr>\n",
       "    <tr>\n",
       "      <th>3</th>\n",
       "      <td>1</td>\n",
       "      <td>2013-04-04 08:32:15</td>\n",
       "      <td>12</td>\n",
       "      <td>187</td>\n",
       "      <td>219</td>\n",
       "      <td>27348</td>\n",
       "      <td>2</td>\n",
       "      <td>4.0</td>\n",
       "      <td>1</td>\n",
       "      <td>2.83</td>\n",
       "      <td>...</td>\n",
       "      <td>4</td>\n",
       "      <td>14</td>\n",
       "      <td>2013</td>\n",
       "      <td>0</td>\n",
       "      <td>0</td>\n",
       "      <td>0</td>\n",
       "      <td>1</td>\n",
       "      <td>1</td>\n",
       "      <td>0</td>\n",
       "      <td>0</td>\n",
       "    </tr>\n",
       "    <tr>\n",
       "      <th>4</th>\n",
       "      <td>1</td>\n",
       "      <td>2013-04-04 08:32:15</td>\n",
       "      <td>12</td>\n",
       "      <td>187</td>\n",
       "      <td>219</td>\n",
       "      <td>29604</td>\n",
       "      <td>4</td>\n",
       "      <td>3.5</td>\n",
       "      <td>1</td>\n",
       "      <td>2.64</td>\n",
       "      <td>...</td>\n",
       "      <td>4</td>\n",
       "      <td>14</td>\n",
       "      <td>2013</td>\n",
       "      <td>0</td>\n",
       "      <td>0</td>\n",
       "      <td>0</td>\n",
       "      <td>1</td>\n",
       "      <td>1</td>\n",
       "      <td>0</td>\n",
       "      <td>0</td>\n",
       "    </tr>\n",
       "  </tbody>\n",
       "</table>\n",
       "<p>5 rows × 51 columns</p>\n",
       "</div>"
      ],
      "text/plain": [
       "   srch_id           date_time  site_id  visitor_location_country_id  \\\n",
       "0        1 2013-04-04 08:32:15       12                          187   \n",
       "1        1 2013-04-04 08:32:15       12                          187   \n",
       "2        1 2013-04-04 08:32:15       12                          187   \n",
       "3        1 2013-04-04 08:32:15       12                          187   \n",
       "4        1 2013-04-04 08:32:15       12                          187   \n",
       "\n",
       "   prop_country_id  prop_id  prop_starrating  prop_review_score  \\\n",
       "0              219      893                3                3.5   \n",
       "1              219    10404                4                4.0   \n",
       "2              219    21315                3                4.5   \n",
       "3              219    27348                2                4.0   \n",
       "4              219    29604                4                3.5   \n",
       "\n",
       "   prop_brand_bool  prop_location_score1  ...  checkout_month  checkout_week  \\\n",
       "0                1                  2.83  ...               4             14   \n",
       "1                1                  2.20  ...               4             14   \n",
       "2                1                  2.20  ...               4             14   \n",
       "3                1                  2.83  ...               4             14   \n",
       "4                1                  2.64  ...               4             14   \n",
       "\n",
       "   checkout_year  Monday  Tuesday  Wednesday  Thursday  Friday  Saturday  \\\n",
       "0           2013       0        0          0         1       1         0   \n",
       "1           2013       0        0          0         1       1         0   \n",
       "2           2013       0        0          0         1       1         0   \n",
       "3           2013       0        0          0         1       1         0   \n",
       "4           2013       0        0          0         1       1         0   \n",
       "\n",
       "   Sunday  \n",
       "0       0  \n",
       "1       0  \n",
       "2       0  \n",
       "3       0  \n",
       "4       0  \n",
       "\n",
       "[5 rows x 51 columns]"
      ]
     },
     "metadata": {},
     "output_type": "display_data"
    }
   ],
   "source": [
    "df_stage5 = pd.merge(df_stage4, srch_daycounts, on='srch_id', how='left')\n",
    "display(df_stage5.head())"
   ]
  },
  {
   "cell_type": "code",
   "execution_count": 63,
   "metadata": {
    "collapsed": false,
    "jupyter": {
     "outputs_hidden": false
    },
    "pycharm": {
     "name": "#%%\n"
    }
   },
   "outputs": [
    {
     "name": "stdout",
     "output_type": "stream",
     "text": [
      "(4958347, 44)\n",
      "(4958347, 51)\n",
      "Monday       0.0\n",
      "Tuesday      0.0\n",
      "Wednesday    0.0\n",
      "Thursday     0.0\n",
      "Friday       0.0\n",
      "Saturday     0.0\n",
      "Sunday       0.0\n",
      "dtype: float64\n"
     ]
    }
   ],
   "source": [
    "# Check if join is correct\n",
    "print(df_stage4.shape)\n",
    "print(df_stage5.shape)\n",
    "missings = df_stage5[list(calendar.day_name)].isnull().sum() / df_stage5.shape[0]\n",
    "print(missings)\n"
   ]
  },
  {
   "cell_type": "markdown",
   "metadata": {
    "pycharm": {
     "name": "#%% md\n"
    }
   },
   "source": [
    "### Holiday Features (if contained in booking window)"
   ]
  },
  {
   "cell_type": "code",
   "execution_count": 64,
   "metadata": {
    "collapsed": false,
    "jupyter": {
     "outputs_hidden": false
    },
    "pycharm": {
     "name": "#%%\n"
    }
   },
   "outputs": [],
   "source": [
    "import holidays\n",
    "holidays = holidays.UnitedStates(years=[2012, 2013, 2014, 2015, 2016])  # easter is missing but fuck that"
   ]
  },
  {
   "cell_type": "code",
   "execution_count": 65,
   "metadata": {
    "collapsed": false,
    "jupyter": {
     "outputs_hidden": false
    },
    "pycharm": {
     "name": "#%%\n"
    }
   },
   "outputs": [],
   "source": [
    "from collections import defaultdict\n",
    "def booking_contains_holidays(dt_start, dt_end, holidays):\n",
    "    dt_range = [dt.date() for dt in pd.date_range(dt_start, dt_end, freq='D')]\n",
    "\n",
    "    contained = defaultdict(int)\n",
    "    for dt_holiday, name_holiday in holidays.items():\n",
    "        if contained[name_holiday]: # prevents override of holiday from another year\n",
    "            continue\n",
    "        contained[name_holiday] = int(dt_holiday in dt_range)\n",
    "\n",
    "    return pd.Series(contained)"
   ]
  },
  {
   "cell_type": "code",
   "execution_count": 66,
   "metadata": {
    "collapsed": false,
    "jupyter": {
     "outputs_hidden": false
    },
    "pycharm": {
     "name": "#%%\n"
    }
   },
   "outputs": [],
   "source": [
    "srch_holidays = srch_window.apply(lambda df: booking_contains_holidays(df['checkin_date'], df['checkout_date'], holidays), axis=1)"
   ]
  },
  {
   "cell_type": "code",
   "execution_count": 67,
   "metadata": {
    "collapsed": false,
    "jupyter": {
     "outputs_hidden": false
    },
    "pycharm": {
     "name": "#%%\n"
    }
   },
   "outputs": [
    {
     "name": "stdout",
     "output_type": "stream",
     "text": [
      "New Year's Day                 3133\n",
      "Martin Luther King Jr. Day     1625\n",
      "Washington's Birthday          2165\n",
      "Memorial Day                   3244\n",
      "Independence Day               3501\n",
      "Labor Day                       817\n",
      "Columbus Day                    337\n",
      "Veterans Day                   1184\n",
      "Thanksgiving                   1449\n",
      "Christmas Day                  1983\n",
      "Christmas Day (Observed)          0\n",
      "New Year's Day (Observed)         0\n",
      "Veterans Day (Observed)         738\n",
      "Independence Day (Observed)       0\n",
      "dtype: int64\n"
     ]
    }
   ],
   "source": [
    "nr_of_holidays = (srch_holidays == True).sum()\n",
    "print(nr_of_holidays)"
   ]
  },
  {
   "cell_type": "code",
   "execution_count": 68,
   "metadata": {
    "collapsed": false,
    "jupyter": {
     "outputs_hidden": false
    },
    "pycharm": {
     "name": "#%%\n"
    }
   },
   "outputs": [],
   "source": [
    "df_stage6 = pd.merge(df_stage5, srch_holidays, on='srch_id', how='left')"
   ]
  },
  {
   "cell_type": "markdown",
   "metadata": {
    "pycharm": {
     "name": "#%% md\n"
    }
   },
   "source": [
    "### Pricing features"
   ]
  },
  {
   "cell_type": "markdown",
   "metadata": {
    "pycharm": {
     "name": "#%% md\n"
    }
   },
   "source": [
    "#### Last known property price + difference"
   ]
  },
  {
   "cell_type": "code",
   "execution_count": 69,
   "metadata": {
    "collapsed": false,
    "jupyter": {
     "outputs_hidden": false
    },
    "pycharm": {
     "name": "#%%\n"
    }
   },
   "outputs": [
    {
     "data": {
      "text/html": [
       "<div>\n",
       "<style scoped>\n",
       "    .dataframe tbody tr th:only-of-type {\n",
       "        vertical-align: middle;\n",
       "    }\n",
       "\n",
       "    .dataframe tbody tr th {\n",
       "        vertical-align: top;\n",
       "    }\n",
       "\n",
       "    .dataframe thead th {\n",
       "        text-align: right;\n",
       "    }\n",
       "</style>\n",
       "<table border=\"1\" class=\"dataframe\">\n",
       "  <thead>\n",
       "    <tr style=\"text-align: right;\">\n",
       "      <th></th>\n",
       "      <th>prop_id</th>\n",
       "      <th>srch_id</th>\n",
       "      <th>date_time</th>\n",
       "      <th>price_usd</th>\n",
       "      <th>last_price</th>\n",
       "      <th>diff_last_price</th>\n",
       "    </tr>\n",
       "  </thead>\n",
       "  <tbody>\n",
       "    <tr>\n",
       "      <th>4335788</th>\n",
       "      <td>1</td>\n",
       "      <td>290885</td>\n",
       "      <td>2012-11-04 07:03:31</td>\n",
       "      <td>89.0</td>\n",
       "      <td>89.0</td>\n",
       "      <td>0.00000</td>\n",
       "    </tr>\n",
       "    <tr>\n",
       "      <th>2579011</th>\n",
       "      <td>1</td>\n",
       "      <td>173183</td>\n",
       "      <td>2012-11-06 08:58:26</td>\n",
       "      <td>89.0</td>\n",
       "      <td>89.0</td>\n",
       "      <td>0.00000</td>\n",
       "    </tr>\n",
       "    <tr>\n",
       "      <th>3728222</th>\n",
       "      <td>1</td>\n",
       "      <td>250387</td>\n",
       "      <td>2012-11-08 04:09:33</td>\n",
       "      <td>99.0</td>\n",
       "      <td>89.0</td>\n",
       "      <td>0.11236</td>\n",
       "    </tr>\n",
       "    <tr>\n",
       "      <th>2665876</th>\n",
       "      <td>1</td>\n",
       "      <td>178899</td>\n",
       "      <td>2012-11-09 12:49:16</td>\n",
       "      <td>99.0</td>\n",
       "      <td>99.0</td>\n",
       "      <td>0.00000</td>\n",
       "    </tr>\n",
       "    <tr>\n",
       "      <th>122212</th>\n",
       "      <td>1</td>\n",
       "      <td>8178</td>\n",
       "      <td>2012-11-17 08:14:07</td>\n",
       "      <td>89.0</td>\n",
       "      <td>99.0</td>\n",
       "      <td>-0.10101</td>\n",
       "    </tr>\n",
       "  </tbody>\n",
       "</table>\n",
       "</div>"
      ],
      "text/plain": [
       "         prop_id  srch_id           date_time  price_usd  last_price  \\\n",
       "4335788        1   290885 2012-11-04 07:03:31       89.0        89.0   \n",
       "2579011        1   173183 2012-11-06 08:58:26       89.0        89.0   \n",
       "3728222        1   250387 2012-11-08 04:09:33       99.0        89.0   \n",
       "2665876        1   178899 2012-11-09 12:49:16       99.0        99.0   \n",
       "122212         1     8178 2012-11-17 08:14:07       89.0        99.0   \n",
       "\n",
       "         diff_last_price  \n",
       "4335788          0.00000  \n",
       "2579011          0.00000  \n",
       "3728222          0.11236  \n",
       "2665876          0.00000  \n",
       "122212          -0.10101  "
      ]
     },
     "metadata": {},
     "output_type": "display_data"
    }
   ],
   "source": [
    "df_prop = df[['prop_id', 'srch_id', 'date_time', 'price_usd']].sort_values(['prop_id', 'date_time'])\n",
    "\n",
    "df_prop['last_price'] = df_prop.groupby('prop_id')['price_usd'].shift().fillna(df_prop['price_usd'])  # use same price\n",
    "df_prop['diff_last_price'] = (df_prop['price_usd'] - df_prop['last_price']) / df_prop['last_price']\n",
    "df_prop['diff_last_price'].fillna(0, inplace=True)\n",
    "display(df_prop.head())"
   ]
  },
  {
   "cell_type": "markdown",
   "metadata": {
    "pycharm": {
     "is_executing": true,
     "name": "#%% md\n"
    }
   },
   "source": [
    "#### Expanded min, max, median, std, mean + their difference"
   ]
  },
  {
   "cell_type": "code",
   "execution_count": 70,
   "metadata": {
    "collapsed": false,
    "jupyter": {
     "outputs_hidden": false
    },
    "pycharm": {
     "name": "#%%\n"
    }
   },
   "outputs": [],
   "source": [
    "def percentile(n):\n",
    "    def percentile_(x):\n",
    "        return np.percentile(x, n)\n",
    "    return percentile_"
   ]
  },
  {
   "cell_type": "code",
   "execution_count": null,
   "metadata": {
    "collapsed": false,
    "jupyter": {
     "outputs_hidden": false
    },
    "pycharm": {
     "name": "#%%\n"
    }
   },
   "outputs": [],
   "source": [
    "aggregates = {f'{fn}_price': fn\n",
    "              for fn in ['min', 'max', 'median', 'std', 'mean', 'count']}\n",
    "aggregates.update({'price_percentile_25%': percentile(25), 'price_percentile_75%': percentile(75)})\n",
    "\n",
    "# TODO: Better fill na !!\n",
    "df_prop[list(aggregates.keys())] = df_prop.groupby('prop_id')['price_usd'].expanding().agg(list(aggregates.values())).fillna(0).values"
   ]
  },
  {
   "cell_type": "code",
   "execution_count": null,
   "metadata": {
    "collapsed": false,
    "jupyter": {
     "outputs_hidden": false
    },
    "pycharm": {
     "name": "#%%\n"
    }
   },
   "outputs": [],
   "source": [
    "diff_ignore = ['std', 'count']\n",
    "for col_name, fn in aggregates.items():\n",
    "    if fn in diff_ignore:  # doesn't make sense\n",
    "        continue\n",
    "\n",
    "    df_prop[f'diff_{col_name}'] = (df_prop['price_usd'] - df_prop[col_name]) / df_prop[col_name]\n",
    "    df_prop[f'diff_{col_name}'].fillna(0, inplace=True)\n",
    "\n",
    "df_prop.replace(np.inf, 0, inplace=True)\n",
    "print(df_prop.shape)\n",
    "display(df_prop.head(65))\n",
    "\n",
    "# drop price_usd to avoid duplicates\n",
    "df_prop.drop(columns=['price_usd'], inplace=True)"
   ]
  },
  {
   "cell_type": "code",
   "execution_count": null,
   "metadata": {
    "collapsed": false,
    "jupyter": {
     "outputs_hidden": false
    },
    "pycharm": {
     "name": "#%%\n"
    }
   },
   "outputs": [],
   "source": [
    "df_stage7 = pd.merge(df_stage6, df_prop, on=['srch_id', 'prop_id', 'date_time'], how='left')\n",
    "print(df_stage7.shape)\n",
    "display(df_stage7.head(65))"
   ]
  },
  {
   "cell_type": "markdown",
   "metadata": {
    "pycharm": {
     "name": "#%% md\n"
    }
   },
   "source": [
    "## Features output"
   ]
  },
  {
   "cell_type": "code",
   "execution_count": null,
   "metadata": {
    "collapsed": false,
    "jupyter": {
     "outputs_hidden": false
    },
    "pycharm": {
     "name": "#%%\n"
    }
   },
   "outputs": [],
   "source": [
    "df_stage7.drop(columns=['date_time', 'checkin_date', 'checkout_date'], inplace=True)\n",
    "display(df_stage7.columns)\n",
    "display(df_stage7.describe())"
   ]
  },
  {
   "cell_type": "code",
   "execution_count": null,
   "metadata": {
    "collapsed": false,
    "jupyter": {
     "outputs_hidden": false
    },
    "pycharm": {
     "name": "#%%\n"
    }
   },
   "outputs": [],
   "source": [
    "describ = df_stage7.describe()"
   ]
  },
  {
   "cell_type": "code",
   "execution_count": null,
   "metadata": {
    "collapsed": false,
    "jupyter": {
     "outputs_hidden": false
    },
    "pycharm": {
     "name": "#%%\n"
    }
   },
   "outputs": [],
   "source": [
    "df_stage7.to_pickle('df_features.pkl')"
   ]
  },
  {
   "cell_type": "code",
   "execution_count": null,
   "metadata": {
    "collapsed": false,
    "jupyter": {
     "outputs_hidden": false
    },
    "pycharm": {
     "name": "#%%\n"
    }
   },
   "outputs": [],
   "source": [
    "# TODO: price difference whole dataset => Ursu (2015) suggests cheaper properties have more clicks"
   ]
  }
 ],
 "metadata": {
  "kernelspec": {
   "display_name": "DMT",
   "language": "python",
   "name": "dmt"
  },
  "language_info": {
   "codemirror_mode": {
    "name": "ipython",
    "version": 3
   },
   "file_extension": ".py",
   "mimetype": "text/x-python",
   "name": "python",
   "nbconvert_exporter": "python",
   "pygments_lexer": "ipython3",
   "version": "3.7.10"
  }
 },
 "nbformat": 4,
 "nbformat_minor": 4
}
